{
 "cells": [
  {
   "cell_type": "markdown",
   "id": "3f449eb4",
   "metadata": {},
   "source": [
    "# Spotify Data Clustering Using K-Means"
   ]
  },
  {
   "cell_type": "markdown",
   "id": "5dae3a4a",
   "metadata": {},
   "source": [
    "## 01 Importing Libraries and Data"
   ]
  },
  {
   "cell_type": "code",
   "execution_count": 1,
   "id": "92f91064",
   "metadata": {},
   "outputs": [],
   "source": [
    "import pandas as pd\n",
    "import numpy as np\n",
    "import seaborn as sns\n",
    "import matplotlib\n",
    "import matplotlib.pyplot as plt\n",
    "import datetime\n",
    "import os \n",
    "import sklearn\n",
    "from sklearn.cluster import KMeans\n",
    "import pylab as pl\n",
    "%matplotlib inline "
   ]
  },
  {
   "cell_type": "code",
   "execution_count": 2,
   "id": "50ead05f",
   "metadata": {},
   "outputs": [],
   "source": [
    "path = '/Users/brookecoffey/Desktop/DataAnalyticsTy/Achievement 6 /Spotify Project'"
   ]
  },
  {
   "cell_type": "code",
   "execution_count": 3,
   "id": "732a8509",
   "metadata": {},
   "outputs": [],
   "source": [
    "df = pd.read_pickle(os.path.join(path, '01 Data', '02 Prepared Data', 'no_podcasts.pkl'))"
   ]
  },
  {
   "cell_type": "code",
   "execution_count": 4,
   "id": "06aeb56d",
   "metadata": {},
   "outputs": [
    {
     "data": {
      "text/plain": [
       "(169482, 28)"
      ]
     },
     "execution_count": 4,
     "metadata": {},
     "output_type": "execute_result"
    }
   ],
   "source": [
    "df.shape"
   ]
  },
  {
   "cell_type": "code",
   "execution_count": 5,
   "id": "019ccd5c",
   "metadata": {},
   "outputs": [
    {
     "name": "stdout",
     "output_type": "stream",
     "text": [
      "<class 'pandas.core.frame.DataFrame'>\n",
      "Int64Index: 169482 entries, 0 to 173284\n",
      "Data columns (total 28 columns):\n",
      " #   Column                             Non-Null Count   Dtype         \n",
      "---  ------                             --------------   -----         \n",
      " 0   ts                                 169482 non-null  datetime64[ns]\n",
      " 1   platform                           169482 non-null  object        \n",
      " 2   ms_played                          169482 non-null  int64         \n",
      " 3   conn_country                       169482 non-null  object        \n",
      " 4   master_metadata_track_name         169482 non-null  object        \n",
      " 5   master_metadata_album_artist_name  169482 non-null  object        \n",
      " 6   master_metadata_album_album_name   169482 non-null  object        \n",
      " 7   spotify_track_uri                  169482 non-null  object        \n",
      " 8   episode_name                       0 non-null       object        \n",
      " 9   episode_show_name                  0 non-null       object        \n",
      " 10  spotify_episode_uri                0 non-null       object        \n",
      " 11  reason_start                       169482 non-null  object        \n",
      " 12  reason_end                         169482 non-null  object        \n",
      " 13  shuffle                            169482 non-null  bool          \n",
      " 14  skipped_x                          169482 non-null  object        \n",
      " 15  offline                            169482 non-null  bool          \n",
      " 16  latitude                           169224 non-null  float64       \n",
      " 17  longitude                          169224 non-null  float64       \n",
      " 18  region                             169482 non-null  object        \n",
      " 19  minutes_seconds                    169482 non-null  object        \n",
      " 20  year                               169482 non-null  int64         \n",
      " 21  month                              169482 non-null  int64         \n",
      " 22  day_of_week                        169482 non-null  int64         \n",
      " 23  hour_of_day                        169482 non-null  int64         \n",
      " 24  skipped_ratio                      154605 non-null  float64       \n",
      " 25  skip_prob                          169482 non-null  object        \n",
      " 26  count_y                            169482 non-null  float64       \n",
      " 27  listening_frequency                169482 non-null  object        \n",
      "dtypes: bool(2), datetime64[ns](1), float64(4), int64(5), object(16)\n",
      "memory usage: 35.2+ MB\n"
     ]
    }
   ],
   "source": [
    "df.info()"
   ]
  },
  {
   "cell_type": "code",
   "execution_count": 6,
   "id": "cc536a33",
   "metadata": {},
   "outputs": [
    {
     "data": {
      "text/html": [
       "<div>\n",
       "<style scoped>\n",
       "    .dataframe tbody tr th:only-of-type {\n",
       "        vertical-align: middle;\n",
       "    }\n",
       "\n",
       "    .dataframe tbody tr th {\n",
       "        vertical-align: top;\n",
       "    }\n",
       "\n",
       "    .dataframe thead th {\n",
       "        text-align: right;\n",
       "    }\n",
       "</style>\n",
       "<table border=\"1\" class=\"dataframe\">\n",
       "  <thead>\n",
       "    <tr style=\"text-align: right;\">\n",
       "      <th></th>\n",
       "      <th>ts</th>\n",
       "      <th>platform</th>\n",
       "      <th>ms_played</th>\n",
       "      <th>conn_country</th>\n",
       "      <th>master_metadata_track_name</th>\n",
       "      <th>master_metadata_album_artist_name</th>\n",
       "      <th>master_metadata_album_album_name</th>\n",
       "      <th>spotify_track_uri</th>\n",
       "      <th>episode_name</th>\n",
       "      <th>episode_show_name</th>\n",
       "      <th>...</th>\n",
       "      <th>region</th>\n",
       "      <th>minutes_seconds</th>\n",
       "      <th>year</th>\n",
       "      <th>month</th>\n",
       "      <th>day_of_week</th>\n",
       "      <th>hour_of_day</th>\n",
       "      <th>skipped_ratio</th>\n",
       "      <th>skip_prob</th>\n",
       "      <th>count_y</th>\n",
       "      <th>listening_frequency</th>\n",
       "    </tr>\n",
       "  </thead>\n",
       "  <tbody>\n",
       "    <tr>\n",
       "      <th>0</th>\n",
       "      <td>2012-07-17 02:48:23</td>\n",
       "      <td>iOS 5.1.1 (iPod4,1)</td>\n",
       "      <td>231177</td>\n",
       "      <td>US</td>\n",
       "      <td>It's Time</td>\n",
       "      <td>Imagine Dragons</td>\n",
       "      <td>Continued Silence EP</td>\n",
       "      <td>spotify:track:40xtweuHBkLXNMO3xCK5AZ</td>\n",
       "      <td>NaN</td>\n",
       "      <td>NaN</td>\n",
       "      <td>...</td>\n",
       "      <td>Pennsylvania</td>\n",
       "      <td>03:51</td>\n",
       "      <td>2012</td>\n",
       "      <td>7</td>\n",
       "      <td>1</td>\n",
       "      <td>2</td>\n",
       "      <td>inf</td>\n",
       "      <td>very likely to be skipped</td>\n",
       "      <td>3.0</td>\n",
       "      <td>Low Frequency</td>\n",
       "    </tr>\n",
       "    <tr>\n",
       "      <th>1</th>\n",
       "      <td>2012-07-17 22:26:20</td>\n",
       "      <td>iOS 5.1.1 (iPod4,1)</td>\n",
       "      <td>25727</td>\n",
       "      <td>US</td>\n",
       "      <td>Jump (feat. Nelly Furtado)</td>\n",
       "      <td>Flo Rida</td>\n",
       "      <td>R.O.O.T.S. (Route of Overcoming the Struggle)</td>\n",
       "      <td>spotify:track:4uGucgzv0ydi35DgAlsTQ4</td>\n",
       "      <td>NaN</td>\n",
       "      <td>NaN</td>\n",
       "      <td>...</td>\n",
       "      <td>Pennsylvania</td>\n",
       "      <td>00:25</td>\n",
       "      <td>2012</td>\n",
       "      <td>7</td>\n",
       "      <td>1</td>\n",
       "      <td>22</td>\n",
       "      <td>NaN</td>\n",
       "      <td>fwdbtn</td>\n",
       "      <td>1.0</td>\n",
       "      <td>Only Played Once</td>\n",
       "    </tr>\n",
       "    <tr>\n",
       "      <th>2</th>\n",
       "      <td>2012-07-17 22:26:23</td>\n",
       "      <td>iOS 5.1.1 (iPod4,1)</td>\n",
       "      <td>3436</td>\n",
       "      <td>US</td>\n",
       "      <td>I Know You Want Me (Calle Ocho)</td>\n",
       "      <td>Pitbull</td>\n",
       "      <td>Pitbull Starring In Rebelution</td>\n",
       "      <td>spotify:track:5RzFJd6W40SDTyZkX6xx45</td>\n",
       "      <td>NaN</td>\n",
       "      <td>NaN</td>\n",
       "      <td>...</td>\n",
       "      <td>Pennsylvania</td>\n",
       "      <td>00:03</td>\n",
       "      <td>2012</td>\n",
       "      <td>7</td>\n",
       "      <td>1</td>\n",
       "      <td>22</td>\n",
       "      <td>2.0</td>\n",
       "      <td>very likely to be skipped</td>\n",
       "      <td>5.0</td>\n",
       "      <td>Low Frequency</td>\n",
       "    </tr>\n",
       "    <tr>\n",
       "      <th>3</th>\n",
       "      <td>2012-07-17 22:26:24</td>\n",
       "      <td>iOS 5.1.1 (iPod4,1)</td>\n",
       "      <td>1532</td>\n",
       "      <td>US</td>\n",
       "      <td>Over And Over</td>\n",
       "      <td>Nelly</td>\n",
       "      <td>6 Pack</td>\n",
       "      <td>spotify:track:2Gfr96HuhYqGcteLv9XUJP</td>\n",
       "      <td>NaN</td>\n",
       "      <td>NaN</td>\n",
       "      <td>...</td>\n",
       "      <td>Pennsylvania</td>\n",
       "      <td>00:01</td>\n",
       "      <td>2012</td>\n",
       "      <td>7</td>\n",
       "      <td>1</td>\n",
       "      <td>22</td>\n",
       "      <td>NaN</td>\n",
       "      <td>fwdbtn</td>\n",
       "      <td>1.0</td>\n",
       "      <td>Only Played Once</td>\n",
       "    </tr>\n",
       "    <tr>\n",
       "      <th>4</th>\n",
       "      <td>2012-07-17 22:26:26</td>\n",
       "      <td>iOS 5.1.1 (iPod4,1)</td>\n",
       "      <td>1486</td>\n",
       "      <td>US</td>\n",
       "      <td>Pause</td>\n",
       "      <td>Pitbull</td>\n",
       "      <td>Planet Pit (Deluxe Version)</td>\n",
       "      <td>spotify:track:0c7wqpBLOTFr1yb70LHGFM</td>\n",
       "      <td>NaN</td>\n",
       "      <td>NaN</td>\n",
       "      <td>...</td>\n",
       "      <td>Pennsylvania</td>\n",
       "      <td>00:01</td>\n",
       "      <td>2012</td>\n",
       "      <td>7</td>\n",
       "      <td>1</td>\n",
       "      <td>22</td>\n",
       "      <td>NaN</td>\n",
       "      <td>fwdbtn</td>\n",
       "      <td>1.0</td>\n",
       "      <td>Only Played Once</td>\n",
       "    </tr>\n",
       "  </tbody>\n",
       "</table>\n",
       "<p>5 rows × 28 columns</p>\n",
       "</div>"
      ],
      "text/plain": [
       "                   ts             platform  ms_played conn_country  \\\n",
       "0 2012-07-17 02:48:23  iOS 5.1.1 (iPod4,1)     231177           US   \n",
       "1 2012-07-17 22:26:20  iOS 5.1.1 (iPod4,1)      25727           US   \n",
       "2 2012-07-17 22:26:23  iOS 5.1.1 (iPod4,1)       3436           US   \n",
       "3 2012-07-17 22:26:24  iOS 5.1.1 (iPod4,1)       1532           US   \n",
       "4 2012-07-17 22:26:26  iOS 5.1.1 (iPod4,1)       1486           US   \n",
       "\n",
       "        master_metadata_track_name master_metadata_album_artist_name  \\\n",
       "0                        It's Time                   Imagine Dragons   \n",
       "1       Jump (feat. Nelly Furtado)                          Flo Rida   \n",
       "2  I Know You Want Me (Calle Ocho)                           Pitbull   \n",
       "3                    Over And Over                             Nelly   \n",
       "4                            Pause                           Pitbull   \n",
       "\n",
       "                master_metadata_album_album_name  \\\n",
       "0                           Continued Silence EP   \n",
       "1  R.O.O.T.S. (Route of Overcoming the Struggle)   \n",
       "2                 Pitbull Starring In Rebelution   \n",
       "3                                         6 Pack   \n",
       "4                    Planet Pit (Deluxe Version)   \n",
       "\n",
       "                      spotify_track_uri episode_name episode_show_name  ...  \\\n",
       "0  spotify:track:40xtweuHBkLXNMO3xCK5AZ          NaN               NaN  ...   \n",
       "1  spotify:track:4uGucgzv0ydi35DgAlsTQ4          NaN               NaN  ...   \n",
       "2  spotify:track:5RzFJd6W40SDTyZkX6xx45          NaN               NaN  ...   \n",
       "3  spotify:track:2Gfr96HuhYqGcteLv9XUJP          NaN               NaN  ...   \n",
       "4  spotify:track:0c7wqpBLOTFr1yb70LHGFM          NaN               NaN  ...   \n",
       "\n",
       "         region minutes_seconds  year  month day_of_week  hour_of_day  \\\n",
       "0  Pennsylvania           03:51  2012      7           1            2   \n",
       "1  Pennsylvania           00:25  2012      7           1           22   \n",
       "2  Pennsylvania           00:03  2012      7           1           22   \n",
       "3  Pennsylvania           00:01  2012      7           1           22   \n",
       "4  Pennsylvania           00:01  2012      7           1           22   \n",
       "\n",
       "   skipped_ratio                  skip_prob count_y listening_frequency  \n",
       "0            inf  very likely to be skipped     3.0       Low Frequency  \n",
       "1            NaN                     fwdbtn     1.0    Only Played Once  \n",
       "2            2.0  very likely to be skipped     5.0       Low Frequency  \n",
       "3            NaN                     fwdbtn     1.0    Only Played Once  \n",
       "4            NaN                     fwdbtn     1.0    Only Played Once  \n",
       "\n",
       "[5 rows x 28 columns]"
      ]
     },
     "execution_count": 6,
     "metadata": {},
     "output_type": "execute_result"
    }
   ],
   "source": [
    "df.head()"
   ]
  },
  {
   "cell_type": "code",
   "execution_count": 7,
   "id": "0f999456",
   "metadata": {},
   "outputs": [
    {
     "data": {
      "text/plain": [
       "Index(['ts', 'platform', 'ms_played', 'conn_country',\n",
       "       'master_metadata_track_name', 'master_metadata_album_artist_name',\n",
       "       'master_metadata_album_album_name', 'spotify_track_uri', 'episode_name',\n",
       "       'episode_show_name', 'spotify_episode_uri', 'reason_start',\n",
       "       'reason_end', 'shuffle', 'skipped_x', 'offline', 'latitude',\n",
       "       'longitude', 'region', 'minutes_seconds', 'year', 'month',\n",
       "       'day_of_week', 'hour_of_day', 'skipped_ratio', 'skip_prob', 'count_y',\n",
       "       'listening_frequency'],\n",
       "      dtype='object')"
      ]
     },
     "execution_count": 7,
     "metadata": {},
     "output_type": "execute_result"
    }
   ],
   "source": [
    "df.columns"
   ]
  },
  {
   "cell_type": "code",
   "execution_count": 8,
   "id": "4e1089dc",
   "metadata": {},
   "outputs": [],
   "source": [
    "# Dropping categorical information for Kmeans clustering \n",
    "df_no_cat = df.drop(columns=['platform','conn_country','master_metadata_album_artist_name',\n",
    "       'master_metadata_album_album_name', 'spotify_track_uri', 'episode_name',\n",
    "       'episode_show_name', 'spotify_episode_uri', 'reason_start',\n",
    "       'reason_end', 'shuffle', 'skipped_x', 'offline', 'latitude',\n",
    "       'longitude', 'region', 'minutes_seconds', 'year', 'month',\n",
    "       'day_of_week', 'hour_of_day', 'skipped_ratio', 'skip_prob', 'count_y',\n",
    "       'listening_frequency'])"
   ]
  },
  {
   "cell_type": "code",
   "execution_count": 9,
   "id": "7b3cdf26",
   "metadata": {},
   "outputs": [],
   "source": [
    "# Turning data into weekly data again for clustering analysis "
   ]
  },
  {
   "cell_type": "code",
   "execution_count": 10,
   "id": "9087b4f9",
   "metadata": {},
   "outputs": [
    {
     "name": "stdout",
     "output_type": "stream",
     "text": [
      "            Total Tracks Played  Total Milliseconds Played\n",
      "ts                                                        \n",
      "2012-07-22                  289                    4888728\n",
      "2012-07-29                    6                      19594\n",
      "2012-08-05                   21                    2211644\n",
      "2012-08-12                    4                     335259\n",
      "2012-08-19                   65                    5859256\n",
      "...                         ...                        ...\n",
      "2023-07-30                  579                   49525838\n",
      "2023-08-06                  265                   65626116\n",
      "2023-08-13                  367                   61990298\n",
      "2023-08-20                  592                   82483378\n",
      "2023-08-27                  545                   42746412\n",
      "\n",
      "[580 rows x 2 columns]\n"
     ]
    }
   ],
   "source": [
    "# Group by week and count the total number of tracks played in each week\n",
    "tracks_played = df_no_cat.groupby(pd.Grouper(key='ts', freq='W')).size()\n",
    "\n",
    "# Group by week and sum the milliseconds played in each week\n",
    "ms_played = df_no_cat.groupby(pd.Grouper(key='ts', freq='W'))['ms_played'].sum()\n",
    "\n",
    "# Concatenate the two Series into a single DataFrame\n",
    "result_df = pd.concat([tracks_played, ms_played], axis=1)\n",
    "result_df.columns = ['Total Tracks Played', 'Total Milliseconds Played']\n",
    "\n",
    "# Display the aggregated data with week\n",
    "print(result_df)"
   ]
  },
  {
   "cell_type": "code",
   "execution_count": 11,
   "id": "0ce33529",
   "metadata": {},
   "outputs": [],
   "source": [
    "# turning milliseconds into minutes for easier scaling \n",
    "result_df['minutes_played'] = result_df['Total Milliseconds Played'] / 60000"
   ]
  },
  {
   "cell_type": "code",
   "execution_count": 12,
   "id": "0a631072",
   "metadata": {},
   "outputs": [],
   "source": [
    "result_df = result_df.drop(columns='Total Milliseconds Played')"
   ]
  },
  {
   "cell_type": "code",
   "execution_count": 13,
   "id": "0f5aa193",
   "metadata": {},
   "outputs": [
    {
     "data": {
      "text/html": [
       "<div>\n",
       "<style scoped>\n",
       "    .dataframe tbody tr th:only-of-type {\n",
       "        vertical-align: middle;\n",
       "    }\n",
       "\n",
       "    .dataframe tbody tr th {\n",
       "        vertical-align: top;\n",
       "    }\n",
       "\n",
       "    .dataframe thead th {\n",
       "        text-align: right;\n",
       "    }\n",
       "</style>\n",
       "<table border=\"1\" class=\"dataframe\">\n",
       "  <thead>\n",
       "    <tr style=\"text-align: right;\">\n",
       "      <th></th>\n",
       "      <th>Total Tracks Played</th>\n",
       "      <th>minutes_played</th>\n",
       "    </tr>\n",
       "    <tr>\n",
       "      <th>ts</th>\n",
       "      <th></th>\n",
       "      <th></th>\n",
       "    </tr>\n",
       "  </thead>\n",
       "  <tbody>\n",
       "    <tr>\n",
       "      <th>2012-07-22</th>\n",
       "      <td>289</td>\n",
       "      <td>81.478800</td>\n",
       "    </tr>\n",
       "    <tr>\n",
       "      <th>2012-07-29</th>\n",
       "      <td>6</td>\n",
       "      <td>0.326567</td>\n",
       "    </tr>\n",
       "    <tr>\n",
       "      <th>2012-08-05</th>\n",
       "      <td>21</td>\n",
       "      <td>36.860733</td>\n",
       "    </tr>\n",
       "    <tr>\n",
       "      <th>2012-08-12</th>\n",
       "      <td>4</td>\n",
       "      <td>5.587650</td>\n",
       "    </tr>\n",
       "    <tr>\n",
       "      <th>2012-08-19</th>\n",
       "      <td>65</td>\n",
       "      <td>97.654267</td>\n",
       "    </tr>\n",
       "    <tr>\n",
       "      <th>...</th>\n",
       "      <td>...</td>\n",
       "      <td>...</td>\n",
       "    </tr>\n",
       "    <tr>\n",
       "      <th>2023-07-30</th>\n",
       "      <td>579</td>\n",
       "      <td>825.430633</td>\n",
       "    </tr>\n",
       "    <tr>\n",
       "      <th>2023-08-06</th>\n",
       "      <td>265</td>\n",
       "      <td>1093.768600</td>\n",
       "    </tr>\n",
       "    <tr>\n",
       "      <th>2023-08-13</th>\n",
       "      <td>367</td>\n",
       "      <td>1033.171633</td>\n",
       "    </tr>\n",
       "    <tr>\n",
       "      <th>2023-08-20</th>\n",
       "      <td>592</td>\n",
       "      <td>1374.722967</td>\n",
       "    </tr>\n",
       "    <tr>\n",
       "      <th>2023-08-27</th>\n",
       "      <td>545</td>\n",
       "      <td>712.440200</td>\n",
       "    </tr>\n",
       "  </tbody>\n",
       "</table>\n",
       "<p>580 rows × 2 columns</p>\n",
       "</div>"
      ],
      "text/plain": [
       "            Total Tracks Played  minutes_played\n",
       "ts                                             \n",
       "2012-07-22                  289       81.478800\n",
       "2012-07-29                    6        0.326567\n",
       "2012-08-05                   21       36.860733\n",
       "2012-08-12                    4        5.587650\n",
       "2012-08-19                   65       97.654267\n",
       "...                         ...             ...\n",
       "2023-07-30                  579      825.430633\n",
       "2023-08-06                  265     1093.768600\n",
       "2023-08-13                  367     1033.171633\n",
       "2023-08-20                  592     1374.722967\n",
       "2023-08-27                  545      712.440200\n",
       "\n",
       "[580 rows x 2 columns]"
      ]
     },
     "execution_count": 13,
     "metadata": {},
     "output_type": "execute_result"
    }
   ],
   "source": [
    "result_df"
   ]
  },
  {
   "cell_type": "markdown",
   "id": "e02faae4",
   "metadata": {},
   "source": [
    "## 03 Applying Elbow Technique to Determine Number of Clusters"
   ]
  },
  {
   "cell_type": "code",
   "execution_count": 14,
   "id": "aee9e8ba",
   "metadata": {},
   "outputs": [],
   "source": [
    "num_cl = range(1,10)\n",
    "kmeans = [KMeans(n_clusters=i) for i in num_cl]"
   ]
  },
  {
   "cell_type": "code",
   "execution_count": 15,
   "id": "befa7c11",
   "metadata": {},
   "outputs": [
    {
     "name": "stderr",
     "output_type": "stream",
     "text": [
      "/Users/brookecoffey/anaconda3/lib/python3.10/site-packages/sklearn/cluster/_kmeans.py:870: FutureWarning: The default value of `n_init` will change from 10 to 'auto' in 1.4. Set the value of `n_init` explicitly to suppress the warning\n",
      "  warnings.warn(\n",
      "/Users/brookecoffey/anaconda3/lib/python3.10/site-packages/sklearn/cluster/_kmeans.py:870: FutureWarning: The default value of `n_init` will change from 10 to 'auto' in 1.4. Set the value of `n_init` explicitly to suppress the warning\n",
      "  warnings.warn(\n",
      "/Users/brookecoffey/anaconda3/lib/python3.10/site-packages/sklearn/cluster/_kmeans.py:870: FutureWarning: The default value of `n_init` will change from 10 to 'auto' in 1.4. Set the value of `n_init` explicitly to suppress the warning\n",
      "  warnings.warn(\n",
      "/Users/brookecoffey/anaconda3/lib/python3.10/site-packages/sklearn/cluster/_kmeans.py:870: FutureWarning: The default value of `n_init` will change from 10 to 'auto' in 1.4. Set the value of `n_init` explicitly to suppress the warning\n",
      "  warnings.warn(\n",
      "/Users/brookecoffey/anaconda3/lib/python3.10/site-packages/sklearn/cluster/_kmeans.py:870: FutureWarning: The default value of `n_init` will change from 10 to 'auto' in 1.4. Set the value of `n_init` explicitly to suppress the warning\n",
      "  warnings.warn(\n",
      "/Users/brookecoffey/anaconda3/lib/python3.10/site-packages/sklearn/cluster/_kmeans.py:870: FutureWarning: The default value of `n_init` will change from 10 to 'auto' in 1.4. Set the value of `n_init` explicitly to suppress the warning\n",
      "  warnings.warn(\n",
      "/Users/brookecoffey/anaconda3/lib/python3.10/site-packages/sklearn/cluster/_kmeans.py:870: FutureWarning: The default value of `n_init` will change from 10 to 'auto' in 1.4. Set the value of `n_init` explicitly to suppress the warning\n",
      "  warnings.warn(\n",
      "/Users/brookecoffey/anaconda3/lib/python3.10/site-packages/sklearn/cluster/_kmeans.py:870: FutureWarning: The default value of `n_init` will change from 10 to 'auto' in 1.4. Set the value of `n_init` explicitly to suppress the warning\n",
      "  warnings.warn(\n",
      "/Users/brookecoffey/anaconda3/lib/python3.10/site-packages/sklearn/cluster/_kmeans.py:870: FutureWarning: The default value of `n_init` will change from 10 to 'auto' in 1.4. Set the value of `n_init` explicitly to suppress the warning\n",
      "  warnings.warn(\n"
     ]
    },
    {
     "data": {
      "text/plain": [
       "[-397582215.0284127,\n",
       " -122752648.36128366,\n",
       " -56534244.461624905,\n",
       " -35776952.755222626,\n",
       " -26065031.65122527,\n",
       " -21146685.594982922,\n",
       " -17276594.18246173,\n",
       " -14803517.6040495,\n",
       " -12792090.598677294]"
      ]
     },
     "execution_count": 15,
     "metadata": {},
     "output_type": "execute_result"
    }
   ],
   "source": [
    "score = [kmeans[i].fit(result_df).score(result_df) for i in range(len(kmeans))]\n",
    "\n",
    "score"
   ]
  },
  {
   "cell_type": "code",
   "execution_count": 16,
   "id": "0f4e6032",
   "metadata": {},
   "outputs": [
    {
     "data": {
      "image/png": "[encoded data removed]",
      "text/plain": [
       "<Figure size 640x480 with 1 Axes>"
      ]
     },
     "metadata": {},
     "output_type": "display_data"
    }
   ],
   "source": [
    "# plotting the elbow curve using PyLab.\n",
    "pl.plot(num_cl, score)\n",
    "pl.xlabel('Number of Clusters')\n",
    "pl.ylabel('Score')\n",
    "pl.title('Elbow Curve')\n",
    "pl.show()"
   ]
  },
  {
   "cell_type": "markdown",
   "id": "edf0f091",
   "metadata": {},
   "source": [
    "###  Based on the output above, it seems that the ideal number of clusters is 4, as that's where the curve straightens out"
   ]
  },
  {
   "cell_type": "markdown",
   "id": "de3c0cf4",
   "metadata": {},
   "source": [
    "## 04 KMeans Clustering "
   ]
  },
  {
   "cell_type": "code",
   "execution_count": 17,
   "id": "8ce1eee7",
   "metadata": {},
   "outputs": [],
   "source": [
    "# Create the kmeans object. \n",
    "kmeans = KMeans(n_clusters = 4)"
   ]
  },
  {
   "cell_type": "code",
   "execution_count": 18,
   "id": "f21d6fed",
   "metadata": {},
   "outputs": [
    {
     "name": "stderr",
     "output_type": "stream",
     "text": [
      "/Users/brookecoffey/anaconda3/lib/python3.10/site-packages/sklearn/cluster/_kmeans.py:870: FutureWarning: The default value of `n_init` will change from 10 to 'auto' in 1.4. Set the value of `n_init` explicitly to suppress the warning\n",
      "  warnings.warn(\n"
     ]
    },
    {
     "data": {
      "text/html": [
       "<style>#sk-container-id-1 {color: black;background-color: white;}#sk-container-id-1 pre{padding: 0;}#sk-container-id-1 div.sk-toggleable {background-color: white;}#sk-container-id-1 label.sk-toggleable__label {cursor: pointer;display: block;width: 100%;margin-bottom: 0;padding: 0.3em;box-sizing: border-box;text-align: center;}#sk-container-id-1 label.sk-toggleable__label-arrow:before {content: \"▸\";float: left;margin-right: 0.25em;color: #696969;}#sk-container-id-1 label.sk-toggleable__label-arrow:hover:before {color: black;}#sk-container-id-1 div.sk-estimator:hover label.sk-toggleable__label-arrow:before {color: black;}#sk-container-id-1 div.sk-toggleable__content {max-height: 0;max-width: 0;overflow: hidden;text-align: left;background-color: #f0f8ff;}#sk-container-id-1 div.sk-toggleable__content pre {margin: 0.2em;color: black;border-radius: 0.25em;background-color: #f0f8ff;}#sk-container-id-1 input.sk-toggleable__control:checked~div.sk-toggleable__content {max-height: 200px;max-width: 100%;overflow: auto;}#sk-container-id-1 input.sk-toggleable__control:checked~label.sk-toggleable__label-arrow:before {content: \"▾\";}#sk-container-id-1 div.sk-estimator input.sk-toggleable__control:checked~label.sk-toggleable__label {background-color: #d4ebff;}#sk-container-id-1 div.sk-label input.sk-toggleable__control:checked~label.sk-toggleable__label {background-color: #d4ebff;}#sk-container-id-1 input.sk-hidden--visually {border: 0;clip: rect(1px 1px 1px 1px);clip: rect(1px, 1px, 1px, 1px);height: 1px;margin: -1px;overflow: hidden;padding: 0;position: absolute;width: 1px;}#sk-container-id-1 div.sk-estimator {font-family: monospace;background-color: #f0f8ff;border: 1px dotted black;border-radius: 0.25em;box-sizing: border-box;margin-bottom: 0.5em;}#sk-container-id-1 div.sk-estimator:hover {background-color: #d4ebff;}#sk-container-id-1 div.sk-parallel-item::after {content: \"\";width: 100%;border-bottom: 1px solid gray;flex-grow: 1;}#sk-container-id-1 div.sk-label:hover label.sk-toggleable__label {background-color: #d4ebff;}#sk-container-id-1 div.sk-serial::before {content: \"\";position: absolute;border-left: 1px solid gray;box-sizing: border-box;top: 0;bottom: 0;left: 50%;z-index: 0;}#sk-container-id-1 div.sk-serial {display: flex;flex-direction: column;align-items: center;background-color: white;padding-right: 0.2em;padding-left: 0.2em;position: relative;}#sk-container-id-1 div.sk-item {position: relative;z-index: 1;}#sk-container-id-1 div.sk-parallel {display: flex;align-items: stretch;justify-content: center;background-color: white;position: relative;}#sk-container-id-1 div.sk-item::before, #sk-container-id-1 div.sk-parallel-item::before {content: \"\";position: absolute;border-left: 1px solid gray;box-sizing: border-box;top: 0;bottom: 0;left: 50%;z-index: -1;}#sk-container-id-1 div.sk-parallel-item {display: flex;flex-direction: column;z-index: 1;position: relative;background-color: white;}#sk-container-id-1 div.sk-parallel-item:first-child::after {align-self: flex-end;width: 50%;}#sk-container-id-1 div.sk-parallel-item:last-child::after {align-self: flex-start;width: 50%;}#sk-container-id-1 div.sk-parallel-item:only-child::after {width: 0;}#sk-container-id-1 div.sk-dashed-wrapped {border: 1px dashed gray;margin: 0 0.4em 0.5em 0.4em;box-sizing: border-box;padding-bottom: 0.4em;background-color: white;}#sk-container-id-1 div.sk-label label {font-family: monospace;font-weight: bold;display: inline-block;line-height: 1.2em;}#sk-container-id-1 div.sk-label-container {text-align: center;}#sk-container-id-1 div.sk-container {/* jupyter's `normalize.less` sets `[hidden] { display: none; }` but bootstrap.min.css set `[hidden] { display: none !important; }` so we also need the `!important` here to be able to override the default hidden behavior on the sphinx rendered scikit-learn.org. See: https://github.com/scikit-learn/scikit-learn/issues/21755 */display: inline-block !important;position: relative;}#sk-container-id-1 div.sk-text-repr-fallback {display: none;}</style><div id=\"sk-container-id-1\" class=\"sk-top-container\"><div class=\"sk-text-repr-fallback\"><pre>KMeans(n_clusters=4)</pre><b>In a Jupyter environment, please rerun this cell to show the HTML representation or trust the notebook. <br />On GitHub, the HTML representation is unable to render, please try loading this page with nbviewer.org.</b></div><div class=\"sk-container\" hidden><div class=\"sk-item\"><div class=\"sk-estimator sk-toggleable\"><input class=\"sk-toggleable__control sk-hidden--visually\" id=\"sk-estimator-id-1\" type=\"checkbox\" checked><label for=\"sk-estimator-id-1\" class=\"sk-toggleable__label sk-toggleable__label-arrow\">KMeans</label><div class=\"sk-toggleable__content\"><pre>KMeans(n_clusters=4)</pre></div></div></div></div></div>"
      ],
      "text/plain": [
       "KMeans(n_clusters=4)"
      ]
     },
     "execution_count": 18,
     "metadata": {},
     "output_type": "execute_result"
    }
   ],
   "source": [
    "kmeans.fit(result_df)"
   ]
  },
  {
   "cell_type": "code",
   "execution_count": 19,
   "id": "038d899d",
   "metadata": {},
   "outputs": [
    {
     "name": "stderr",
     "output_type": "stream",
     "text": [
      "/Users/brookecoffey/anaconda3/lib/python3.10/site-packages/sklearn/cluster/_kmeans.py:870: FutureWarning: The default value of `n_init` will change from 10 to 'auto' in 1.4. Set the value of `n_init` explicitly to suppress the warning\n",
      "  warnings.warn(\n"
     ]
    }
   ],
   "source": [
    "result_df['clusters'] = kmeans.fit_predict(result_df)"
   ]
  },
  {
   "cell_type": "code",
   "execution_count": 20,
   "id": "9eddeb39",
   "metadata": {},
   "outputs": [
    {
     "data": {
      "text/html": [
       "<div>\n",
       "<style scoped>\n",
       "    .dataframe tbody tr th:only-of-type {\n",
       "        vertical-align: middle;\n",
       "    }\n",
       "\n",
       "    .dataframe tbody tr th {\n",
       "        vertical-align: top;\n",
       "    }\n",
       "\n",
       "    .dataframe thead th {\n",
       "        text-align: right;\n",
       "    }\n",
       "</style>\n",
       "<table border=\"1\" class=\"dataframe\">\n",
       "  <thead>\n",
       "    <tr style=\"text-align: right;\">\n",
       "      <th></th>\n",
       "      <th>Total Tracks Played</th>\n",
       "      <th>minutes_played</th>\n",
       "      <th>clusters</th>\n",
       "    </tr>\n",
       "    <tr>\n",
       "      <th>ts</th>\n",
       "      <th></th>\n",
       "      <th></th>\n",
       "      <th></th>\n",
       "    </tr>\n",
       "  </thead>\n",
       "  <tbody>\n",
       "    <tr>\n",
       "      <th>2012-07-22</th>\n",
       "      <td>289</td>\n",
       "      <td>81.478800</td>\n",
       "      <td>2</td>\n",
       "    </tr>\n",
       "    <tr>\n",
       "      <th>2012-07-29</th>\n",
       "      <td>6</td>\n",
       "      <td>0.326567</td>\n",
       "      <td>2</td>\n",
       "    </tr>\n",
       "    <tr>\n",
       "      <th>2012-08-05</th>\n",
       "      <td>21</td>\n",
       "      <td>36.860733</td>\n",
       "      <td>2</td>\n",
       "    </tr>\n",
       "    <tr>\n",
       "      <th>2012-08-12</th>\n",
       "      <td>4</td>\n",
       "      <td>5.587650</td>\n",
       "      <td>2</td>\n",
       "    </tr>\n",
       "    <tr>\n",
       "      <th>2012-08-19</th>\n",
       "      <td>65</td>\n",
       "      <td>97.654267</td>\n",
       "      <td>2</td>\n",
       "    </tr>\n",
       "  </tbody>\n",
       "</table>\n",
       "</div>"
      ],
      "text/plain": [
       "            Total Tracks Played  minutes_played  clusters\n",
       "ts                                                       \n",
       "2012-07-22                  289       81.478800         2\n",
       "2012-07-29                    6        0.326567         2\n",
       "2012-08-05                   21       36.860733         2\n",
       "2012-08-12                    4        5.587650         2\n",
       "2012-08-19                   65       97.654267         2"
      ]
     },
     "execution_count": 20,
     "metadata": {},
     "output_type": "execute_result"
    }
   ],
   "source": [
    "result_df.head()"
   ]
  },
  {
   "cell_type": "code",
   "execution_count": 21,
   "id": "19bbadbc",
   "metadata": {},
   "outputs": [
    {
     "data": {
      "text/plain": [
       "2    279\n",
       "1    176\n",
       "3    100\n",
       "0     25\n",
       "Name: clusters, dtype: int64"
      ]
     },
     "execution_count": 21,
     "metadata": {},
     "output_type": "execute_result"
    }
   ],
   "source": [
    "result_df['clusters'].value_counts()"
   ]
  },
  {
   "cell_type": "code",
   "execution_count": 22,
   "id": "252bf1a4",
   "metadata": {},
   "outputs": [
    {
     "data": {
      "image/png": "[encoded data removed]",
      "text/plain": [
       "<Figure size 1200x800 with 1 Axes>"
      ]
     },
     "metadata": {},
     "output_type": "display_data"
    }
   ],
   "source": [
    "plt.figure(figsize=(12,8))\n",
    "ax = sns.scatterplot(x=result_df['Total Tracks Played'], y=result_df['minutes_played'], hue=kmeans.labels_, s=100)\n",
    "\n",
    "ax.grid(False)\n",
    "plt.xlabel('Total Tracks Played')\n",
    "plt.ylabel('Total Minutes Played')\n",
    "plt.show()"
   ]
  },
  {
   "cell_type": "code",
   "execution_count": 23,
   "id": "0bd01330",
   "metadata": {},
   "outputs": [],
   "source": [
    "result_df.loc[result_df['clusters'] == 3, 'cluster'] = 'black'\n",
    "result_df.loc[result_df['clusters'] == 2, 'cluster'] = 'purple'\n",
    "result_df.loc[result_df['clusters'] == 1, 'cluster'] = 'pink'\n",
    "result_df.loc[result_df['clusters'] == 0, 'cluster'] = 'light pink'"
   ]
  },
  {
   "cell_type": "code",
   "execution_count": 24,
   "id": "4e3730be",
   "metadata": {},
   "outputs": [
    {
     "data": {
      "text/html": [
       "<div>\n",
       "<style scoped>\n",
       "    .dataframe tbody tr th:only-of-type {\n",
       "        vertical-align: middle;\n",
       "    }\n",
       "\n",
       "    .dataframe tbody tr th {\n",
       "        vertical-align: top;\n",
       "    }\n",
       "\n",
       "    .dataframe thead tr th {\n",
       "        text-align: left;\n",
       "    }\n",
       "\n",
       "    .dataframe thead tr:last-of-type th {\n",
       "        text-align: right;\n",
       "    }\n",
       "</style>\n",
       "<table border=\"1\" class=\"dataframe\">\n",
       "  <thead>\n",
       "    <tr>\n",
       "      <th></th>\n",
       "      <th colspan=\"2\" halign=\"left\">Total Tracks Played</th>\n",
       "      <th colspan=\"2\" halign=\"left\">minutes_played</th>\n",
       "    </tr>\n",
       "    <tr>\n",
       "      <th></th>\n",
       "      <th>mean</th>\n",
       "      <th>median</th>\n",
       "      <th>mean</th>\n",
       "      <th>median</th>\n",
       "    </tr>\n",
       "    <tr>\n",
       "      <th>cluster</th>\n",
       "      <th></th>\n",
       "      <th></th>\n",
       "      <th></th>\n",
       "      <th></th>\n",
       "    </tr>\n",
       "  </thead>\n",
       "  <tbody>\n",
       "    <tr>\n",
       "      <th>black</th>\n",
       "      <td>673.000000</td>\n",
       "      <td>649.5</td>\n",
       "      <td>1626.271579</td>\n",
       "      <td>1585.012517</td>\n",
       "    </tr>\n",
       "    <tr>\n",
       "      <th>light pink</th>\n",
       "      <td>760.720000</td>\n",
       "      <td>743.0</td>\n",
       "      <td>2805.138277</td>\n",
       "      <td>2660.013433</td>\n",
       "    </tr>\n",
       "    <tr>\n",
       "      <th>pink</th>\n",
       "      <td>419.068182</td>\n",
       "      <td>405.5</td>\n",
       "      <td>925.167733</td>\n",
       "      <td>939.761592</td>\n",
       "    </tr>\n",
       "    <tr>\n",
       "      <th>purple</th>\n",
       "      <td>33.720430</td>\n",
       "      <td>0.0</td>\n",
       "      <td>58.287113</td>\n",
       "      <td>0.000000</td>\n",
       "    </tr>\n",
       "  </tbody>\n",
       "</table>\n",
       "</div>"
      ],
      "text/plain": [
       "           Total Tracks Played        minutes_played             \n",
       "                          mean median           mean       median\n",
       "cluster                                                          \n",
       "black               673.000000  649.5    1626.271579  1585.012517\n",
       "light pink          760.720000  743.0    2805.138277  2660.013433\n",
       "pink                419.068182  405.5     925.167733   939.761592\n",
       "purple               33.720430    0.0      58.287113     0.000000"
      ]
     },
     "execution_count": 24,
     "metadata": {},
     "output_type": "execute_result"
    }
   ],
   "source": [
    "result_df.groupby('cluster').agg({'Total Tracks Played':['mean', 'median'], \n",
    "                         'minutes_played':['mean', 'median']})"
   ]
  },
  {
   "cell_type": "code",
   "execution_count": 25,
   "id": "b903466a",
   "metadata": {},
   "outputs": [
    {
     "data": {
      "text/html": [
       "<div>\n",
       "<style scoped>\n",
       "    .dataframe tbody tr th:only-of-type {\n",
       "        vertical-align: middle;\n",
       "    }\n",
       "\n",
       "    .dataframe tbody tr th {\n",
       "        vertical-align: top;\n",
       "    }\n",
       "\n",
       "    .dataframe thead th {\n",
       "        text-align: right;\n",
       "    }\n",
       "</style>\n",
       "<table border=\"1\" class=\"dataframe\">\n",
       "  <thead>\n",
       "    <tr style=\"text-align: right;\">\n",
       "      <th></th>\n",
       "      <th>Total Tracks Played</th>\n",
       "      <th>minutes_played</th>\n",
       "      <th>clusters</th>\n",
       "      <th>cluster</th>\n",
       "    </tr>\n",
       "    <tr>\n",
       "      <th>ts</th>\n",
       "      <th></th>\n",
       "      <th></th>\n",
       "      <th></th>\n",
       "      <th></th>\n",
       "    </tr>\n",
       "  </thead>\n",
       "  <tbody>\n",
       "    <tr>\n",
       "      <th>2012-07-22</th>\n",
       "      <td>289</td>\n",
       "      <td>81.478800</td>\n",
       "      <td>2</td>\n",
       "      <td>purple</td>\n",
       "    </tr>\n",
       "    <tr>\n",
       "      <th>2012-07-29</th>\n",
       "      <td>6</td>\n",
       "      <td>0.326567</td>\n",
       "      <td>2</td>\n",
       "      <td>purple</td>\n",
       "    </tr>\n",
       "    <tr>\n",
       "      <th>2012-08-05</th>\n",
       "      <td>21</td>\n",
       "      <td>36.860733</td>\n",
       "      <td>2</td>\n",
       "      <td>purple</td>\n",
       "    </tr>\n",
       "    <tr>\n",
       "      <th>2012-08-12</th>\n",
       "      <td>4</td>\n",
       "      <td>5.587650</td>\n",
       "      <td>2</td>\n",
       "      <td>purple</td>\n",
       "    </tr>\n",
       "    <tr>\n",
       "      <th>2012-08-19</th>\n",
       "      <td>65</td>\n",
       "      <td>97.654267</td>\n",
       "      <td>2</td>\n",
       "      <td>purple</td>\n",
       "    </tr>\n",
       "    <tr>\n",
       "      <th>...</th>\n",
       "      <td>...</td>\n",
       "      <td>...</td>\n",
       "      <td>...</td>\n",
       "      <td>...</td>\n",
       "    </tr>\n",
       "    <tr>\n",
       "      <th>2023-07-30</th>\n",
       "      <td>579</td>\n",
       "      <td>825.430633</td>\n",
       "      <td>1</td>\n",
       "      <td>pink</td>\n",
       "    </tr>\n",
       "    <tr>\n",
       "      <th>2023-08-06</th>\n",
       "      <td>265</td>\n",
       "      <td>1093.768600</td>\n",
       "      <td>1</td>\n",
       "      <td>pink</td>\n",
       "    </tr>\n",
       "    <tr>\n",
       "      <th>2023-08-13</th>\n",
       "      <td>367</td>\n",
       "      <td>1033.171633</td>\n",
       "      <td>1</td>\n",
       "      <td>pink</td>\n",
       "    </tr>\n",
       "    <tr>\n",
       "      <th>2023-08-20</th>\n",
       "      <td>592</td>\n",
       "      <td>1374.722967</td>\n",
       "      <td>3</td>\n",
       "      <td>black</td>\n",
       "    </tr>\n",
       "    <tr>\n",
       "      <th>2023-08-27</th>\n",
       "      <td>545</td>\n",
       "      <td>712.440200</td>\n",
       "      <td>1</td>\n",
       "      <td>pink</td>\n",
       "    </tr>\n",
       "  </tbody>\n",
       "</table>\n",
       "<p>580 rows × 4 columns</p>\n",
       "</div>"
      ],
      "text/plain": [
       "            Total Tracks Played  minutes_played  clusters cluster\n",
       "ts                                                               \n",
       "2012-07-22                  289       81.478800         2  purple\n",
       "2012-07-29                    6        0.326567         2  purple\n",
       "2012-08-05                   21       36.860733         2  purple\n",
       "2012-08-12                    4        5.587650         2  purple\n",
       "2012-08-19                   65       97.654267         2  purple\n",
       "...                         ...             ...       ...     ...\n",
       "2023-07-30                  579      825.430633         1    pink\n",
       "2023-08-06                  265     1093.768600         1    pink\n",
       "2023-08-13                  367     1033.171633         1    pink\n",
       "2023-08-20                  592     1374.722967         3   black\n",
       "2023-08-27                  545      712.440200         1    pink\n",
       "\n",
       "[580 rows x 4 columns]"
      ]
     },
     "execution_count": 25,
     "metadata": {},
     "output_type": "execute_result"
    }
   ],
   "source": [
    "result_df"
   ]
  },
  {
   "cell_type": "markdown",
   "id": "b04576f8",
   "metadata": {},
   "source": [
    "### Preparing both datasets to merge column data for each record back into full data set"
   ]
  },
  {
   "cell_type": "code",
   "execution_count": 26,
   "id": "49b15cb3",
   "metadata": {},
   "outputs": [],
   "source": [
    "result_df.reset_index(inplace=True)"
   ]
  },
  {
   "cell_type": "code",
   "execution_count": 27,
   "id": "64d575e7",
   "metadata": {},
   "outputs": [],
   "source": [
    "result_df.rename(columns={'ts' : 'week'}, inplace=True)"
   ]
  },
  {
   "cell_type": "code",
   "execution_count": 28,
   "id": "47fe4d7b",
   "metadata": {},
   "outputs": [],
   "source": [
    "result_df['week'] = result_df['week'].astype(str)"
   ]
  },
  {
   "cell_type": "code",
   "execution_count": 29,
   "id": "b77bae2c",
   "metadata": {},
   "outputs": [],
   "source": [
    "df['week'] = df['ts'].dt.to_period('W')"
   ]
  },
  {
   "cell_type": "code",
   "execution_count": 30,
   "id": "443f4577",
   "metadata": {
    "scrolled": false
   },
   "outputs": [
    {
     "data": {
      "text/plain": [
       "0    2012-07-16/2012-07-22\n",
       "1    2012-07-16/2012-07-22\n",
       "2    2012-07-16/2012-07-22\n",
       "3    2012-07-16/2012-07-22\n",
       "4    2012-07-16/2012-07-22\n",
       "Name: week, dtype: period[W-SUN]"
      ]
     },
     "execution_count": 30,
     "metadata": {},
     "output_type": "execute_result"
    }
   ],
   "source": [
    "df['week'].head()"
   ]
  },
  {
   "cell_type": "code",
   "execution_count": 31,
   "id": "ce89185e",
   "metadata": {},
   "outputs": [],
   "source": [
    "df['week'] = df['week'].astype(str)"
   ]
  },
  {
   "cell_type": "code",
   "execution_count": 32,
   "id": "56a3c4a8",
   "metadata": {},
   "outputs": [],
   "source": [
    "df['week'] = df['week'].str[-10:]"
   ]
  },
  {
   "cell_type": "code",
   "execution_count": 33,
   "id": "d572b1ae",
   "metadata": {},
   "outputs": [
    {
     "data": {
      "text/plain": [
       "0    2012-07-22\n",
       "1    2012-07-22\n",
       "2    2012-07-22\n",
       "3    2012-07-22\n",
       "4    2012-07-22\n",
       "Name: week, dtype: object"
      ]
     },
     "execution_count": 33,
     "metadata": {},
     "output_type": "execute_result"
    }
   ],
   "source": [
    "df['week'].head()"
   ]
  },
  {
   "cell_type": "code",
   "execution_count": 34,
   "id": "7732acc2",
   "metadata": {},
   "outputs": [],
   "source": [
    "# merging the clusters back into the original dataset\n",
    "merged_df = df.merge(result_df[['week', 'cluster']], on='week', how='left')"
   ]
  },
  {
   "cell_type": "code",
   "execution_count": 35,
   "id": "464a38d1",
   "metadata": {},
   "outputs": [
    {
     "data": {
      "text/html": [
       "<div>\n",
       "<style scoped>\n",
       "    .dataframe tbody tr th:only-of-type {\n",
       "        vertical-align: middle;\n",
       "    }\n",
       "\n",
       "    .dataframe tbody tr th {\n",
       "        vertical-align: top;\n",
       "    }\n",
       "\n",
       "    .dataframe thead th {\n",
       "        text-align: right;\n",
       "    }\n",
       "</style>\n",
       "<table border=\"1\" class=\"dataframe\">\n",
       "  <thead>\n",
       "    <tr style=\"text-align: right;\">\n",
       "      <th></th>\n",
       "      <th>ts</th>\n",
       "      <th>platform</th>\n",
       "      <th>ms_played</th>\n",
       "      <th>conn_country</th>\n",
       "      <th>master_metadata_track_name</th>\n",
       "      <th>master_metadata_album_artist_name</th>\n",
       "      <th>master_metadata_album_album_name</th>\n",
       "      <th>spotify_track_uri</th>\n",
       "      <th>episode_name</th>\n",
       "      <th>episode_show_name</th>\n",
       "      <th>...</th>\n",
       "      <th>year</th>\n",
       "      <th>month</th>\n",
       "      <th>day_of_week</th>\n",
       "      <th>hour_of_day</th>\n",
       "      <th>skipped_ratio</th>\n",
       "      <th>skip_prob</th>\n",
       "      <th>count_y</th>\n",
       "      <th>listening_frequency</th>\n",
       "      <th>week</th>\n",
       "      <th>cluster</th>\n",
       "    </tr>\n",
       "  </thead>\n",
       "  <tbody>\n",
       "    <tr>\n",
       "      <th>0</th>\n",
       "      <td>2012-07-17 02:48:23</td>\n",
       "      <td>iOS 5.1.1 (iPod4,1)</td>\n",
       "      <td>231177</td>\n",
       "      <td>US</td>\n",
       "      <td>It's Time</td>\n",
       "      <td>Imagine Dragons</td>\n",
       "      <td>Continued Silence EP</td>\n",
       "      <td>spotify:track:40xtweuHBkLXNMO3xCK5AZ</td>\n",
       "      <td>NaN</td>\n",
       "      <td>NaN</td>\n",
       "      <td>...</td>\n",
       "      <td>2012</td>\n",
       "      <td>7</td>\n",
       "      <td>1</td>\n",
       "      <td>2</td>\n",
       "      <td>inf</td>\n",
       "      <td>very likely to be skipped</td>\n",
       "      <td>3.0</td>\n",
       "      <td>Low Frequency</td>\n",
       "      <td>2012-07-22</td>\n",
       "      <td>purple</td>\n",
       "    </tr>\n",
       "    <tr>\n",
       "      <th>1</th>\n",
       "      <td>2012-07-17 22:26:20</td>\n",
       "      <td>iOS 5.1.1 (iPod4,1)</td>\n",
       "      <td>25727</td>\n",
       "      <td>US</td>\n",
       "      <td>Jump (feat. Nelly Furtado)</td>\n",
       "      <td>Flo Rida</td>\n",
       "      <td>R.O.O.T.S. (Route of Overcoming the Struggle)</td>\n",
       "      <td>spotify:track:4uGucgzv0ydi35DgAlsTQ4</td>\n",
       "      <td>NaN</td>\n",
       "      <td>NaN</td>\n",
       "      <td>...</td>\n",
       "      <td>2012</td>\n",
       "      <td>7</td>\n",
       "      <td>1</td>\n",
       "      <td>22</td>\n",
       "      <td>NaN</td>\n",
       "      <td>fwdbtn</td>\n",
       "      <td>1.0</td>\n",
       "      <td>Only Played Once</td>\n",
       "      <td>2012-07-22</td>\n",
       "      <td>purple</td>\n",
       "    </tr>\n",
       "    <tr>\n",
       "      <th>2</th>\n",
       "      <td>2012-07-17 22:26:23</td>\n",
       "      <td>iOS 5.1.1 (iPod4,1)</td>\n",
       "      <td>3436</td>\n",
       "      <td>US</td>\n",
       "      <td>I Know You Want Me (Calle Ocho)</td>\n",
       "      <td>Pitbull</td>\n",
       "      <td>Pitbull Starring In Rebelution</td>\n",
       "      <td>spotify:track:5RzFJd6W40SDTyZkX6xx45</td>\n",
       "      <td>NaN</td>\n",
       "      <td>NaN</td>\n",
       "      <td>...</td>\n",
       "      <td>2012</td>\n",
       "      <td>7</td>\n",
       "      <td>1</td>\n",
       "      <td>22</td>\n",
       "      <td>2.0</td>\n",
       "      <td>very likely to be skipped</td>\n",
       "      <td>5.0</td>\n",
       "      <td>Low Frequency</td>\n",
       "      <td>2012-07-22</td>\n",
       "      <td>purple</td>\n",
       "    </tr>\n",
       "    <tr>\n",
       "      <th>3</th>\n",
       "      <td>2012-07-17 22:26:24</td>\n",
       "      <td>iOS 5.1.1 (iPod4,1)</td>\n",
       "      <td>1532</td>\n",
       "      <td>US</td>\n",
       "      <td>Over And Over</td>\n",
       "      <td>Nelly</td>\n",
       "      <td>6 Pack</td>\n",
       "      <td>spotify:track:2Gfr96HuhYqGcteLv9XUJP</td>\n",
       "      <td>NaN</td>\n",
       "      <td>NaN</td>\n",
       "      <td>...</td>\n",
       "      <td>2012</td>\n",
       "      <td>7</td>\n",
       "      <td>1</td>\n",
       "      <td>22</td>\n",
       "      <td>NaN</td>\n",
       "      <td>fwdbtn</td>\n",
       "      <td>1.0</td>\n",
       "      <td>Only Played Once</td>\n",
       "      <td>2012-07-22</td>\n",
       "      <td>purple</td>\n",
       "    </tr>\n",
       "    <tr>\n",
       "      <th>4</th>\n",
       "      <td>2012-07-17 22:26:26</td>\n",
       "      <td>iOS 5.1.1 (iPod4,1)</td>\n",
       "      <td>1486</td>\n",
       "      <td>US</td>\n",
       "      <td>Pause</td>\n",
       "      <td>Pitbull</td>\n",
       "      <td>Planet Pit (Deluxe Version)</td>\n",
       "      <td>spotify:track:0c7wqpBLOTFr1yb70LHGFM</td>\n",
       "      <td>NaN</td>\n",
       "      <td>NaN</td>\n",
       "      <td>...</td>\n",
       "      <td>2012</td>\n",
       "      <td>7</td>\n",
       "      <td>1</td>\n",
       "      <td>22</td>\n",
       "      <td>NaN</td>\n",
       "      <td>fwdbtn</td>\n",
       "      <td>1.0</td>\n",
       "      <td>Only Played Once</td>\n",
       "      <td>2012-07-22</td>\n",
       "      <td>purple</td>\n",
       "    </tr>\n",
       "  </tbody>\n",
       "</table>\n",
       "<p>5 rows × 30 columns</p>\n",
       "</div>"
      ],
      "text/plain": [
       "                   ts             platform  ms_played conn_country  \\\n",
       "0 2012-07-17 02:48:23  iOS 5.1.1 (iPod4,1)     231177           US   \n",
       "1 2012-07-17 22:26:20  iOS 5.1.1 (iPod4,1)      25727           US   \n",
       "2 2012-07-17 22:26:23  iOS 5.1.1 (iPod4,1)       3436           US   \n",
       "3 2012-07-17 22:26:24  iOS 5.1.1 (iPod4,1)       1532           US   \n",
       "4 2012-07-17 22:26:26  iOS 5.1.1 (iPod4,1)       1486           US   \n",
       "\n",
       "        master_metadata_track_name master_metadata_album_artist_name  \\\n",
       "0                        It's Time                   Imagine Dragons   \n",
       "1       Jump (feat. Nelly Furtado)                          Flo Rida   \n",
       "2  I Know You Want Me (Calle Ocho)                           Pitbull   \n",
       "3                    Over And Over                             Nelly   \n",
       "4                            Pause                           Pitbull   \n",
       "\n",
       "                master_metadata_album_album_name  \\\n",
       "0                           Continued Silence EP   \n",
       "1  R.O.O.T.S. (Route of Overcoming the Struggle)   \n",
       "2                 Pitbull Starring In Rebelution   \n",
       "3                                         6 Pack   \n",
       "4                    Planet Pit (Deluxe Version)   \n",
       "\n",
       "                      spotify_track_uri episode_name episode_show_name  ...  \\\n",
       "0  spotify:track:40xtweuHBkLXNMO3xCK5AZ          NaN               NaN  ...   \n",
       "1  spotify:track:4uGucgzv0ydi35DgAlsTQ4          NaN               NaN  ...   \n",
       "2  spotify:track:5RzFJd6W40SDTyZkX6xx45          NaN               NaN  ...   \n",
       "3  spotify:track:2Gfr96HuhYqGcteLv9XUJP          NaN               NaN  ...   \n",
       "4  spotify:track:0c7wqpBLOTFr1yb70LHGFM          NaN               NaN  ...   \n",
       "\n",
       "   year month day_of_week  hour_of_day skipped_ratio  \\\n",
       "0  2012     7           1            2           inf   \n",
       "1  2012     7           1           22           NaN   \n",
       "2  2012     7           1           22           2.0   \n",
       "3  2012     7           1           22           NaN   \n",
       "4  2012     7           1           22           NaN   \n",
       "\n",
       "                   skip_prob  count_y  listening_frequency        week cluster  \n",
       "0  very likely to be skipped      3.0        Low Frequency  2012-07-22  purple  \n",
       "1                     fwdbtn      1.0     Only Played Once  2012-07-22  purple  \n",
       "2  very likely to be skipped      5.0        Low Frequency  2012-07-22  purple  \n",
       "3                     fwdbtn      1.0     Only Played Once  2012-07-22  purple  \n",
       "4                     fwdbtn      1.0     Only Played Once  2012-07-22  purple  \n",
       "\n",
       "[5 rows x 30 columns]"
      ]
     },
     "execution_count": 35,
     "metadata": {},
     "output_type": "execute_result"
    }
   ],
   "source": [
    "merged_df.head()"
   ]
  },
  {
   "cell_type": "code",
   "execution_count": 36,
   "id": "69a28b86",
   "metadata": {},
   "outputs": [
    {
     "data": {
      "text/plain": [
       "0"
      ]
     },
     "execution_count": 36,
     "metadata": {},
     "output_type": "execute_result"
    }
   ],
   "source": [
    "merged_df['cluster'].isnull().sum()"
   ]
  },
  {
   "cell_type": "code",
   "execution_count": 37,
   "id": "b38b14ff",
   "metadata": {},
   "outputs": [
    {
     "data": {
      "text/plain": [
       "(169482, 30)"
      ]
     },
     "execution_count": 37,
     "metadata": {},
     "output_type": "execute_result"
    }
   ],
   "source": [
    "merged_df.shape"
   ]
  },
  {
   "cell_type": "code",
   "execution_count": 38,
   "id": "dbe1becc",
   "metadata": {},
   "outputs": [],
   "source": [
    "merged_df.to_csv(os.path.join(path,'01 Data','02 Prepared Data','df_7.csv'))"
   ]
  },
  {
   "cell_type": "code",
   "execution_count": null,
   "id": "aacdfd7b",
   "metadata": {},
   "outputs": [],
   "source": []
  }
 ],
 "metadata": {
  "kernelspec": {
   "display_name": "Python 3 (ipykernel)",
   "language": "python",
   "name": "python3"
  },
  "language_info": {
   "codemirror_mode": {
    "name": "ipython",
    "version": 3
   },
   "file_extension": ".py",
   "mimetype": "text/x-python",
   "name": "python",
   "nbconvert_exporter": "python",
   "pygments_lexer": "ipython3",
   "version": "3.10.9"
  }
 },
 "nbformat": 4,
 "nbformat_minor": 5
}
