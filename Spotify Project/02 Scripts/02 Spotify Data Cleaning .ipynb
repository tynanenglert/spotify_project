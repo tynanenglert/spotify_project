{
 "cells": [
  {
   "cell_type": "markdown",
   "id": "69042062",
   "metadata": {},
   "source": [
    "# Consistency Check and Cleaning Merged and Joined Listening and Location Data"
   ]
  },
  {
   "cell_type": "markdown",
   "id": "98905b44",
   "metadata": {},
   "source": [
    "## Importing libraries "
   ]
  },
  {
   "cell_type": "code",
   "execution_count": 1,
   "id": "23147aaf",
   "metadata": {},
   "outputs": [],
   "source": [
    "import numpy as np \n",
    "import pandas as pd \n",
    "import matplotlib as plt\n",
    "import seaborn as sns \n",
    "import os\n",
    "%matplotlib inline "
   ]
  },
  {
   "cell_type": "code",
   "execution_count": 2,
   "id": "323762c1",
   "metadata": {},
   "outputs": [],
   "source": [
    "path = '/Users/brookecoffey/Desktop/DataAnalyticsTy/Achievement 6 /Spotify Project'"
   ]
  },
  {
   "cell_type": "code",
   "execution_count": 3,
   "id": "5937c1c6",
   "metadata": {},
   "outputs": [],
   "source": [
    "df = pd.read_pickle(os.path.join(path, '01 Data','02 Prepared Data','merged_df_loc.pkl'))"
   ]
  },
  {
   "cell_type": "code",
   "execution_count": 4,
   "id": "c5559951",
   "metadata": {},
   "outputs": [
    {
     "data": {
      "text/plain": [
       "(173460, 24)"
      ]
     },
     "execution_count": 4,
     "metadata": {},
     "output_type": "execute_result"
    }
   ],
   "source": [
    "df.shape"
   ]
  },
  {
   "cell_type": "code",
   "execution_count": 5,
   "id": "a83a8be9",
   "metadata": {},
   "outputs": [
    {
     "data": {
      "text/plain": [
       "Index(['ts', 'username', 'platform', 'ms_played', 'conn_country',\n",
       "       'ip_addr_decrypted', 'user_agent_decrypted',\n",
       "       'master_metadata_track_name', 'master_metadata_album_artist_name',\n",
       "       'master_metadata_album_album_name', 'spotify_track_uri', 'episode_name',\n",
       "       'episode_show_name', 'spotify_episode_uri', 'reason_start',\n",
       "       'reason_end', 'shuffle', 'skipped', 'offline', 'offline_timestamp',\n",
       "       'incognito_mode', 'latitude', 'longitude', 'region'],\n",
       "      dtype='object')"
      ]
     },
     "execution_count": 5,
     "metadata": {},
     "output_type": "execute_result"
    }
   ],
   "source": [
    "df.columns "
   ]
  },
  {
   "cell_type": "code",
   "execution_count": 6,
   "id": "fd9250d2",
   "metadata": {},
   "outputs": [
    {
     "name": "stdout",
     "output_type": "stream",
     "text": [
      "<class 'pandas.core.frame.DataFrame'>\n",
      "Int64Index: 173460 entries, 0 to 173459\n",
      "Data columns (total 24 columns):\n",
      " #   Column                             Non-Null Count   Dtype  \n",
      "---  ------                             --------------   -----  \n",
      " 0   ts                                 173460 non-null  object \n",
      " 1   username                           173460 non-null  int64  \n",
      " 2   platform                           173460 non-null  object \n",
      " 3   ms_played                          173460 non-null  int64  \n",
      " 4   conn_country                       173460 non-null  object \n",
      " 5   ip_addr_decrypted                  173460 non-null  object \n",
      " 6   user_agent_decrypted               173459 non-null  object \n",
      " 7   master_metadata_track_name         170815 non-null  object \n",
      " 8   master_metadata_album_artist_name  170815 non-null  object \n",
      " 9   master_metadata_album_album_name   170815 non-null  object \n",
      " 10  spotify_track_uri                  170815 non-null  object \n",
      " 11  episode_name                       1977 non-null    object \n",
      " 12  episode_show_name                  1977 non-null    object \n",
      " 13  spotify_episode_uri                1977 non-null    object \n",
      " 14  reason_start                       173460 non-null  object \n",
      " 15  reason_end                         173460 non-null  object \n",
      " 16  shuffle                            173460 non-null  bool   \n",
      " 17  skipped                            31431 non-null   object \n",
      " 18  offline                            173460 non-null  bool   \n",
      " 19  offline_timestamp                  173460 non-null  int64  \n",
      " 20  incognito_mode                     173460 non-null  bool   \n",
      " 21  latitude                           173200 non-null  float64\n",
      " 22  longitude                          173200 non-null  float64\n",
      " 23  region                             173460 non-null  object \n",
      "dtypes: bool(3), float64(2), int64(3), object(16)\n",
      "memory usage: 29.6+ MB\n"
     ]
    }
   ],
   "source": [
    "df.info()"
   ]
  },
  {
   "cell_type": "code",
   "execution_count": 7,
   "id": "4058584a",
   "metadata": {},
   "outputs": [
    {
     "data": {
      "text/html": [
       "<div>\n",
       "<style scoped>\n",
       "    .dataframe tbody tr th:only-of-type {\n",
       "        vertical-align: middle;\n",
       "    }\n",
       "\n",
       "    .dataframe tbody tr th {\n",
       "        vertical-align: top;\n",
       "    }\n",
       "\n",
       "    .dataframe thead th {\n",
       "        text-align: right;\n",
       "    }\n",
       "</style>\n",
       "<table border=\"1\" class=\"dataframe\">\n",
       "  <thead>\n",
       "    <tr style=\"text-align: right;\">\n",
       "      <th></th>\n",
       "      <th>username</th>\n",
       "      <th>ms_played</th>\n",
       "      <th>offline_timestamp</th>\n",
       "      <th>latitude</th>\n",
       "      <th>longitude</th>\n",
       "    </tr>\n",
       "  </thead>\n",
       "  <tbody>\n",
       "    <tr>\n",
       "      <th>count</th>\n",
       "      <td>1.734600e+05</td>\n",
       "      <td>1.734600e+05</td>\n",
       "      <td>1.734600e+05</td>\n",
       "      <td>173200.000000</td>\n",
       "      <td>173200.000000</td>\n",
       "    </tr>\n",
       "    <tr>\n",
       "      <th>mean</th>\n",
       "      <td>1.239061e+09</td>\n",
       "      <td>1.661343e+05</td>\n",
       "      <td>1.285512e+12</td>\n",
       "      <td>38.300860</td>\n",
       "      <td>-77.702079</td>\n",
       "    </tr>\n",
       "    <tr>\n",
       "      <th>std</th>\n",
       "      <td>0.000000e+00</td>\n",
       "      <td>5.032212e+05</td>\n",
       "      <td>6.243786e+11</td>\n",
       "      <td>2.109307</td>\n",
       "      <td>4.917134</td>\n",
       "    </tr>\n",
       "    <tr>\n",
       "      <th>min</th>\n",
       "      <td>1.239061e+09</td>\n",
       "      <td>0.000000e+00</td>\n",
       "      <td>0.000000e+00</td>\n",
       "      <td>25.761000</td>\n",
       "      <td>-122.298400</td>\n",
       "    </tr>\n",
       "    <tr>\n",
       "      <th>25%</th>\n",
       "      <td>1.239061e+09</td>\n",
       "      <td>2.159000e+03</td>\n",
       "      <td>1.518143e+12</td>\n",
       "      <td>37.550300</td>\n",
       "      <td>-77.520900</td>\n",
       "    </tr>\n",
       "    <tr>\n",
       "      <th>50%</th>\n",
       "      <td>1.239061e+09</td>\n",
       "      <td>1.057905e+05</td>\n",
       "      <td>1.571325e+12</td>\n",
       "      <td>37.580500</td>\n",
       "      <td>-77.417500</td>\n",
       "    </tr>\n",
       "    <tr>\n",
       "      <th>75%</th>\n",
       "      <td>1.239061e+09</td>\n",
       "      <td>2.170130e+05</td>\n",
       "      <td>1.615229e+12</td>\n",
       "      <td>40.567200</td>\n",
       "      <td>-75.616600</td>\n",
       "    </tr>\n",
       "    <tr>\n",
       "      <th>max</th>\n",
       "      <td>1.239061e+09</td>\n",
       "      <td>1.867021e+07</td>\n",
       "      <td>1.665784e+12</td>\n",
       "      <td>47.914500</td>\n",
       "      <td>-73.024700</td>\n",
       "    </tr>\n",
       "  </tbody>\n",
       "</table>\n",
       "</div>"
      ],
      "text/plain": [
       "           username     ms_played  offline_timestamp       latitude  \\\n",
       "count  1.734600e+05  1.734600e+05       1.734600e+05  173200.000000   \n",
       "mean   1.239061e+09  1.661343e+05       1.285512e+12      38.300860   \n",
       "std    0.000000e+00  5.032212e+05       6.243786e+11       2.109307   \n",
       "min    1.239061e+09  0.000000e+00       0.000000e+00      25.761000   \n",
       "25%    1.239061e+09  2.159000e+03       1.518143e+12      37.550300   \n",
       "50%    1.239061e+09  1.057905e+05       1.571325e+12      37.580500   \n",
       "75%    1.239061e+09  2.170130e+05       1.615229e+12      40.567200   \n",
       "max    1.239061e+09  1.867021e+07       1.665784e+12      47.914500   \n",
       "\n",
       "           longitude  \n",
       "count  173200.000000  \n",
       "mean      -77.702079  \n",
       "std         4.917134  \n",
       "min      -122.298400  \n",
       "25%       -77.520900  \n",
       "50%       -77.417500  \n",
       "75%       -75.616600  \n",
       "max       -73.024700  "
      ]
     },
     "execution_count": 7,
     "metadata": {},
     "output_type": "execute_result"
    }
   ],
   "source": [
    "df.describe()"
   ]
  },
  {
   "cell_type": "code",
   "execution_count": 8,
   "id": "22708e8a",
   "metadata": {},
   "outputs": [],
   "source": [
    "# Checking for duplicates \n",
    "df_dups = df[df.duplicated()]"
   ]
  },
  {
   "cell_type": "code",
   "execution_count": 9,
   "id": "b349d918",
   "metadata": {},
   "outputs": [
    {
     "data": {
      "text/html": [
       "<div>\n",
       "<style scoped>\n",
       "    .dataframe tbody tr th:only-of-type {\n",
       "        vertical-align: middle;\n",
       "    }\n",
       "\n",
       "    .dataframe tbody tr th {\n",
       "        vertical-align: top;\n",
       "    }\n",
       "\n",
       "    .dataframe thead th {\n",
       "        text-align: right;\n",
       "    }\n",
       "</style>\n",
       "<table border=\"1\" class=\"dataframe\">\n",
       "  <thead>\n",
       "    <tr style=\"text-align: right;\">\n",
       "      <th></th>\n",
       "      <th>ts</th>\n",
       "      <th>username</th>\n",
       "      <th>platform</th>\n",
       "      <th>ms_played</th>\n",
       "      <th>conn_country</th>\n",
       "      <th>ip_addr_decrypted</th>\n",
       "      <th>user_agent_decrypted</th>\n",
       "      <th>master_metadata_track_name</th>\n",
       "      <th>master_metadata_album_artist_name</th>\n",
       "      <th>master_metadata_album_album_name</th>\n",
       "      <th>...</th>\n",
       "      <th>reason_start</th>\n",
       "      <th>reason_end</th>\n",
       "      <th>shuffle</th>\n",
       "      <th>skipped</th>\n",
       "      <th>offline</th>\n",
       "      <th>offline_timestamp</th>\n",
       "      <th>incognito_mode</th>\n",
       "      <th>latitude</th>\n",
       "      <th>longitude</th>\n",
       "      <th>region</th>\n",
       "    </tr>\n",
       "  </thead>\n",
       "  <tbody>\n",
       "    <tr>\n",
       "      <th>2711</th>\n",
       "      <td>2012-12-10T04:29:07Z</td>\n",
       "      <td>1239060761</td>\n",
       "      <td>Windows 7 (Unknown Ed) SP1 [x86 0]</td>\n",
       "      <td>1486</td>\n",
       "      <td>US</td>\n",
       "      <td>151.201.30.207</td>\n",
       "      <td>unknown</td>\n",
       "      <td>None</td>\n",
       "      <td>None</td>\n",
       "      <td>None</td>\n",
       "      <td>...</td>\n",
       "      <td>backbtn</td>\n",
       "      <td>backbtn</td>\n",
       "      <td>False</td>\n",
       "      <td>1.0</td>\n",
       "      <td>False</td>\n",
       "      <td>0</td>\n",
       "      <td>False</td>\n",
       "      <td>40.7123</td>\n",
       "      <td>-74.0068</td>\n",
       "      <td>New York</td>\n",
       "    </tr>\n",
       "    <tr>\n",
       "      <th>5246</th>\n",
       "      <td>2013-03-18T19:38:07Z</td>\n",
       "      <td>1239060761</td>\n",
       "      <td>Windows 7 (Unknown Ed) SP1 [x86 0]</td>\n",
       "      <td>0</td>\n",
       "      <td>US</td>\n",
       "      <td>71.112.7.198</td>\n",
       "      <td>unknown</td>\n",
       "      <td>P Stands For Paddy</td>\n",
       "      <td>Great Irish Pub Songs</td>\n",
       "      <td>50 Must-Have St. Patrick's Day Favorites: Iris...</td>\n",
       "      <td>...</td>\n",
       "      <td>unknown</td>\n",
       "      <td>unknown</td>\n",
       "      <td>False</td>\n",
       "      <td>1.0</td>\n",
       "      <td>False</td>\n",
       "      <td>0</td>\n",
       "      <td>False</td>\n",
       "      <td>40.4488</td>\n",
       "      <td>-79.9951</td>\n",
       "      <td>Pennsylvania</td>\n",
       "    </tr>\n",
       "    <tr>\n",
       "      <th>25269</th>\n",
       "      <td>2018-04-16T14:16:22Z</td>\n",
       "      <td>1239060761</td>\n",
       "      <td>iOS 11.2.6 (iPhone8,1)</td>\n",
       "      <td>5294</td>\n",
       "      <td>US</td>\n",
       "      <td>141.166.150.20</td>\n",
       "      <td>unknown</td>\n",
       "      <td>Blanziflor Et Helena: Ave formosissima</td>\n",
       "      <td>Carl Orff</td>\n",
       "      <td>Carl Orff: Carmina Burana. Ilya Stupel</td>\n",
       "      <td>...</td>\n",
       "      <td>fwdbtn</td>\n",
       "      <td>fwdbtn</td>\n",
       "      <td>False</td>\n",
       "      <td>NaN</td>\n",
       "      <td>False</td>\n",
       "      <td>1523888176124</td>\n",
       "      <td>False</td>\n",
       "      <td>37.5538</td>\n",
       "      <td>-77.4603</td>\n",
       "      <td>Virginia</td>\n",
       "    </tr>\n",
       "    <tr>\n",
       "      <th>25306</th>\n",
       "      <td>2018-04-16T18:39:45Z</td>\n",
       "      <td>1239060761</td>\n",
       "      <td>iOS 11.2.6 (iPhone8,1)</td>\n",
       "      <td>2484</td>\n",
       "      <td>US</td>\n",
       "      <td>141.166.130.181</td>\n",
       "      <td>unknown</td>\n",
       "      <td>II In Taberna: Estuans interius</td>\n",
       "      <td>Carl Orff</td>\n",
       "      <td>Carl Orff: Carmina Burana. Ilya Stupel</td>\n",
       "      <td>...</td>\n",
       "      <td>fwdbtn</td>\n",
       "      <td>fwdbtn</td>\n",
       "      <td>False</td>\n",
       "      <td>NaN</td>\n",
       "      <td>False</td>\n",
       "      <td>1523903981849</td>\n",
       "      <td>False</td>\n",
       "      <td>37.5538</td>\n",
       "      <td>-77.4603</td>\n",
       "      <td>Virginia</td>\n",
       "    </tr>\n",
       "    <tr>\n",
       "      <th>26294</th>\n",
       "      <td>2018-05-04T14:22:47Z</td>\n",
       "      <td>1239060761</td>\n",
       "      <td>Partner google cast;Google_Home;;2.0.0-357-22b...</td>\n",
       "      <td>0</td>\n",
       "      <td>ZZ</td>\n",
       "      <td>173.233.7.119</td>\n",
       "      <td>Mozilla%2F5.0%20(X11;%20Linux%20armv7l)%20Appl...</td>\n",
       "      <td>Hotel California (Spanish Mix)</td>\n",
       "      <td>Gipsy Kings</td>\n",
       "      <td>!Volare! The Very Best of the Gipsy Kings</td>\n",
       "      <td>...</td>\n",
       "      <td>clickrow</td>\n",
       "      <td>unknown</td>\n",
       "      <td>False</td>\n",
       "      <td>NaN</td>\n",
       "      <td>False</td>\n",
       "      <td>0</td>\n",
       "      <td>False</td>\n",
       "      <td>40.6217</td>\n",
       "      <td>-79.9431</td>\n",
       "      <td>Pennsylvania</td>\n",
       "    </tr>\n",
       "    <tr>\n",
       "      <th>...</th>\n",
       "      <td>...</td>\n",
       "      <td>...</td>\n",
       "      <td>...</td>\n",
       "      <td>...</td>\n",
       "      <td>...</td>\n",
       "      <td>...</td>\n",
       "      <td>...</td>\n",
       "      <td>...</td>\n",
       "      <td>...</td>\n",
       "      <td>...</td>\n",
       "      <td>...</td>\n",
       "      <td>...</td>\n",
       "      <td>...</td>\n",
       "      <td>...</td>\n",
       "      <td>...</td>\n",
       "      <td>...</td>\n",
       "      <td>...</td>\n",
       "      <td>...</td>\n",
       "      <td>...</td>\n",
       "      <td>...</td>\n",
       "      <td>...</td>\n",
       "    </tr>\n",
       "    <tr>\n",
       "      <th>116548</th>\n",
       "      <td>2021-06-14T21:52:39Z</td>\n",
       "      <td>1239060761</td>\n",
       "      <td>iOS 14.4.2 (iPhone11,2)</td>\n",
       "      <td>63060</td>\n",
       "      <td>US</td>\n",
       "      <td>174.206.104.19</td>\n",
       "      <td>unknown</td>\n",
       "      <td>Silk Sonic Intro</td>\n",
       "      <td>Bruno Mars</td>\n",
       "      <td>Silk Sonic Intro</td>\n",
       "      <td>...</td>\n",
       "      <td>fwdbtn</td>\n",
       "      <td>trackdone</td>\n",
       "      <td>True</td>\n",
       "      <td>NaN</td>\n",
       "      <td>False</td>\n",
       "      <td>1623707490883</td>\n",
       "      <td>False</td>\n",
       "      <td>37.5503</td>\n",
       "      <td>-77.3942</td>\n",
       "      <td>Virginia</td>\n",
       "    </tr>\n",
       "    <tr>\n",
       "      <th>116549</th>\n",
       "      <td>2021-06-14T21:52:39Z</td>\n",
       "      <td>1239060761</td>\n",
       "      <td>iOS 14.4.2 (iPhone11,2)</td>\n",
       "      <td>3639</td>\n",
       "      <td>US</td>\n",
       "      <td>174.206.104.19</td>\n",
       "      <td>unknown</td>\n",
       "      <td>Early In The Morning</td>\n",
       "      <td>The Gap Band</td>\n",
       "      <td>The Gap Band IV</td>\n",
       "      <td>...</td>\n",
       "      <td>trackdone</td>\n",
       "      <td>fwdbtn</td>\n",
       "      <td>True</td>\n",
       "      <td>NaN</td>\n",
       "      <td>False</td>\n",
       "      <td>1623707552934</td>\n",
       "      <td>False</td>\n",
       "      <td>37.5503</td>\n",
       "      <td>-77.3942</td>\n",
       "      <td>Virginia</td>\n",
       "    </tr>\n",
       "    <tr>\n",
       "      <th>122728</th>\n",
       "      <td>2022-04-08T22:38:37Z</td>\n",
       "      <td>1239060761</td>\n",
       "      <td>iOS 15.3.1 (iPhone11,2)</td>\n",
       "      <td>100104</td>\n",
       "      <td>US</td>\n",
       "      <td>73.171.50.179</td>\n",
       "      <td>unknown</td>\n",
       "      <td>Grown Up</td>\n",
       "      <td>Danny Brown</td>\n",
       "      <td>Grown Up</td>\n",
       "      <td>...</td>\n",
       "      <td>trackdone</td>\n",
       "      <td>fwdbtn</td>\n",
       "      <td>True</td>\n",
       "      <td>NaN</td>\n",
       "      <td>False</td>\n",
       "      <td>1649457332561</td>\n",
       "      <td>False</td>\n",
       "      <td>37.5702</td>\n",
       "      <td>-77.4239</td>\n",
       "      <td>Virginia</td>\n",
       "    </tr>\n",
       "    <tr>\n",
       "      <th>123722</th>\n",
       "      <td>2021-07-14T20:11:31Z</td>\n",
       "      <td>1239060761</td>\n",
       "      <td>iOS 14.6 (iPhone11,2)</td>\n",
       "      <td>3237900</td>\n",
       "      <td>US</td>\n",
       "      <td>64.203.137.130</td>\n",
       "      <td>unknown</td>\n",
       "      <td>None</td>\n",
       "      <td>None</td>\n",
       "      <td>None</td>\n",
       "      <td>...</td>\n",
       "      <td>clickrow</td>\n",
       "      <td>endplay</td>\n",
       "      <td>False</td>\n",
       "      <td>NaN</td>\n",
       "      <td>False</td>\n",
       "      <td>1626286554506</td>\n",
       "      <td>False</td>\n",
       "      <td>37.8235</td>\n",
       "      <td>-75.6166</td>\n",
       "      <td>Virginia</td>\n",
       "    </tr>\n",
       "    <tr>\n",
       "      <th>144852</th>\n",
       "      <td>2021-11-25T22:29:45Z</td>\n",
       "      <td>1239060761</td>\n",
       "      <td>Partner google cast_voice;Google_Home;;5.3.2--...</td>\n",
       "      <td>56843</td>\n",
       "      <td>US</td>\n",
       "      <td>67.20.234.192</td>\n",
       "      <td>Mozilla%2F5.0%20(X11;%20Linux%20armv7l)%20Appl...</td>\n",
       "      <td>Carol of the Bells</td>\n",
       "      <td>The Christmas Guys</td>\n",
       "      <td>Soft Christmas Music</td>\n",
       "      <td>...</td>\n",
       "      <td>trackdone</td>\n",
       "      <td>trackdone</td>\n",
       "      <td>False</td>\n",
       "      <td>NaN</td>\n",
       "      <td>False</td>\n",
       "      <td>0</td>\n",
       "      <td>False</td>\n",
       "      <td>40.6217</td>\n",
       "      <td>-79.9431</td>\n",
       "      <td>Pennsylvania</td>\n",
       "    </tr>\n",
       "  </tbody>\n",
       "</table>\n",
       "<p>149 rows × 24 columns</p>\n",
       "</div>"
      ],
      "text/plain": [
       "                          ts    username  \\\n",
       "2711    2012-12-10T04:29:07Z  1239060761   \n",
       "5246    2013-03-18T19:38:07Z  1239060761   \n",
       "25269   2018-04-16T14:16:22Z  1239060761   \n",
       "25306   2018-04-16T18:39:45Z  1239060761   \n",
       "26294   2018-05-04T14:22:47Z  1239060761   \n",
       "...                      ...         ...   \n",
       "116548  2021-06-14T21:52:39Z  1239060761   \n",
       "116549  2021-06-14T21:52:39Z  1239060761   \n",
       "122728  2022-04-08T22:38:37Z  1239060761   \n",
       "123722  2021-07-14T20:11:31Z  1239060761   \n",
       "144852  2021-11-25T22:29:45Z  1239060761   \n",
       "\n",
       "                                                 platform  ms_played  \\\n",
       "2711                   Windows 7 (Unknown Ed) SP1 [x86 0]       1486   \n",
       "5246                   Windows 7 (Unknown Ed) SP1 [x86 0]          0   \n",
       "25269                              iOS 11.2.6 (iPhone8,1)       5294   \n",
       "25306                              iOS 11.2.6 (iPhone8,1)       2484   \n",
       "26294   Partner google cast;Google_Home;;2.0.0-357-22b...          0   \n",
       "...                                                   ...        ...   \n",
       "116548                            iOS 14.4.2 (iPhone11,2)      63060   \n",
       "116549                            iOS 14.4.2 (iPhone11,2)       3639   \n",
       "122728                            iOS 15.3.1 (iPhone11,2)     100104   \n",
       "123722                              iOS 14.6 (iPhone11,2)    3237900   \n",
       "144852  Partner google cast_voice;Google_Home;;5.3.2--...      56843   \n",
       "\n",
       "       conn_country ip_addr_decrypted  \\\n",
       "2711             US    151.201.30.207   \n",
       "5246             US      71.112.7.198   \n",
       "25269            US    141.166.150.20   \n",
       "25306            US   141.166.130.181   \n",
       "26294            ZZ     173.233.7.119   \n",
       "...             ...               ...   \n",
       "116548           US    174.206.104.19   \n",
       "116549           US    174.206.104.19   \n",
       "122728           US     73.171.50.179   \n",
       "123722           US    64.203.137.130   \n",
       "144852           US     67.20.234.192   \n",
       "\n",
       "                                     user_agent_decrypted  \\\n",
       "2711                                              unknown   \n",
       "5246                                              unknown   \n",
       "25269                                             unknown   \n",
       "25306                                             unknown   \n",
       "26294   Mozilla%2F5.0%20(X11;%20Linux%20armv7l)%20Appl...   \n",
       "...                                                   ...   \n",
       "116548                                            unknown   \n",
       "116549                                            unknown   \n",
       "122728                                            unknown   \n",
       "123722                                            unknown   \n",
       "144852  Mozilla%2F5.0%20(X11;%20Linux%20armv7l)%20Appl...   \n",
       "\n",
       "                    master_metadata_track_name  \\\n",
       "2711                                      None   \n",
       "5246                        P Stands For Paddy   \n",
       "25269   Blanziflor Et Helena: Ave formosissima   \n",
       "25306          II In Taberna: Estuans interius   \n",
       "26294           Hotel California (Spanish Mix)   \n",
       "...                                        ...   \n",
       "116548                        Silk Sonic Intro   \n",
       "116549                    Early In The Morning   \n",
       "122728                                Grown Up   \n",
       "123722                                    None   \n",
       "144852                      Carol of the Bells   \n",
       "\n",
       "       master_metadata_album_artist_name  \\\n",
       "2711                                None   \n",
       "5246               Great Irish Pub Songs   \n",
       "25269                          Carl Orff   \n",
       "25306                          Carl Orff   \n",
       "26294                        Gipsy Kings   \n",
       "...                                  ...   \n",
       "116548                        Bruno Mars   \n",
       "116549                      The Gap Band   \n",
       "122728                       Danny Brown   \n",
       "123722                              None   \n",
       "144852                The Christmas Guys   \n",
       "\n",
       "                         master_metadata_album_album_name  ... reason_start  \\\n",
       "2711                                                 None  ...      backbtn   \n",
       "5246    50 Must-Have St. Patrick's Day Favorites: Iris...  ...      unknown   \n",
       "25269              Carl Orff: Carmina Burana. Ilya Stupel  ...       fwdbtn   \n",
       "25306              Carl Orff: Carmina Burana. Ilya Stupel  ...       fwdbtn   \n",
       "26294           !Volare! The Very Best of the Gipsy Kings  ...     clickrow   \n",
       "...                                                   ...  ...          ...   \n",
       "116548                                   Silk Sonic Intro  ...       fwdbtn   \n",
       "116549                                    The Gap Band IV  ...    trackdone   \n",
       "122728                                           Grown Up  ...    trackdone   \n",
       "123722                                               None  ...     clickrow   \n",
       "144852                               Soft Christmas Music  ...    trackdone   \n",
       "\n",
       "       reason_end shuffle skipped offline offline_timestamp  incognito_mode  \\\n",
       "2711      backbtn   False     1.0   False                 0           False   \n",
       "5246      unknown   False     1.0   False                 0           False   \n",
       "25269      fwdbtn   False     NaN   False     1523888176124           False   \n",
       "25306      fwdbtn   False     NaN   False     1523903981849           False   \n",
       "26294     unknown   False     NaN   False                 0           False   \n",
       "...           ...     ...     ...     ...               ...             ...   \n",
       "116548  trackdone    True     NaN   False     1623707490883           False   \n",
       "116549     fwdbtn    True     NaN   False     1623707552934           False   \n",
       "122728     fwdbtn    True     NaN   False     1649457332561           False   \n",
       "123722    endplay   False     NaN   False     1626286554506           False   \n",
       "144852  trackdone   False     NaN   False                 0           False   \n",
       "\n",
       "       latitude  longitude        region  \n",
       "2711    40.7123   -74.0068      New York  \n",
       "5246    40.4488   -79.9951  Pennsylvania  \n",
       "25269   37.5538   -77.4603      Virginia  \n",
       "25306   37.5538   -77.4603      Virginia  \n",
       "26294   40.6217   -79.9431  Pennsylvania  \n",
       "...         ...        ...           ...  \n",
       "116548  37.5503   -77.3942      Virginia  \n",
       "116549  37.5503   -77.3942      Virginia  \n",
       "122728  37.5702   -77.4239      Virginia  \n",
       "123722  37.8235   -75.6166      Virginia  \n",
       "144852  40.6217   -79.9431  Pennsylvania  \n",
       "\n",
       "[149 rows x 24 columns]"
      ]
     },
     "execution_count": 9,
     "metadata": {},
     "output_type": "execute_result"
    }
   ],
   "source": [
    "df_dups"
   ]
  },
  {
   "cell_type": "code",
   "execution_count": 11,
   "id": "1fdda49f",
   "metadata": {},
   "outputs": [],
   "source": [
    "# Dropping duplicates\n",
    "df_no_dups = df.drop_duplicates()"
   ]
  },
  {
   "cell_type": "code",
   "execution_count": 12,
   "id": "636f235a",
   "metadata": {},
   "outputs": [
    {
     "data": {
      "text/plain": [
       "(173311, 24)"
      ]
     },
     "execution_count": 12,
     "metadata": {},
     "output_type": "execute_result"
    }
   ],
   "source": [
    "df_no_dups.shape"
   ]
  },
  {
   "cell_type": "markdown",
   "id": "4cc5a245",
   "metadata": {},
   "source": [
    "# Summarizing each variable and getting frequency counts"
   ]
  },
  {
   "cell_type": "code",
   "execution_count": 101,
   "id": "74452831",
   "metadata": {},
   "outputs": [
    {
     "data": {
      "text/plain": [
       "165867"
      ]
     },
     "execution_count": 101,
     "metadata": {},
     "output_type": "execute_result"
    }
   ],
   "source": [
    "df_no_dups['ts'].nunique()"
   ]
  },
  {
   "cell_type": "code",
   "execution_count": 102,
   "id": "2c1e4915",
   "metadata": {},
   "outputs": [
    {
     "data": {
      "text/plain": [
       "0"
      ]
     },
     "execution_count": 102,
     "metadata": {},
     "output_type": "execute_result"
    }
   ],
   "source": [
    "df_no_dups['ts'].isnull().sum()"
   ]
  },
  {
   "cell_type": "markdown",
   "id": "5c3ec974",
   "metadata": {},
   "source": [
    "### I think the duplicates might be the result of multiple songs that were skipped in quick succession.  "
   ]
  },
  {
   "cell_type": "code",
   "execution_count": 104,
   "id": "08f74bbe",
   "metadata": {},
   "outputs": [
    {
     "data": {
      "text/plain": [
       "1239060761    173311\n",
       "Name: username, dtype: int64"
      ]
     },
     "execution_count": 104,
     "metadata": {},
     "output_type": "execute_result"
    }
   ],
   "source": [
    "df_no_dups['username'].value_counts()"
   ]
  },
  {
   "cell_type": "code",
   "execution_count": 105,
   "id": "5135d44b",
   "metadata": {},
   "outputs": [],
   "source": [
    "# Drop username column \n",
    "df_no_dups = df_no_dups.drop('username', axis=1)"
   ]
  },
  {
   "cell_type": "code",
   "execution_count": 106,
   "id": "6c8f6bd4",
   "metadata": {
    "scrolled": true
   },
   "outputs": [
    {
     "data": {
      "text/plain": [
       "iOS 11.4 (iPhone8,1)                                                                 32179\n",
       "ios                                                                                  22932\n",
       "iOS 14.6 (iPhone11,2)                                                                 8049\n",
       "iOS 13.5.1 (iPhone11,2)                                                               7857\n",
       "iOS 14.8.1 (iPhone11,2)                                                               7575\n",
       "                                                                                     ...  \n",
       "Partner google cast_voice;Google_Home;;4.7.4--1.54.250118                                1\n",
       "Partner google cast_voice;Google_Home;;5.0.10--1.56.500000                               1\n",
       "Partner applewatch_sdk Apple;Watch5.10;a6def90dca074656984e6e6968bd5866;8.6;tpapi        1\n",
       "Partner google cast_voice;Google_Home;;5.5.8--1.56.500000                                1\n",
       "iOS 13.5 (iPhone8,1)                                                                     1\n",
       "Name: platform, Length: 75, dtype: int64"
      ]
     },
     "execution_count": 106,
     "metadata": {},
     "output_type": "execute_result"
    }
   ],
   "source": [
    "df_no_dups['platform'].value_counts()"
   ]
  },
  {
   "cell_type": "code",
   "execution_count": 107,
   "id": "a28bd562",
   "metadata": {},
   "outputs": [
    {
     "data": {
      "text/plain": [
       "75"
      ]
     },
     "execution_count": 107,
     "metadata": {},
     "output_type": "execute_result"
    }
   ],
   "source": [
    "df_no_dups['platform'].nunique()"
   ]
  },
  {
   "cell_type": "code",
   "execution_count": 108,
   "id": "17488b8b",
   "metadata": {},
   "outputs": [
    {
     "data": {
      "text/plain": [
       "0"
      ]
     },
     "execution_count": 108,
     "metadata": {},
     "output_type": "execute_result"
    }
   ],
   "source": [
    "df_no_dups['platform'].isnull().sum()"
   ]
  },
  {
   "cell_type": "code",
   "execution_count": 109,
   "id": "50ce931f",
   "metadata": {},
   "outputs": [
    {
     "data": {
      "text/plain": [
       "0         4323\n",
       "789        499\n",
       "1130       469\n",
       "960        466\n",
       "1045       461\n",
       "          ... \n",
       "330632       1\n",
       "351785       1\n",
       "206166       1\n",
       "157894       1\n",
       "94655        1\n",
       "Name: ms_played, Length: 51431, dtype: int64"
      ]
     },
     "execution_count": 109,
     "metadata": {},
     "output_type": "execute_result"
    }
   ],
   "source": [
    "df_no_dups['ms_played'].value_counts()"
   ]
  },
  {
   "cell_type": "code",
   "execution_count": 110,
   "id": "a0bb0e98",
   "metadata": {},
   "outputs": [
    {
     "data": {
      "text/plain": [
       "count     173311\n",
       "mean      166148\n",
       "std       503368\n",
       "min            0\n",
       "25%         2159\n",
       "50%       105759\n",
       "75%       217013\n",
       "max     18670209\n",
       "Name: ms_played, dtype: float64"
      ]
     },
     "execution_count": 110,
     "metadata": {},
     "output_type": "execute_result"
    }
   ],
   "source": [
    "df_no_dups['ms_played'].describe()"
   ]
  },
  {
   "cell_type": "code",
   "execution_count": 111,
   "id": "a47ed3eb",
   "metadata": {
    "scrolled": true
   },
   "outputs": [
    {
     "data": {
      "text/plain": [
       "US    172142\n",
       "ZZ      1164\n",
       "JO         5\n",
       "Name: conn_country, dtype: int64"
      ]
     },
     "execution_count": 111,
     "metadata": {},
     "output_type": "execute_result"
    }
   ],
   "source": [
    "df_no_dups['conn_country'].value_counts()"
   ]
  },
  {
   "cell_type": "code",
   "execution_count": 112,
   "id": "47b1a24a",
   "metadata": {},
   "outputs": [
    {
     "data": {
      "text/plain": [
       "21"
      ]
     },
     "execution_count": 112,
     "metadata": {},
     "output_type": "execute_result"
    }
   ],
   "source": [
    "df_no_dups['user_agent_decrypted'].nunique()"
   ]
  },
  {
   "cell_type": "code",
   "execution_count": 113,
   "id": "210d10c8",
   "metadata": {},
   "outputs": [
    {
     "data": {
      "text/plain": [
       "unknown                                                                                                                                                                                  171796\n",
       "55312411                                                                                                                                                                                    584\n",
       "Mozilla%2F5.0%20(X11;%20Linux%20armv7l)%20AppleWebKit%2F537.36%20(KHTML,%20like%20Gecko)%20Chrome%2F65.0.3325.147%20Safari%2F537.36%20CrKey%2F1.31.114510                                   211\n",
       "Mozilla%2F5.0%20(X11;%20Linux%20armv7l)%20AppleWebKit%2F537.36%20(KHTML,%20like%20Gecko)%20Chrome%2F74.0.3729.100%20Safari%2F537.36%20CrKey%2F1.40.156414                                   166\n",
       "Mozilla%2F5.0%20(X11;%20Linux%20armv7l)%20AppleWebKit%2F537.36%20(KHTML,%20like%20Gecko)%20Chrome%2F63.0.3239.60%20Safari%2F537.36%20CrKey%2F1.29.106111                                    163\n",
       "Mozilla%2F5.0%20(X11;%20Linux%20armv7l)%20AppleWebKit%2F537.36%20(KHTML,%20like%20Gecko)%20Chrome%2F84.0.4147.125%20Safari%2F537.36%20CrKey%2F1.50.229149                                   122\n",
       "Mozilla%2F5.0%20(X11;%20Linux%20armv7l)%20AppleWebKit%2F537.36%20(KHTML,%20like%20Gecko)%20Chrome%2F76.0.3809.81%20Safari%2F537.36%20CrKey%2F1.42.180518                                     94\n",
       "Mozilla%2F5.0%20(X11;%20Linux%20armv7l)%20AppleWebKit%2F537.36%20(KHTML,%20like%20Gecko)%20Chrome%2F76.0.3809.81%20Safari%2F537.36%20CrKey%2F1.42.172094                                     41\n",
       "Mozilla%2F5.0%20(X11;%20Linux%20armv7l)%20AppleWebKit%2F537.36%20(KHTML,%20like%20Gecko)%20Chrome%2F70.0.3538.47%20Safari%2F537.36%20CrKey%2F1.36.141215                                     36\n",
       "Mozilla%2f5.0%20(Macintosh%3b%20Intel%20Mac%20OS%20X%2010%5f10%5f3)%20AppleWebKit%2f537.36%20(KHTML,%20like%20Gecko)%20Chrome%2f45.0.2454.99%20Safari%2f537.36                               33\n",
       "Mozilla%2F5.0%20(X11;%20Linux%20armv7l)%20AppleWebKit%2F537.36%20(KHTML,%20like%20Gecko)%20Chrome%2F66.0.3359.120%20Safari%2F537.36%20CrKey%2F1.32.124602                                    18\n",
       "Mozilla%2F5.0%20(X11;%20Linux%20armv7l)%20AppleWebKit%2F537.36%20(KHTML,%20like%20Gecko)%20Chrome%2F90.0.4430.225%20Safari%2F537.36%20CrKey%2F1.56.500000                                    16\n",
       "Mozilla%2F5.0%20(X11;%20Linux%20armv7l)%20AppleWebKit%2F537.36%20(KHTML,%20like%20Gecko)%20Chrome%2F73.0.3683.47%20Safari%2F537.36%20CrKey%2F1.39.154941                                     15\n",
       "Mozilla%2F5.0%20(X11;%20Linux%20armv7l)%20AppleWebKit%2F537.36%20(KHTML,%20like%20Gecko)%20Chrome%2F63.0.3239.58%20Safari%2F537.36%20CrKey%2F1.29.104827                                      6\n",
       "Mozilla%2F5.0%20(Macintosh;%20Intel%20Mac%20OS%20X%2010_13_1)%20AppleWebKit%2F537.36%20(KHTML,%20like%20Gecko)%20Chrome%2F64.0.3282.167%20Safari%2F537.36                                     2\n",
       "Mozilla%2F5.0%20(X11;%20Linux%20armv7l)%20AppleWebKit%2F537.36%20(KHTML,%20like%20Gecko)%20Chrome%2F76.0.3809.81%20Safari%2F537.36%20CrKey%2F1.42.171861                                      2\n",
       "Mozilla%2F5.0%20(X11;%20Linux%20armv7l)%20AppleWebKit%2F537.36%20(KHTML,%20like%20Gecko)%20Chrome%2F80.0.3987.78%20Safari%2F537.36%20CrKey%2F1.46.195690                                      1\n",
       "Mozilla%2F5.0%20(X11;%20Linux%20armv7l)%20AppleWebKit%2F537.36%20(KHTML,%20like%20Gecko)%20Chrome%2F83.0.4103.97%20Safari%2F537.36%20CrKey%2F1.49.222572                                      1\n",
       "Mozilla%2F5.0%20(X11;%20Linux%20armv7l)%20AppleWebKit%2F537.36%20(KHTML,%20like%20Gecko)%20Chrome%2F88.0.4324.188%20Safari%2F537.36%20CrKey%2F1.54.250118                                     1\n",
       "Mozilla%2F5.0%20(X11;%20Linux%20armv7l)%20AppleWebKit%2F537.36%20(KHTML,%20like%20Gecko)%20Chrome%2F70.0.3538.47%20Safari%2F537.36%20CrKey%2F1.36.139856                                      1\n",
       "Mozilla%2F5.0%20(X11;%20Linux%20armv7l)%20AppleWebKit%2F537.36%20(KHTML,%20like%20Gecko)%20Chrome%2F90.0.4430.225%20Safari%2F537.36%20CrKey%2F1.56.500000%20DeviceType%2FSmartSpeaker         1\n",
       "Name: user_agent_decrypted, dtype: int64"
      ]
     },
     "execution_count": 113,
     "metadata": {},
     "output_type": "execute_result"
    }
   ],
   "source": [
    "df_no_dups['user_agent_decrypted'].value_counts()"
   ]
  },
  {
   "cell_type": "code",
   "execution_count": 114,
   "id": "79669fc5",
   "metadata": {},
   "outputs": [],
   "source": [
    "# Dropping user_agent_decrypted\n",
    "df_no_dups = df_no_dups.drop('user_agent_decrypted', axis=1)"
   ]
  },
  {
   "cell_type": "code",
   "execution_count": 115,
   "id": "1cfcd004",
   "metadata": {},
   "outputs": [
    {
     "data": {
      "text/plain": [
       "Tent in a Thunderstorm                                                      881\n",
       "RAF (feat. A$AP Rocky, Playboi Carti, Quavo, Lil Uzi Vert & Frank Ocean)    190\n",
       "Photosynthesis                                                              177\n",
       "Nights                                                                      159\n",
       "Z4L (with Bari & Jay2)                                                      156\n",
       "                                                                           ... \n",
       "How Can You Mend a Broken Heart                                               1\n",
       "Ole Man Trouble - Mono; 2008 Remaster                                         1\n",
       "One Bourbon, One Scotch, One Beer                                             1\n",
       "Bluffin                                                                       1\n",
       "Let's Hear It for the Boy - From \"Footloose\" Original Soundtrack              1\n",
       "Name: master_metadata_track_name, Length: 26445, dtype: int64"
      ]
     },
     "execution_count": 115,
     "metadata": {},
     "output_type": "execute_result"
    }
   ],
   "source": [
    "df_no_dups['master_metadata_track_name'].value_counts()"
   ]
  },
  {
   "cell_type": "code",
   "execution_count": 116,
   "id": "16c6f732",
   "metadata": {
    "scrolled": true
   },
   "outputs": [
    {
     "data": {
      "text/plain": [
       "26445"
      ]
     },
     "execution_count": 116,
     "metadata": {},
     "output_type": "execute_result"
    }
   ],
   "source": [
    "df_no_dups['master_metadata_track_name'].nunique()"
   ]
  },
  {
   "cell_type": "code",
   "execution_count": 117,
   "id": "8d5f481a",
   "metadata": {},
   "outputs": [
    {
     "data": {
      "text/plain": [
       "2642"
      ]
     },
     "execution_count": 117,
     "metadata": {},
     "output_type": "execute_result"
    }
   ],
   "source": [
    "df_no_dups['master_metadata_track_name'].isnull().sum()"
   ]
  },
  {
   "cell_type": "code",
   "execution_count": 118,
   "id": "880c0a03",
   "metadata": {},
   "outputs": [
    {
     "data": {
      "text/plain": [
       "MF DOOM             2710\n",
       "Frank Ocean         2167\n",
       "Kendrick Lamar      1971\n",
       "Kanye West          1944\n",
       "The Beatles         1583\n",
       "                    ... \n",
       "BUMP OF CHICKEN        1\n",
       "ONE OK ROCK            1\n",
       "RADWIMPS               1\n",
       "ZIGZO                  1\n",
       "Deniece Williams       1\n",
       "Name: master_metadata_album_artist_name, Length: 8418, dtype: int64"
      ]
     },
     "execution_count": 118,
     "metadata": {},
     "output_type": "execute_result"
    }
   ],
   "source": [
    "df_no_dups['master_metadata_album_artist_name'].value_counts()"
   ]
  },
  {
   "cell_type": "code",
   "execution_count": 119,
   "id": "03836715",
   "metadata": {
    "scrolled": true
   },
   "outputs": [
    {
     "data": {
      "text/plain": [
       "8418"
      ]
     },
     "execution_count": 119,
     "metadata": {},
     "output_type": "execute_result"
    }
   ],
   "source": [
    "df_no_dups['master_metadata_album_artist_name'].nunique()"
   ]
  },
  {
   "cell_type": "code",
   "execution_count": 120,
   "id": "fad82499",
   "metadata": {},
   "outputs": [
    {
     "data": {
      "text/plain": [
       "2642"
      ]
     },
     "execution_count": 120,
     "metadata": {},
     "output_type": "execute_result"
    }
   ],
   "source": [
    "df_no_dups['master_metadata_album_artist_name'].isnull().sum()"
   ]
  },
  {
   "cell_type": "code",
   "execution_count": 121,
   "id": "c91ab244",
   "metadata": {},
   "outputs": [
    {
     "data": {
      "text/plain": [
       "Blonde                                                           1372\n",
       "Cozy Tapes Vol. 2: Too Cozy                                      1350\n",
       "Metal Fingers Presents: Special Herbs, The Box Set Vol. 0 - 9    1154\n",
       "Luv Is Rage 2                                                    1119\n",
       "MM...FOOD                                                         884\n",
       "                                                                 ... \n",
       "Time and Place (Digitally Remastered)                               1\n",
       "Dreamer                                                             1\n",
       "I Was Just Leaving                                                  1\n",
       "Believers Never Die - Greatest Hits                                 1\n",
       "Let's Hear It for the Boy (Expanded Edition)                        1\n",
       "Name: master_metadata_album_album_name, Length: 16181, dtype: int64"
      ]
     },
     "execution_count": 121,
     "metadata": {},
     "output_type": "execute_result"
    }
   ],
   "source": [
    "df_no_dups['master_metadata_album_album_name'].value_counts()"
   ]
  },
  {
   "cell_type": "code",
   "execution_count": 122,
   "id": "1abfde21",
   "metadata": {},
   "outputs": [
    {
     "data": {
      "text/plain": [
       "16181"
      ]
     },
     "execution_count": 122,
     "metadata": {},
     "output_type": "execute_result"
    }
   ],
   "source": [
    "df_no_dups['master_metadata_album_album_name'].nunique()"
   ]
  },
  {
   "cell_type": "code",
   "execution_count": 123,
   "id": "82193881",
   "metadata": {},
   "outputs": [
    {
     "data": {
      "text/plain": [
       "2642"
      ]
     },
     "execution_count": 123,
     "metadata": {},
     "output_type": "execute_result"
    }
   ],
   "source": [
    "df_no_dups['master_metadata_album_album_name'].isnull().sum()"
   ]
  },
  {
   "cell_type": "code",
   "execution_count": 124,
   "id": "b2ad83f3",
   "metadata": {},
   "outputs": [
    {
     "data": {
      "text/plain": [
       "31349"
      ]
     },
     "execution_count": 124,
     "metadata": {},
     "output_type": "execute_result"
    }
   ],
   "source": [
    "df_no_dups['spotify_track_uri'].nunique()"
   ]
  },
  {
   "cell_type": "code",
   "execution_count": 125,
   "id": "2bd44e62",
   "metadata": {},
   "outputs": [
    {
     "data": {
      "text/plain": [
       "2642"
      ]
     },
     "execution_count": 125,
     "metadata": {},
     "output_type": "execute_result"
    }
   ],
   "source": [
    "df_no_dups['spotify_track_uri'].isnull().sum()"
   ]
  },
  {
   "cell_type": "code",
   "execution_count": 126,
   "id": "729a7090",
   "metadata": {},
   "outputs": [
    {
     "data": {
      "text/plain": [
       "Greenlights                                                                                   23\n",
       "Stormy Night Rain & Thunder 8 Hours | Peaceful Rainstorm White Noise for Studying or Sleep    16\n",
       "Ep. 1: Here There Be Gerblins - Chapter One                                                   11\n",
       "Ep. 60. The Stolen Century - Chapter One                                                       8\n",
       "#36 - we went to Fiji for literally no reason                                                  7\n",
       "                                                                                              ..\n",
       "Episode 2: My High School Tumblr Posts & McDonald's Horror Stories                             1\n",
       "Episode 3: SLAMMIN' SAMMIES AT THE DENTIST                                                     1\n",
       "Episode 4: Starting YouTube Beef & Party Planning with ANDREW QUO                              1\n",
       "Episode 5: Quarter Life Crisis On Mars                                                         1\n",
       "The Three Golden Apples - A Greek Myth Bedtime Story                                           1\n",
       "Name: episode_name, Length: 1143, dtype: int64"
      ]
     },
     "execution_count": 126,
     "metadata": {},
     "output_type": "execute_result"
    }
   ],
   "source": [
    "df_no_dups['episode_name'].value_counts()"
   ]
  },
  {
   "cell_type": "code",
   "execution_count": 127,
   "id": "c6c8ceeb",
   "metadata": {},
   "outputs": [
    {
     "data": {
      "text/plain": [
       "1143"
      ]
     },
     "execution_count": 127,
     "metadata": {},
     "output_type": "execute_result"
    }
   ],
   "source": [
    "df_no_dups['episode_name'].nunique()"
   ]
  },
  {
   "cell_type": "code",
   "execution_count": 128,
   "id": "fcd47a98",
   "metadata": {},
   "outputs": [
    {
     "data": {
      "text/plain": [
       "171336"
      ]
     },
     "execution_count": 128,
     "metadata": {},
     "output_type": "execute_result"
    }
   ],
   "source": [
    "df_no_dups['episode_name'].isnull().sum()"
   ]
  },
  {
   "cell_type": "code",
   "execution_count": 129,
   "id": "dfea8716",
   "metadata": {},
   "outputs": [
    {
     "data": {
      "text/plain": [
       "The Adventure Zone                               565\n",
       "My Brother, My Brother And Me                    273\n",
       "Pardon My Take                                   179\n",
       "The Tim Dillon Show                               84\n",
       "The Misfits Podcast                               67\n",
       "                                                ... \n",
       "Make Art Not Content                               1\n",
       "Serial                                             1\n",
       "The Times: Essential news from the L.A. Times      1\n",
       "Get Tapped In                                      1\n",
       "Just Sleep - Bedtime Stories for Adults            1\n",
       "Name: episode_show_name, Length: 120, dtype: int64"
      ]
     },
     "execution_count": 129,
     "metadata": {},
     "output_type": "execute_result"
    }
   ],
   "source": [
    "df_no_dups['episode_show_name'].value_counts()"
   ]
  },
  {
   "cell_type": "code",
   "execution_count": 130,
   "id": "f56f97d7",
   "metadata": {
    "scrolled": true
   },
   "outputs": [
    {
     "data": {
      "text/plain": [
       "120"
      ]
     },
     "execution_count": 130,
     "metadata": {},
     "output_type": "execute_result"
    }
   ],
   "source": [
    "df_no_dups['episode_show_name'].nunique()"
   ]
  },
  {
   "cell_type": "code",
   "execution_count": 131,
   "id": "b4c09547",
   "metadata": {},
   "outputs": [
    {
     "data": {
      "text/plain": [
       "171336"
      ]
     },
     "execution_count": 131,
     "metadata": {},
     "output_type": "execute_result"
    }
   ],
   "source": [
    "df_no_dups['episode_show_name'].isnull().sum()"
   ]
  },
  {
   "cell_type": "code",
   "execution_count": 132,
   "id": "9eca7f9e",
   "metadata": {},
   "outputs": [
    {
     "data": {
      "text/plain": [
       "The Adventure Zone                               565\n",
       "My Brother, My Brother And Me                    273\n",
       "Pardon My Take                                   179\n",
       "The Tim Dillon Show                               84\n",
       "The Misfits Podcast                               67\n",
       "                                                ... \n",
       "Make Art Not Content                               1\n",
       "Serial                                             1\n",
       "The Times: Essential news from the L.A. Times      1\n",
       "Get Tapped In                                      1\n",
       "Just Sleep - Bedtime Stories for Adults            1\n",
       "Name: episode_show_name, Length: 120, dtype: int64"
      ]
     },
     "execution_count": 132,
     "metadata": {},
     "output_type": "execute_result"
    }
   ],
   "source": [
    "df_no_dups['episode_show_name'].value_counts()"
   ]
  },
  {
   "cell_type": "code",
   "execution_count": 133,
   "id": "2e4b402f",
   "metadata": {},
   "outputs": [
    {
     "data": {
      "text/plain": [
       "120"
      ]
     },
     "execution_count": 133,
     "metadata": {},
     "output_type": "execute_result"
    }
   ],
   "source": [
    "df_no_dups['episode_show_name'].nunique()"
   ]
  },
  {
   "cell_type": "code",
   "execution_count": 134,
   "id": "2961570f",
   "metadata": {},
   "outputs": [
    {
     "data": {
      "text/plain": [
       "1143"
      ]
     },
     "execution_count": 134,
     "metadata": {},
     "output_type": "execute_result"
    }
   ],
   "source": [
    "df_no_dups['spotify_episode_uri'].nunique()"
   ]
  },
  {
   "cell_type": "code",
   "execution_count": 135,
   "id": "f245c715",
   "metadata": {},
   "outputs": [
    {
     "data": {
      "text/plain": [
       "171336"
      ]
     },
     "execution_count": 135,
     "metadata": {},
     "output_type": "execute_result"
    }
   ],
   "source": [
    "df_no_dups['spotify_episode_uri'].isnull().sum()"
   ]
  },
  {
   "cell_type": "code",
   "execution_count": 136,
   "id": "05c25f96",
   "metadata": {
    "scrolled": true
   },
   "outputs": [
    {
     "data": {
      "text/plain": [
       "trackdone     74547\n",
       "fwdbtn        60784\n",
       "clickrow      26148\n",
       "popup          4104\n",
       "backbtn        3239\n",
       "playbtn        1722\n",
       "appload        1247\n",
       "unknown         777\n",
       "uriopen         265\n",
       "remote          258\n",
       "trackerror      183\n",
       "                 19\n",
       "clickside        18\n",
       "Name: reason_start, dtype: int64"
      ]
     },
     "execution_count": 136,
     "metadata": {},
     "output_type": "execute_result"
    }
   ],
   "source": [
    "df_no_dups['reason_start'].value_counts()"
   ]
  },
  {
   "cell_type": "code",
   "execution_count": 137,
   "id": "c87f7b72",
   "metadata": {},
   "outputs": [
    {
     "data": {
      "text/plain": [
       "13"
      ]
     },
     "execution_count": 137,
     "metadata": {},
     "output_type": "execute_result"
    }
   ],
   "source": [
    "df_no_dups['reason_start'].nunique()"
   ]
  },
  {
   "cell_type": "code",
   "execution_count": 138,
   "id": "1994d9a8",
   "metadata": {},
   "outputs": [
    {
     "data": {
      "text/plain": [
       "trackdone                       75491\n",
       "fwdbtn                          60896\n",
       "endplay                         24598\n",
       "popup                            3618\n",
       "backbtn                          3233\n",
       "unexpected-exit-while-paused     3158\n",
       "unknown                           898\n",
       "logout                            475\n",
       "uriopen                           262\n",
       "clickrow                          241\n",
       "unexpected-exit                   180\n",
       "remote                            177\n",
       "playbtn                            33\n",
       "                                   19\n",
       "trackerror                         19\n",
       "clickside                          13\n",
       "Name: reason_end, dtype: int64"
      ]
     },
     "execution_count": 138,
     "metadata": {},
     "output_type": "execute_result"
    }
   ],
   "source": [
    "df_no_dups['reason_end'].value_counts()"
   ]
  },
  {
   "cell_type": "code",
   "execution_count": 139,
   "id": "c070ca8e",
   "metadata": {},
   "outputs": [
    {
     "data": {
      "text/plain": [
       "16"
      ]
     },
     "execution_count": 139,
     "metadata": {},
     "output_type": "execute_result"
    }
   ],
   "source": [
    "df_no_dups['reason_end'].nunique()"
   ]
  },
  {
   "cell_type": "code",
   "execution_count": 140,
   "id": "2d4a75f9",
   "metadata": {
    "scrolled": true
   },
   "outputs": [
    {
     "data": {
      "text/plain": [
       "False    91218\n",
       "True     82093\n",
       "Name: shuffle, dtype: int64"
      ]
     },
     "execution_count": 140,
     "metadata": {},
     "output_type": "execute_result"
    }
   ],
   "source": [
    " df_no_dups['shuffle'].value_counts()"
   ]
  },
  {
   "cell_type": "code",
   "execution_count": 141,
   "id": "fb430f88",
   "metadata": {},
   "outputs": [
    {
     "data": {
      "text/plain": [
       "1    19066\n",
       "0    12363\n",
       "Name: skipped, dtype: int64"
      ]
     },
     "execution_count": 141,
     "metadata": {},
     "output_type": "execute_result"
    }
   ],
   "source": [
    "df_no_dups['skipped'].value_counts()"
   ]
  },
  {
   "cell_type": "code",
   "execution_count": 142,
   "id": "c7007235",
   "metadata": {},
   "outputs": [
    {
     "data": {
      "text/plain": [
       "141882"
      ]
     },
     "execution_count": 142,
     "metadata": {},
     "output_type": "execute_result"
    }
   ],
   "source": [
    "df_no_dups['skipped'].isnull().sum()"
   ]
  },
  {
   "cell_type": "code",
   "execution_count": 143,
   "id": "e909e97d",
   "metadata": {
    "scrolled": false
   },
   "outputs": [
    {
     "data": {
      "text/plain": [
       "False    171439\n",
       "True       1872\n",
       "Name: offline, dtype: int64"
      ]
     },
     "execution_count": 143,
     "metadata": {},
     "output_type": "execute_result"
    }
   ],
   "source": [
    "df_no_dups['offline'].value_counts()"
   ]
  },
  {
   "cell_type": "code",
   "execution_count": 144,
   "id": "2232d5a3",
   "metadata": {
    "scrolled": true
   },
   "outputs": [
    {
     "data": {
      "text/plain": [
       "False    172989\n",
       "True        322\n",
       "Name: incognito_mode, dtype: int64"
      ]
     },
     "execution_count": 144,
     "metadata": {},
     "output_type": "execute_result"
    }
   ],
   "source": [
    "df_no_dups['incognito_mode'].value_counts()"
   ]
  },
  {
   "cell_type": "code",
   "execution_count": 168,
   "id": "016a055b",
   "metadata": {},
   "outputs": [],
   "source": [
    "# Dropping incognito mode as it is not relevant \n",
    "df_no_dups = df_no_dups.drop('incognito_mode', axis=1)"
   ]
  },
  {
   "cell_type": "code",
   "execution_count": 145,
   "id": "ed85d90f",
   "metadata": {},
   "outputs": [
    {
     "data": {
      "text/plain": [
       "41    22260\n",
       "38    21945\n",
       "38    18824\n",
       "38    16145\n",
       "38    15559\n",
       "      ...  \n",
       "36        1\n",
       "32        1\n",
       "26        1\n",
       "33        1\n",
       "41        1\n",
       "Name: latitude, Length: 141, dtype: int64"
      ]
     },
     "execution_count": 145,
     "metadata": {},
     "output_type": "execute_result"
    }
   ],
   "source": [
    "df_no_dups['latitude'].value_counts()"
   ]
  },
  {
   "cell_type": "code",
   "execution_count": 146,
   "id": "0515f60a",
   "metadata": {},
   "outputs": [
    {
     "data": {
      "text/plain": [
       "141"
      ]
     },
     "execution_count": 146,
     "metadata": {},
     "output_type": "execute_result"
    }
   ],
   "source": [
    "df_no_dups['latitude'].nunique()"
   ]
  },
  {
   "cell_type": "code",
   "execution_count": 147,
   "id": "a0782088",
   "metadata": {},
   "outputs": [
    {
     "data": {
      "text/plain": [
       "260"
      ]
     },
     "execution_count": 147,
     "metadata": {},
     "output_type": "execute_result"
    }
   ],
   "source": [
    "df_no_dups['latitude'].isnull().sum()"
   ]
  },
  {
   "cell_type": "code",
   "execution_count": 148,
   "id": "2e12c733",
   "metadata": {},
   "outputs": [
    {
     "data": {
      "text/plain": [
       "-74     22260\n",
       "-77     21945\n",
       "-78     18824\n",
       "-76     16145\n",
       "-77     15559\n",
       "        ...  \n",
       "-115        1\n",
       "-111        1\n",
       "-80         1\n",
       "-112        1\n",
       "-74         1\n",
       "Name: longitude, Length: 141, dtype: int64"
      ]
     },
     "execution_count": 148,
     "metadata": {},
     "output_type": "execute_result"
    }
   ],
   "source": [
    "df_no_dups['longitude'].value_counts()"
   ]
  },
  {
   "cell_type": "code",
   "execution_count": 149,
   "id": "70e63fdf",
   "metadata": {},
   "outputs": [
    {
     "data": {
      "text/plain": [
       "141"
      ]
     },
     "execution_count": 149,
     "metadata": {},
     "output_type": "execute_result"
    }
   ],
   "source": [
    "df_no_dups['longitude'].nunique()"
   ]
  },
  {
   "cell_type": "code",
   "execution_count": 150,
   "id": "006d1959",
   "metadata": {},
   "outputs": [
    {
     "data": {
      "text/plain": [
       "260"
      ]
     },
     "execution_count": 150,
     "metadata": {},
     "output_type": "execute_result"
    }
   ],
   "source": [
    "df_no_dups['longitude'].isnull().sum()"
   ]
  },
  {
   "cell_type": "code",
   "execution_count": 151,
   "id": "4497f66d",
   "metadata": {},
   "outputs": [
    {
     "data": {
      "text/plain": [
       "Virginia                110178\n",
       "New York                 23174\n",
       "Pennsylvania             16133\n",
       "New Jersey               11649\n",
       "Alabama                   4848\n",
       "Florida                   2025\n",
       "Utah                       941\n",
       "Indiana                    903\n",
       "California                 618\n",
       "District of Columbia       405\n",
       "Georgia                    394\n",
       "Texas                      382\n",
       "Arizona                    235\n",
       "Nevada                     222\n",
       "Illinois                   217\n",
       "North Carolina             213\n",
       "Ohio                       199\n",
       "South Carolina             170\n",
       "Idaho                      108\n",
       "Maryland                    76\n",
       "Minnesota                   63\n",
       "Washington                  53\n",
       "Wisconsin                   41\n",
       "Kentucky                    36\n",
       "West Virginia               13\n",
       "Michigan                    12\n",
       "Massachusetts                3\n",
       "Name: region, dtype: int64"
      ]
     },
     "execution_count": 151,
     "metadata": {},
     "output_type": "execute_result"
    }
   ],
   "source": [
    "df_no_dups['region'].value_counts()"
   ]
  },
  {
   "cell_type": "code",
   "execution_count": 152,
   "id": "9e4a45d9",
   "metadata": {},
   "outputs": [
    {
     "data": {
      "text/plain": [
       "0"
      ]
     },
     "execution_count": 152,
     "metadata": {},
     "output_type": "execute_result"
    }
   ],
   "source": [
    "df_no_dups['region'].isnull().sum()"
   ]
  },
  {
   "cell_type": "markdown",
   "id": "8fb6b0fc",
   "metadata": {},
   "source": [
    "# Casting new data types "
   ]
  },
  {
   "cell_type": "code",
   "execution_count": 153,
   "id": "8ce76d32",
   "metadata": {},
   "outputs": [
    {
     "data": {
      "text/plain": [
       "0    2012-07-17T02:48:23Z\n",
       "1    2012-07-17T22:26:20Z\n",
       "2    2012-07-17T22:26:23Z\n",
       "3    2012-07-17T22:26:24Z\n",
       "4    2012-07-17T22:26:26Z\n",
       "Name: ts, dtype: object"
      ]
     },
     "execution_count": 153,
     "metadata": {},
     "output_type": "execute_result"
    }
   ],
   "source": [
    "df_no_dups['ts'].head()"
   ]
  },
  {
   "cell_type": "code",
   "execution_count": 88,
   "id": "822f30fd",
   "metadata": {},
   "outputs": [],
   "source": [
    "pd.options.display.float_format = '{:.0f}'.format"
   ]
  },
  {
   "cell_type": "code",
   "execution_count": 155,
   "id": "89491188",
   "metadata": {},
   "outputs": [],
   "source": [
    "# Converting ts to datetime \n",
    "df_no_dups['ts'] = pd.to_datetime(df_no_dups['ts'], format='%Y-%m-%dT%H:%M:%SZ')"
   ]
  },
  {
   "cell_type": "code",
   "execution_count": 156,
   "id": "af75aa96",
   "metadata": {},
   "outputs": [
    {
     "data": {
      "text/plain": [
       "0   2012-07-17 02:48:23\n",
       "1   2012-07-17 22:26:20\n",
       "2   2012-07-17 22:26:23\n",
       "3   2012-07-17 22:26:24\n",
       "4   2012-07-17 22:26:26\n",
       "Name: ts, dtype: datetime64[ns]"
      ]
     },
     "execution_count": 156,
     "metadata": {},
     "output_type": "execute_result"
    }
   ],
   "source": [
    "df_no_dups['ts'].head()"
   ]
  },
  {
   "cell_type": "code",
   "execution_count": 157,
   "id": "1c450ff3",
   "metadata": {
    "scrolled": false
   },
   "outputs": [
    {
     "data": {
      "text/plain": [
       "0         4323\n",
       "789        499\n",
       "1130       469\n",
       "960        466\n",
       "1045       461\n",
       "          ... \n",
       "330632       1\n",
       "351785       1\n",
       "206166       1\n",
       "157894       1\n",
       "94655        1\n",
       "Name: ms_played, Length: 51431, dtype: int64"
      ]
     },
     "execution_count": 157,
     "metadata": {},
     "output_type": "execute_result"
    }
   ],
   "source": [
    "df_no_dups['ms_played'].value_counts()"
   ]
  },
  {
   "cell_type": "code",
   "execution_count": 158,
   "id": "2ef21675",
   "metadata": {},
   "outputs": [
    {
     "name": "stderr",
     "output_type": "stream",
     "text": [
      "/var/folders/hg/rtfjsgrs3cz8yw53zn0slldm0000gn/T/ipykernel_92864/507810145.py:1: FutureWarning: Treating datetime data as categorical rather than numeric in `.describe` is deprecated and will be removed in a future version of pandas. Specify `datetime_is_numeric=True` to silence this warning and adopt the future behavior now.\n",
      "  df_no_dups['ts'].describe()\n"
     ]
    },
    {
     "data": {
      "text/plain": [
       "count                  173311\n",
       "unique                 165867\n",
       "top       2021-02-27 00:27:21\n",
       "freq                      142\n",
       "first     2012-07-17 02:48:23\n",
       "last      2023-08-23 23:08:21\n",
       "Name: ts, dtype: object"
      ]
     },
     "execution_count": 158,
     "metadata": {},
     "output_type": "execute_result"
    }
   ],
   "source": [
    "df_no_dups['ts'].describe()"
   ]
  },
  {
   "cell_type": "code",
   "execution_count": 159,
   "id": "9e6ed32b",
   "metadata": {
    "scrolled": true
   },
   "outputs": [
    {
     "data": {
      "text/plain": [
       "count     173311\n",
       "mean      166148\n",
       "std       503368\n",
       "min            0\n",
       "25%         2159\n",
       "50%       105759\n",
       "75%       217013\n",
       "max     18670209\n",
       "Name: ms_played, dtype: float64"
      ]
     },
     "execution_count": 159,
     "metadata": {},
     "output_type": "execute_result"
    }
   ],
   "source": [
    "df_no_dups['ms_played'].describe()"
   ]
  },
  {
   "cell_type": "code",
   "execution_count": 160,
   "id": "1b3769f6",
   "metadata": {},
   "outputs": [
    {
     "data": {
      "text/plain": [
       "141882"
      ]
     },
     "execution_count": 160,
     "metadata": {},
     "output_type": "execute_result"
    }
   ],
   "source": [
    "df_no_dups['skipped'].isnull().sum()"
   ]
  },
  {
   "cell_type": "code",
   "execution_count": 164,
   "id": "529f6ec2",
   "metadata": {},
   "outputs": [],
   "source": [
    "df_no_dups['skipped'] = df_no_dups['skipped'].fillna('NaT')"
   ]
  },
  {
   "cell_type": "code",
   "execution_count": 165,
   "id": "9ae89d0e",
   "metadata": {},
   "outputs": [
    {
     "data": {
      "text/plain": [
       "NaT    141882\n",
       "1.0     19066\n",
       "0.0     12363\n",
       "Name: skipped, dtype: int64"
      ]
     },
     "execution_count": 165,
     "metadata": {},
     "output_type": "execute_result"
    }
   ],
   "source": [
    "df_no_dups['skipped'].value_counts()"
   ]
  },
  {
   "cell_type": "code",
   "execution_count": 163,
   "id": "a23acb4b",
   "metadata": {},
   "outputs": [
    {
     "data": {
      "text/plain": [
       "3"
      ]
     },
     "execution_count": 163,
     "metadata": {},
     "output_type": "execute_result"
    }
   ],
   "source": [
    "df_no_dups['skipped'].nunique()"
   ]
  },
  {
   "cell_type": "code",
   "execution_count": 166,
   "id": "4bdced55",
   "metadata": {},
   "outputs": [
    {
     "data": {
      "text/plain": [
       "(173311, 22)"
      ]
     },
     "execution_count": 166,
     "metadata": {},
     "output_type": "execute_result"
    }
   ],
   "source": [
    "df_no_dups.shape"
   ]
  },
  {
   "cell_type": "code",
   "execution_count": 169,
   "id": "4d99c94d",
   "metadata": {},
   "outputs": [
    {
     "data": {
      "text/plain": [
       "Index(['ts', 'platform', 'ms_played', 'conn_country', 'ip_addr_decrypted',\n",
       "       'master_metadata_track_name', 'master_metadata_album_artist_name',\n",
       "       'master_metadata_album_album_name', 'spotify_track_uri', 'episode_name',\n",
       "       'episode_show_name', 'spotify_episode_uri', 'reason_start',\n",
       "       'reason_end', 'shuffle', 'skipped', 'offline', 'offline_timestamp',\n",
       "       'latitude', 'longitude', 'region'],\n",
       "      dtype='object')"
      ]
     },
     "execution_count": 169,
     "metadata": {},
     "output_type": "execute_result"
    }
   ],
   "source": [
    "df_no_dups.columns"
   ]
  },
  {
   "cell_type": "markdown",
   "id": "ffdeb5dd",
   "metadata": {},
   "source": [
    "## Dropping any other unnecessary columns "
   ]
  },
  {
   "cell_type": "code",
   "execution_count": 170,
   "id": "72573e37",
   "metadata": {},
   "outputs": [],
   "source": [
    "df_no_dups = df_no_dups.drop(['ip_addr_decrypted','offline_timestamp'], axis=1)"
   ]
  },
  {
   "cell_type": "markdown",
   "id": "ed01157b",
   "metadata": {},
   "source": [
    "# Exporting data "
   ]
  },
  {
   "cell_type": "code",
   "execution_count": 171,
   "id": "f4780fee",
   "metadata": {},
   "outputs": [],
   "source": [
    "df_no_dups.to_pickle(os.path.join(path,'01 Data','02 Prepared Data','full_df_cleaned.pkl'))"
   ]
  },
  {
   "cell_type": "code",
   "execution_count": null,
   "id": "25dd94f0",
   "metadata": {},
   "outputs": [],
   "source": []
  }
 ],
 "metadata": {
  "kernelspec": {
   "display_name": "Python 3 (ipykernel)",
   "language": "python",
   "name": "python3"
  },
  "language_info": {
   "codemirror_mode": {
    "name": "ipython",
    "version": 3
   },
   "file_extension": ".py",
   "mimetype": "text/x-python",
   "name": "python",
   "nbconvert_exporter": "python",
   "pygments_lexer": "ipython3",
   "version": "3.10.9"
  }
 },
 "nbformat": 4,
 "nbformat_minor": 5
}
