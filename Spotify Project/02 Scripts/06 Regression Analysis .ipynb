{
 "cells": [
  {
   "cell_type": "markdown",
   "id": "2a745543",
   "metadata": {},
   "source": [
    "# 06 Spotify Data Regression Analysis "
   ]
  },
  {
   "cell_type": "markdown",
   "id": "11effbd1",
   "metadata": {},
   "source": [
    "## 01 Importing Libraries and Data "
   ]
  },
  {
   "cell_type": "code",
   "execution_count": 2,
   "id": "bfe213a4",
   "metadata": {},
   "outputs": [],
   "source": [
    "import pandas as pd \n",
    "import numpy as np \n",
    "import matplotlib\n",
    "import matplotlib.pyplot as plt\n",
    "import seaborn as sns\n",
    "import sklearn \n",
    "from sklearn.model_selection import train_test_split\n",
    "from sklearn.linear_model import LinearRegression \n",
    "from sklearn.metrics import mean_squared_error, r2_score\n",
    "import os "
   ]
  },
  {
   "cell_type": "code",
   "execution_count": 3,
   "id": "3465d1aa",
   "metadata": {},
   "outputs": [],
   "source": [
    "%matplotlib inline "
   ]
  },
  {
   "cell_type": "code",
   "execution_count": 4,
   "id": "a91c69c7",
   "metadata": {},
   "outputs": [],
   "source": [
    "path = '/Users/brookecoffey/Desktop/DataAnalyticsTy/Achievement 6 /Spotify Project'"
   ]
  },
  {
   "cell_type": "code",
   "execution_count": 5,
   "id": "02d1bea1",
   "metadata": {},
   "outputs": [],
   "source": [
    "df = pd.read_pickle(os.path.join(path, '01 Data', '02 Prepared Data', 'df_6.pkl'))"
   ]
  },
  {
   "cell_type": "markdown",
   "id": "3daba5ba",
   "metadata": {},
   "source": [
    "## 02 Data Cleaning \n",
    "### Take a subset of songs that were skipped "
   ]
  },
  {
   "cell_type": "code",
   "execution_count": 6,
   "id": "19033eb0",
   "metadata": {},
   "outputs": [
    {
     "data": {
      "text/plain": [
       "not skipped    74945\n",
       "skipped        60730\n",
       "other          36441\n",
       "Name: skipped_x, dtype: int64"
      ]
     },
     "execution_count": 6,
     "metadata": {},
     "output_type": "execute_result"
    }
   ],
   "source": [
    "df['skipped_x'].value_counts()"
   ]
  },
  {
   "cell_type": "code",
   "execution_count": 7,
   "id": "26e0c930",
   "metadata": {},
   "outputs": [],
   "source": [
    "df_sub = df[df['skipped_x'] == 'skipped'].reset_index()"
   ]
  },
  {
   "cell_type": "code",
   "execution_count": 8,
   "id": "234cf413",
   "metadata": {},
   "outputs": [],
   "source": [
    "df_sub = df_sub[df_sub['count_y'] < 800].reset_index()"
   ]
  },
  {
   "cell_type": "code",
   "execution_count": 9,
   "id": "a85b45c7",
   "metadata": {},
   "outputs": [
    {
     "data": {
      "text/plain": [
       "(60511, 30)"
      ]
     },
     "execution_count": 9,
     "metadata": {},
     "output_type": "execute_result"
    }
   ],
   "source": [
    "df_sub.shape"
   ]
  },
  {
   "cell_type": "code",
   "execution_count": 10,
   "id": "b4bbec2a",
   "metadata": {},
   "outputs": [],
   "source": [
    "pd.set_option('display.max_columns', 1000)"
   ]
  },
  {
   "cell_type": "code",
   "execution_count": 11,
   "id": "4731a8e5",
   "metadata": {},
   "outputs": [
    {
     "data": {
      "text/html": [
       "<div>\n",
       "<style scoped>\n",
       "    .dataframe tbody tr th:only-of-type {\n",
       "        vertical-align: middle;\n",
       "    }\n",
       "\n",
       "    .dataframe tbody tr th {\n",
       "        vertical-align: top;\n",
       "    }\n",
       "\n",
       "    .dataframe thead th {\n",
       "        text-align: right;\n",
       "    }\n",
       "</style>\n",
       "<table border=\"1\" class=\"dataframe\">\n",
       "  <thead>\n",
       "    <tr style=\"text-align: right;\">\n",
       "      <th></th>\n",
       "      <th>level_0</th>\n",
       "      <th>index</th>\n",
       "      <th>ts</th>\n",
       "      <th>platform</th>\n",
       "      <th>ms_played</th>\n",
       "      <th>conn_country</th>\n",
       "      <th>master_metadata_track_name</th>\n",
       "      <th>master_metadata_album_artist_name</th>\n",
       "      <th>master_metadata_album_album_name</th>\n",
       "      <th>spotify_track_uri</th>\n",
       "      <th>episode_name</th>\n",
       "      <th>episode_show_name</th>\n",
       "      <th>spotify_episode_uri</th>\n",
       "      <th>reason_start</th>\n",
       "      <th>reason_end</th>\n",
       "      <th>shuffle</th>\n",
       "      <th>skipped_x</th>\n",
       "      <th>offline</th>\n",
       "      <th>latitude</th>\n",
       "      <th>longitude</th>\n",
       "      <th>region</th>\n",
       "      <th>minutes_seconds</th>\n",
       "      <th>year</th>\n",
       "      <th>month</th>\n",
       "      <th>day_of_week</th>\n",
       "      <th>hour_of_day</th>\n",
       "      <th>skipped_ratio</th>\n",
       "      <th>skip_prob</th>\n",
       "      <th>count_y</th>\n",
       "      <th>listening_frequency</th>\n",
       "    </tr>\n",
       "  </thead>\n",
       "  <tbody>\n",
       "    <tr>\n",
       "      <th>0</th>\n",
       "      <td>0</td>\n",
       "      <td>1</td>\n",
       "      <td>2012-07-17 22:26:20</td>\n",
       "      <td>iOS 5.1.1 (iPod4,1)</td>\n",
       "      <td>25727</td>\n",
       "      <td>US</td>\n",
       "      <td>Jump (feat. Nelly Furtado)</td>\n",
       "      <td>Flo Rida</td>\n",
       "      <td>R.O.O.T.S. (Route of Overcoming the Struggle)</td>\n",
       "      <td>spotify:track:4uGucgzv0ydi35DgAlsTQ4</td>\n",
       "      <td>NaN</td>\n",
       "      <td>NaN</td>\n",
       "      <td>NaN</td>\n",
       "      <td>unknown</td>\n",
       "      <td>fwdbtn</td>\n",
       "      <td>False</td>\n",
       "      <td>skipped</td>\n",
       "      <td>False</td>\n",
       "      <td>40.1678</td>\n",
       "      <td>-80.2591</td>\n",
       "      <td>Pennsylvania</td>\n",
       "      <td>00:25</td>\n",
       "      <td>2012</td>\n",
       "      <td>7</td>\n",
       "      <td>1</td>\n",
       "      <td>22</td>\n",
       "      <td>NaN</td>\n",
       "      <td>fwdbtn</td>\n",
       "      <td>1.0</td>\n",
       "      <td>Only Played Once</td>\n",
       "    </tr>\n",
       "    <tr>\n",
       "      <th>1</th>\n",
       "      <td>1</td>\n",
       "      <td>2</td>\n",
       "      <td>2012-07-17 22:26:23</td>\n",
       "      <td>iOS 5.1.1 (iPod4,1)</td>\n",
       "      <td>3436</td>\n",
       "      <td>US</td>\n",
       "      <td>I Know You Want Me (Calle Ocho)</td>\n",
       "      <td>Pitbull</td>\n",
       "      <td>Pitbull Starring In Rebelution</td>\n",
       "      <td>spotify:track:5RzFJd6W40SDTyZkX6xx45</td>\n",
       "      <td>NaN</td>\n",
       "      <td>NaN</td>\n",
       "      <td>NaN</td>\n",
       "      <td>fwdbtn</td>\n",
       "      <td>fwdbtn</td>\n",
       "      <td>False</td>\n",
       "      <td>skipped</td>\n",
       "      <td>False</td>\n",
       "      <td>40.1678</td>\n",
       "      <td>-80.2591</td>\n",
       "      <td>Pennsylvania</td>\n",
       "      <td>00:03</td>\n",
       "      <td>2012</td>\n",
       "      <td>7</td>\n",
       "      <td>1</td>\n",
       "      <td>22</td>\n",
       "      <td>2.000000</td>\n",
       "      <td>very likely to be skipped</td>\n",
       "      <td>5.0</td>\n",
       "      <td>Low Frequency</td>\n",
       "    </tr>\n",
       "    <tr>\n",
       "      <th>2</th>\n",
       "      <td>2</td>\n",
       "      <td>3</td>\n",
       "      <td>2012-07-17 22:26:24</td>\n",
       "      <td>iOS 5.1.1 (iPod4,1)</td>\n",
       "      <td>1532</td>\n",
       "      <td>US</td>\n",
       "      <td>Over And Over</td>\n",
       "      <td>Nelly</td>\n",
       "      <td>6 Pack</td>\n",
       "      <td>spotify:track:2Gfr96HuhYqGcteLv9XUJP</td>\n",
       "      <td>NaN</td>\n",
       "      <td>NaN</td>\n",
       "      <td>NaN</td>\n",
       "      <td>fwdbtn</td>\n",
       "      <td>fwdbtn</td>\n",
       "      <td>False</td>\n",
       "      <td>skipped</td>\n",
       "      <td>False</td>\n",
       "      <td>40.1678</td>\n",
       "      <td>-80.2591</td>\n",
       "      <td>Pennsylvania</td>\n",
       "      <td>00:01</td>\n",
       "      <td>2012</td>\n",
       "      <td>7</td>\n",
       "      <td>1</td>\n",
       "      <td>22</td>\n",
       "      <td>NaN</td>\n",
       "      <td>fwdbtn</td>\n",
       "      <td>1.0</td>\n",
       "      <td>Only Played Once</td>\n",
       "    </tr>\n",
       "    <tr>\n",
       "      <th>3</th>\n",
       "      <td>3</td>\n",
       "      <td>4</td>\n",
       "      <td>2012-07-17 22:26:26</td>\n",
       "      <td>iOS 5.1.1 (iPod4,1)</td>\n",
       "      <td>1486</td>\n",
       "      <td>US</td>\n",
       "      <td>Pause</td>\n",
       "      <td>Pitbull</td>\n",
       "      <td>Planet Pit (Deluxe Version)</td>\n",
       "      <td>spotify:track:0c7wqpBLOTFr1yb70LHGFM</td>\n",
       "      <td>NaN</td>\n",
       "      <td>NaN</td>\n",
       "      <td>NaN</td>\n",
       "      <td>fwdbtn</td>\n",
       "      <td>fwdbtn</td>\n",
       "      <td>False</td>\n",
       "      <td>skipped</td>\n",
       "      <td>False</td>\n",
       "      <td>40.1678</td>\n",
       "      <td>-80.2591</td>\n",
       "      <td>Pennsylvania</td>\n",
       "      <td>00:01</td>\n",
       "      <td>2012</td>\n",
       "      <td>7</td>\n",
       "      <td>1</td>\n",
       "      <td>22</td>\n",
       "      <td>NaN</td>\n",
       "      <td>fwdbtn</td>\n",
       "      <td>1.0</td>\n",
       "      <td>Only Played Once</td>\n",
       "    </tr>\n",
       "    <tr>\n",
       "      <th>4</th>\n",
       "      <td>4</td>\n",
       "      <td>5</td>\n",
       "      <td>2012-07-17 22:26:27</td>\n",
       "      <td>iOS 5.1.1 (iPod4,1)</td>\n",
       "      <td>1346</td>\n",
       "      <td>US</td>\n",
       "      <td>I Can Only Imagine (feat. Chris Brown &amp; Lil Wa...</td>\n",
       "      <td>David Guetta</td>\n",
       "      <td>Nothing But The Beat</td>\n",
       "      <td>spotify:track:3y1BByn0QkxexLBkiqBT7R</td>\n",
       "      <td>NaN</td>\n",
       "      <td>NaN</td>\n",
       "      <td>NaN</td>\n",
       "      <td>fwdbtn</td>\n",
       "      <td>fwdbtn</td>\n",
       "      <td>False</td>\n",
       "      <td>skipped</td>\n",
       "      <td>False</td>\n",
       "      <td>40.1678</td>\n",
       "      <td>-80.2591</td>\n",
       "      <td>Pennsylvania</td>\n",
       "      <td>00:01</td>\n",
       "      <td>2012</td>\n",
       "      <td>7</td>\n",
       "      <td>1</td>\n",
       "      <td>22</td>\n",
       "      <td>NaN</td>\n",
       "      <td>fwdbtn</td>\n",
       "      <td>1.0</td>\n",
       "      <td>Only Played Once</td>\n",
       "    </tr>\n",
       "    <tr>\n",
       "      <th>...</th>\n",
       "      <td>...</td>\n",
       "      <td>...</td>\n",
       "      <td>...</td>\n",
       "      <td>...</td>\n",
       "      <td>...</td>\n",
       "      <td>...</td>\n",
       "      <td>...</td>\n",
       "      <td>...</td>\n",
       "      <td>...</td>\n",
       "      <td>...</td>\n",
       "      <td>...</td>\n",
       "      <td>...</td>\n",
       "      <td>...</td>\n",
       "      <td>...</td>\n",
       "      <td>...</td>\n",
       "      <td>...</td>\n",
       "      <td>...</td>\n",
       "      <td>...</td>\n",
       "      <td>...</td>\n",
       "      <td>...</td>\n",
       "      <td>...</td>\n",
       "      <td>...</td>\n",
       "      <td>...</td>\n",
       "      <td>...</td>\n",
       "      <td>...</td>\n",
       "      <td>...</td>\n",
       "      <td>...</td>\n",
       "      <td>...</td>\n",
       "      <td>...</td>\n",
       "      <td>...</td>\n",
       "    </tr>\n",
       "    <tr>\n",
       "      <th>60506</th>\n",
       "      <td>60725</td>\n",
       "      <td>173279</td>\n",
       "      <td>2023-08-23 12:19:25</td>\n",
       "      <td>ios</td>\n",
       "      <td>1322</td>\n",
       "      <td>US</td>\n",
       "      <td>You Spin Me Round (Like a Record)</td>\n",
       "      <td>Dead Or Alive</td>\n",
       "      <td>Evolution: The Hits</td>\n",
       "      <td>spotify:track:1ChulFMnwxoD74Me8eX2TU</td>\n",
       "      <td>None</td>\n",
       "      <td>None</td>\n",
       "      <td>None</td>\n",
       "      <td>fwdbtn</td>\n",
       "      <td>fwdbtn</td>\n",
       "      <td>False</td>\n",
       "      <td>skipped</td>\n",
       "      <td>False</td>\n",
       "      <td>37.5503</td>\n",
       "      <td>-77.3942</td>\n",
       "      <td>Virginia</td>\n",
       "      <td>00:01</td>\n",
       "      <td>2023</td>\n",
       "      <td>8</td>\n",
       "      <td>2</td>\n",
       "      <td>12</td>\n",
       "      <td>1.000000</td>\n",
       "      <td>likely to be skipped</td>\n",
       "      <td>2.0</td>\n",
       "      <td>Low Frequency</td>\n",
       "    </tr>\n",
       "    <tr>\n",
       "      <th>60507</th>\n",
       "      <td>60726</td>\n",
       "      <td>173280</td>\n",
       "      <td>2023-08-23 12:19:26</td>\n",
       "      <td>ios</td>\n",
       "      <td>917</td>\n",
       "      <td>US</td>\n",
       "      <td>Like a Virgin</td>\n",
       "      <td>Madonna</td>\n",
       "      <td>Like a Virgin</td>\n",
       "      <td>spotify:track:1ZPlNanZsJSPK5h9YZZFbZ</td>\n",
       "      <td>None</td>\n",
       "      <td>None</td>\n",
       "      <td>None</td>\n",
       "      <td>fwdbtn</td>\n",
       "      <td>fwdbtn</td>\n",
       "      <td>False</td>\n",
       "      <td>skipped</td>\n",
       "      <td>False</td>\n",
       "      <td>37.5503</td>\n",
       "      <td>-77.3942</td>\n",
       "      <td>Virginia</td>\n",
       "      <td>00:00</td>\n",
       "      <td>2023</td>\n",
       "      <td>8</td>\n",
       "      <td>2</td>\n",
       "      <td>12</td>\n",
       "      <td>inf</td>\n",
       "      <td>very likely to be skipped</td>\n",
       "      <td>3.0</td>\n",
       "      <td>Low Frequency</td>\n",
       "    </tr>\n",
       "    <tr>\n",
       "      <th>60508</th>\n",
       "      <td>60727</td>\n",
       "      <td>173281</td>\n",
       "      <td>2023-08-23 12:19:27</td>\n",
       "      <td>ios</td>\n",
       "      <td>960</td>\n",
       "      <td>US</td>\n",
       "      <td>Never Gonna Give You Up</td>\n",
       "      <td>Rick Astley</td>\n",
       "      <td>Whenever You Need Somebody</td>\n",
       "      <td>spotify:track:4cOdK2wGLETKBW3PvgPWqT</td>\n",
       "      <td>None</td>\n",
       "      <td>None</td>\n",
       "      <td>None</td>\n",
       "      <td>fwdbtn</td>\n",
       "      <td>fwdbtn</td>\n",
       "      <td>False</td>\n",
       "      <td>skipped</td>\n",
       "      <td>False</td>\n",
       "      <td>37.5503</td>\n",
       "      <td>-77.3942</td>\n",
       "      <td>Virginia</td>\n",
       "      <td>00:00</td>\n",
       "      <td>2023</td>\n",
       "      <td>8</td>\n",
       "      <td>2</td>\n",
       "      <td>12</td>\n",
       "      <td>2.000000</td>\n",
       "      <td>very likely to be skipped</td>\n",
       "      <td>6.0</td>\n",
       "      <td>Low Frequency</td>\n",
       "    </tr>\n",
       "    <tr>\n",
       "      <th>60509</th>\n",
       "      <td>60728</td>\n",
       "      <td>173282</td>\n",
       "      <td>2023-08-23 12:19:29</td>\n",
       "      <td>ios</td>\n",
       "      <td>1280</td>\n",
       "      <td>US</td>\n",
       "      <td>Wake Me Up Before You Go-Go</td>\n",
       "      <td>Wham!</td>\n",
       "      <td>Make It Big</td>\n",
       "      <td>spotify:track:0ikz6tENMONtK6qGkOrU3c</td>\n",
       "      <td>None</td>\n",
       "      <td>None</td>\n",
       "      <td>None</td>\n",
       "      <td>fwdbtn</td>\n",
       "      <td>fwdbtn</td>\n",
       "      <td>False</td>\n",
       "      <td>skipped</td>\n",
       "      <td>False</td>\n",
       "      <td>37.5503</td>\n",
       "      <td>-77.3942</td>\n",
       "      <td>Virginia</td>\n",
       "      <td>00:01</td>\n",
       "      <td>2023</td>\n",
       "      <td>8</td>\n",
       "      <td>2</td>\n",
       "      <td>12</td>\n",
       "      <td>2.000000</td>\n",
       "      <td>very likely to be skipped</td>\n",
       "      <td>6.0</td>\n",
       "      <td>Low Frequency</td>\n",
       "    </tr>\n",
       "    <tr>\n",
       "      <th>60510</th>\n",
       "      <td>60729</td>\n",
       "      <td>173283</td>\n",
       "      <td>2023-08-23 12:19:30</td>\n",
       "      <td>ios</td>\n",
       "      <td>1450</td>\n",
       "      <td>US</td>\n",
       "      <td>Our House</td>\n",
       "      <td>Madness</td>\n",
       "      <td>Madness</td>\n",
       "      <td>spotify:track:1qV6e4ITnfGmA6m6Vklvbi</td>\n",
       "      <td>None</td>\n",
       "      <td>None</td>\n",
       "      <td>None</td>\n",
       "      <td>fwdbtn</td>\n",
       "      <td>fwdbtn</td>\n",
       "      <td>False</td>\n",
       "      <td>skipped</td>\n",
       "      <td>False</td>\n",
       "      <td>37.5503</td>\n",
       "      <td>-77.3942</td>\n",
       "      <td>Virginia</td>\n",
       "      <td>00:01</td>\n",
       "      <td>2023</td>\n",
       "      <td>8</td>\n",
       "      <td>2</td>\n",
       "      <td>12</td>\n",
       "      <td>0.472222</td>\n",
       "      <td>unlikely to be skipped</td>\n",
       "      <td>83.0</td>\n",
       "      <td>Highest Frequency</td>\n",
       "    </tr>\n",
       "  </tbody>\n",
       "</table>\n",
       "<p>60511 rows × 30 columns</p>\n",
       "</div>"
      ],
      "text/plain": [
       "       level_0   index                  ts             platform  ms_played  \\\n",
       "0            0       1 2012-07-17 22:26:20  iOS 5.1.1 (iPod4,1)      25727   \n",
       "1            1       2 2012-07-17 22:26:23  iOS 5.1.1 (iPod4,1)       3436   \n",
       "2            2       3 2012-07-17 22:26:24  iOS 5.1.1 (iPod4,1)       1532   \n",
       "3            3       4 2012-07-17 22:26:26  iOS 5.1.1 (iPod4,1)       1486   \n",
       "4            4       5 2012-07-17 22:26:27  iOS 5.1.1 (iPod4,1)       1346   \n",
       "...        ...     ...                 ...                  ...        ...   \n",
       "60506    60725  173279 2023-08-23 12:19:25                  ios       1322   \n",
       "60507    60726  173280 2023-08-23 12:19:26                  ios        917   \n",
       "60508    60727  173281 2023-08-23 12:19:27                  ios        960   \n",
       "60509    60728  173282 2023-08-23 12:19:29                  ios       1280   \n",
       "60510    60729  173283 2023-08-23 12:19:30                  ios       1450   \n",
       "\n",
       "      conn_country                         master_metadata_track_name  \\\n",
       "0               US                         Jump (feat. Nelly Furtado)   \n",
       "1               US                    I Know You Want Me (Calle Ocho)   \n",
       "2               US                                      Over And Over   \n",
       "3               US                                              Pause   \n",
       "4               US  I Can Only Imagine (feat. Chris Brown & Lil Wa...   \n",
       "...            ...                                                ...   \n",
       "60506           US                  You Spin Me Round (Like a Record)   \n",
       "60507           US                                      Like a Virgin   \n",
       "60508           US                            Never Gonna Give You Up   \n",
       "60509           US                        Wake Me Up Before You Go-Go   \n",
       "60510           US                                          Our House   \n",
       "\n",
       "      master_metadata_album_artist_name  \\\n",
       "0                              Flo Rida   \n",
       "1                               Pitbull   \n",
       "2                                 Nelly   \n",
       "3                               Pitbull   \n",
       "4                          David Guetta   \n",
       "...                                 ...   \n",
       "60506                     Dead Or Alive   \n",
       "60507                           Madonna   \n",
       "60508                       Rick Astley   \n",
       "60509                             Wham!   \n",
       "60510                           Madness   \n",
       "\n",
       "                    master_metadata_album_album_name  \\\n",
       "0      R.O.O.T.S. (Route of Overcoming the Struggle)   \n",
       "1                     Pitbull Starring In Rebelution   \n",
       "2                                             6 Pack   \n",
       "3                        Planet Pit (Deluxe Version)   \n",
       "4                               Nothing But The Beat   \n",
       "...                                              ...   \n",
       "60506                            Evolution: The Hits   \n",
       "60507                                  Like a Virgin   \n",
       "60508                     Whenever You Need Somebody   \n",
       "60509                                    Make It Big   \n",
       "60510                                        Madness   \n",
       "\n",
       "                          spotify_track_uri episode_name episode_show_name  \\\n",
       "0      spotify:track:4uGucgzv0ydi35DgAlsTQ4          NaN               NaN   \n",
       "1      spotify:track:5RzFJd6W40SDTyZkX6xx45          NaN               NaN   \n",
       "2      spotify:track:2Gfr96HuhYqGcteLv9XUJP          NaN               NaN   \n",
       "3      spotify:track:0c7wqpBLOTFr1yb70LHGFM          NaN               NaN   \n",
       "4      spotify:track:3y1BByn0QkxexLBkiqBT7R          NaN               NaN   \n",
       "...                                     ...          ...               ...   \n",
       "60506  spotify:track:1ChulFMnwxoD74Me8eX2TU         None              None   \n",
       "60507  spotify:track:1ZPlNanZsJSPK5h9YZZFbZ         None              None   \n",
       "60508  spotify:track:4cOdK2wGLETKBW3PvgPWqT         None              None   \n",
       "60509  spotify:track:0ikz6tENMONtK6qGkOrU3c         None              None   \n",
       "60510  spotify:track:1qV6e4ITnfGmA6m6Vklvbi         None              None   \n",
       "\n",
       "      spotify_episode_uri reason_start reason_end  shuffle skipped_x  offline  \\\n",
       "0                     NaN      unknown     fwdbtn    False   skipped    False   \n",
       "1                     NaN       fwdbtn     fwdbtn    False   skipped    False   \n",
       "2                     NaN       fwdbtn     fwdbtn    False   skipped    False   \n",
       "3                     NaN       fwdbtn     fwdbtn    False   skipped    False   \n",
       "4                     NaN       fwdbtn     fwdbtn    False   skipped    False   \n",
       "...                   ...          ...        ...      ...       ...      ...   \n",
       "60506                None       fwdbtn     fwdbtn    False   skipped    False   \n",
       "60507                None       fwdbtn     fwdbtn    False   skipped    False   \n",
       "60508                None       fwdbtn     fwdbtn    False   skipped    False   \n",
       "60509                None       fwdbtn     fwdbtn    False   skipped    False   \n",
       "60510                None       fwdbtn     fwdbtn    False   skipped    False   \n",
       "\n",
       "       latitude  longitude        region minutes_seconds  year  month  \\\n",
       "0       40.1678   -80.2591  Pennsylvania           00:25  2012      7   \n",
       "1       40.1678   -80.2591  Pennsylvania           00:03  2012      7   \n",
       "2       40.1678   -80.2591  Pennsylvania           00:01  2012      7   \n",
       "3       40.1678   -80.2591  Pennsylvania           00:01  2012      7   \n",
       "4       40.1678   -80.2591  Pennsylvania           00:01  2012      7   \n",
       "...         ...        ...           ...             ...   ...    ...   \n",
       "60506   37.5503   -77.3942      Virginia           00:01  2023      8   \n",
       "60507   37.5503   -77.3942      Virginia           00:00  2023      8   \n",
       "60508   37.5503   -77.3942      Virginia           00:00  2023      8   \n",
       "60509   37.5503   -77.3942      Virginia           00:01  2023      8   \n",
       "60510   37.5503   -77.3942      Virginia           00:01  2023      8   \n",
       "\n",
       "       day_of_week  hour_of_day  skipped_ratio                  skip_prob  \\\n",
       "0                1           22            NaN                     fwdbtn   \n",
       "1                1           22       2.000000  very likely to be skipped   \n",
       "2                1           22            NaN                     fwdbtn   \n",
       "3                1           22            NaN                     fwdbtn   \n",
       "4                1           22            NaN                     fwdbtn   \n",
       "...            ...          ...            ...                        ...   \n",
       "60506            2           12       1.000000       likely to be skipped   \n",
       "60507            2           12            inf  very likely to be skipped   \n",
       "60508            2           12       2.000000  very likely to be skipped   \n",
       "60509            2           12       2.000000  very likely to be skipped   \n",
       "60510            2           12       0.472222     unlikely to be skipped   \n",
       "\n",
       "       count_y listening_frequency  \n",
       "0          1.0    Only Played Once  \n",
       "1          5.0       Low Frequency  \n",
       "2          1.0    Only Played Once  \n",
       "3          1.0    Only Played Once  \n",
       "4          1.0    Only Played Once  \n",
       "...        ...                 ...  \n",
       "60506      2.0       Low Frequency  \n",
       "60507      3.0       Low Frequency  \n",
       "60508      6.0       Low Frequency  \n",
       "60509      6.0       Low Frequency  \n",
       "60510     83.0   Highest Frequency  \n",
       "\n",
       "[60511 rows x 30 columns]"
      ]
     },
     "execution_count": 11,
     "metadata": {},
     "output_type": "execute_result"
    }
   ],
   "source": [
    "df_sub"
   ]
  },
  {
   "cell_type": "code",
   "execution_count": 12,
   "id": "b7ae59b2",
   "metadata": {},
   "outputs": [
    {
     "data": {
      "text/html": [
       "<div>\n",
       "<style scoped>\n",
       "    .dataframe tbody tr th:only-of-type {\n",
       "        vertical-align: middle;\n",
       "    }\n",
       "\n",
       "    .dataframe tbody tr th {\n",
       "        vertical-align: top;\n",
       "    }\n",
       "\n",
       "    .dataframe thead th {\n",
       "        text-align: right;\n",
       "    }\n",
       "</style>\n",
       "<table border=\"1\" class=\"dataframe\">\n",
       "  <thead>\n",
       "    <tr style=\"text-align: right;\">\n",
       "      <th></th>\n",
       "      <th>level_0</th>\n",
       "      <th>index</th>\n",
       "      <th>ms_played</th>\n",
       "      <th>latitude</th>\n",
       "      <th>longitude</th>\n",
       "      <th>year</th>\n",
       "      <th>month</th>\n",
       "      <th>day_of_week</th>\n",
       "      <th>hour_of_day</th>\n",
       "      <th>skipped_ratio</th>\n",
       "      <th>count_y</th>\n",
       "    </tr>\n",
       "  </thead>\n",
       "  <tbody>\n",
       "    <tr>\n",
       "      <th>count</th>\n",
       "      <td>60511.000000</td>\n",
       "      <td>60511.000000</td>\n",
       "      <td>6.051100e+04</td>\n",
       "      <td>60358.000000</td>\n",
       "      <td>60358.000000</td>\n",
       "      <td>60511.000000</td>\n",
       "      <td>60511.000000</td>\n",
       "      <td>60511.000000</td>\n",
       "      <td>60511.000000</td>\n",
       "      <td>5.715900e+04</td>\n",
       "      <td>60511.000000</td>\n",
       "    </tr>\n",
       "    <tr>\n",
       "      <th>mean</th>\n",
       "      <td>30343.876370</td>\n",
       "      <td>96321.050933</td>\n",
       "      <td>2.466733e+04</td>\n",
       "      <td>38.186106</td>\n",
       "      <td>-77.701189</td>\n",
       "      <td>2020.287204</td>\n",
       "      <td>6.750310</td>\n",
       "      <td>2.820396</td>\n",
       "      <td>14.703855</td>\n",
       "      <td>inf</td>\n",
       "      <td>43.129596</td>\n",
       "    </tr>\n",
       "    <tr>\n",
       "      <th>std</th>\n",
       "      <td>17538.651856</td>\n",
       "      <td>49522.119822</td>\n",
       "      <td>6.249238e+04</td>\n",
       "      <td>2.205078</td>\n",
       "      <td>4.987934</td>\n",
       "      <td>1.988729</td>\n",
       "      <td>3.158953</td>\n",
       "      <td>1.960122</td>\n",
       "      <td>6.574897</td>\n",
       "      <td>NaN</td>\n",
       "      <td>34.285182</td>\n",
       "    </tr>\n",
       "    <tr>\n",
       "      <th>min</th>\n",
       "      <td>0.000000</td>\n",
       "      <td>1.000000</td>\n",
       "      <td>0.000000e+00</td>\n",
       "      <td>25.786900</td>\n",
       "      <td>-122.298400</td>\n",
       "      <td>2012.000000</td>\n",
       "      <td>1.000000</td>\n",
       "      <td>0.000000</td>\n",
       "      <td>0.000000</td>\n",
       "      <td>2.631579e-02</td>\n",
       "      <td>1.000000</td>\n",
       "    </tr>\n",
       "    <tr>\n",
       "      <th>25%</th>\n",
       "      <td>15143.500000</td>\n",
       "      <td>55626.500000</td>\n",
       "      <td>9.980000e+02</td>\n",
       "      <td>37.550300</td>\n",
       "      <td>-77.490300</td>\n",
       "      <td>2019.000000</td>\n",
       "      <td>4.000000</td>\n",
       "      <td>1.000000</td>\n",
       "      <td>12.000000</td>\n",
       "      <td>8.000000e-01</td>\n",
       "      <td>15.000000</td>\n",
       "    </tr>\n",
       "    <tr>\n",
       "      <th>50%</th>\n",
       "      <td>30327.000000</td>\n",
       "      <td>97126.000000</td>\n",
       "      <td>1.578000e+03</td>\n",
       "      <td>37.580500</td>\n",
       "      <td>-77.394200</td>\n",
       "      <td>2020.000000</td>\n",
       "      <td>7.000000</td>\n",
       "      <td>3.000000</td>\n",
       "      <td>16.000000</td>\n",
       "      <td>1.416667e+00</td>\n",
       "      <td>37.000000</td>\n",
       "    </tr>\n",
       "    <tr>\n",
       "      <th>75%</th>\n",
       "      <td>45539.500000</td>\n",
       "      <td>140631.500000</td>\n",
       "      <td>6.397000e+03</td>\n",
       "      <td>40.567200</td>\n",
       "      <td>-75.616600</td>\n",
       "      <td>2022.000000</td>\n",
       "      <td>9.000000</td>\n",
       "      <td>5.000000</td>\n",
       "      <td>20.000000</td>\n",
       "      <td>2.800000e+00</td>\n",
       "      <td>64.000000</td>\n",
       "    </tr>\n",
       "    <tr>\n",
       "      <th>max</th>\n",
       "      <td>60729.000000</td>\n",
       "      <td>173283.000000</td>\n",
       "      <td>1.469577e+06</td>\n",
       "      <td>47.914500</td>\n",
       "      <td>-73.431300</td>\n",
       "      <td>2023.000000</td>\n",
       "      <td>12.000000</td>\n",
       "      <td>6.000000</td>\n",
       "      <td>23.000000</td>\n",
       "      <td>inf</td>\n",
       "      <td>190.000000</td>\n",
       "    </tr>\n",
       "  </tbody>\n",
       "</table>\n",
       "</div>"
      ],
      "text/plain": [
       "            level_0          index     ms_played      latitude     longitude  \\\n",
       "count  60511.000000   60511.000000  6.051100e+04  60358.000000  60358.000000   \n",
       "mean   30343.876370   96321.050933  2.466733e+04     38.186106    -77.701189   \n",
       "std    17538.651856   49522.119822  6.249238e+04      2.205078      4.987934   \n",
       "min        0.000000       1.000000  0.000000e+00     25.786900   -122.298400   \n",
       "25%    15143.500000   55626.500000  9.980000e+02     37.550300    -77.490300   \n",
       "50%    30327.000000   97126.000000  1.578000e+03     37.580500    -77.394200   \n",
       "75%    45539.500000  140631.500000  6.397000e+03     40.567200    -75.616600   \n",
       "max    60729.000000  173283.000000  1.469577e+06     47.914500    -73.431300   \n",
       "\n",
       "               year         month   day_of_week   hour_of_day  skipped_ratio  \\\n",
       "count  60511.000000  60511.000000  60511.000000  60511.000000   5.715900e+04   \n",
       "mean    2020.287204      6.750310      2.820396     14.703855            inf   \n",
       "std        1.988729      3.158953      1.960122      6.574897            NaN   \n",
       "min     2012.000000      1.000000      0.000000      0.000000   2.631579e-02   \n",
       "25%     2019.000000      4.000000      1.000000     12.000000   8.000000e-01   \n",
       "50%     2020.000000      7.000000      3.000000     16.000000   1.416667e+00   \n",
       "75%     2022.000000      9.000000      5.000000     20.000000   2.800000e+00   \n",
       "max     2023.000000     12.000000      6.000000     23.000000            inf   \n",
       "\n",
       "            count_y  \n",
       "count  60511.000000  \n",
       "mean      43.129596  \n",
       "std       34.285182  \n",
       "min        1.000000  \n",
       "25%       15.000000  \n",
       "50%       37.000000  \n",
       "75%       64.000000  \n",
       "max      190.000000  "
      ]
     },
     "execution_count": 12,
     "metadata": {},
     "output_type": "execute_result"
    }
   ],
   "source": [
    "df_sub.describe()"
   ]
  },
  {
   "cell_type": "markdown",
   "id": "623e8c73",
   "metadata": {},
   "source": [
    "### Missing Values"
   ]
  },
  {
   "cell_type": "code",
   "execution_count": 13,
   "id": "84208f6e",
   "metadata": {
    "scrolled": true
   },
   "outputs": [
    {
     "data": {
      "text/plain": [
       "level_0                                  0\n",
       "index                                    0\n",
       "ts                                       0\n",
       "platform                                 0\n",
       "ms_played                                0\n",
       "conn_country                             0\n",
       "master_metadata_track_name               0\n",
       "master_metadata_album_artist_name        0\n",
       "master_metadata_album_album_name         0\n",
       "spotify_track_uri                        0\n",
       "episode_name                         60511\n",
       "episode_show_name                    60511\n",
       "spotify_episode_uri                  60511\n",
       "reason_start                             0\n",
       "reason_end                               0\n",
       "shuffle                                  0\n",
       "skipped_x                                0\n",
       "offline                                  0\n",
       "latitude                               153\n",
       "longitude                              153\n",
       "region                                   0\n",
       "minutes_seconds                          0\n",
       "year                                     0\n",
       "month                                    0\n",
       "day_of_week                              0\n",
       "hour_of_day                              0\n",
       "skipped_ratio                         3352\n",
       "skip_prob                                0\n",
       "count_y                                  0\n",
       "listening_frequency                      0\n",
       "dtype: int64"
      ]
     },
     "execution_count": 13,
     "metadata": {},
     "output_type": "execute_result"
    }
   ],
   "source": [
    "df_sub.isnull().sum()\n",
    "\n",
    "# missing values are all explainable and do not need to be addressed"
   ]
  },
  {
   "cell_type": "markdown",
   "id": "a86b5a2e",
   "metadata": {},
   "source": [
    "### track names and episode names are complementary and denote a difference between music and podcasts"
   ]
  },
  {
   "cell_type": "markdown",
   "id": "6a721d70",
   "metadata": {},
   "source": [
    "### latitude and longitude missing values are fine becuase we aren't using them as part of the regression"
   ]
  },
  {
   "cell_type": "markdown",
   "id": "93630383",
   "metadata": {},
   "source": [
    "### Skipped ratio missing values provide additional context and can be filtered if needed "
   ]
  },
  {
   "cell_type": "markdown",
   "id": "1fbca918",
   "metadata": {},
   "source": [
    "### skip_prob and count_y were only applied to music tracks"
   ]
  },
  {
   "cell_type": "code",
   "execution_count": 14,
   "id": "eae736e1",
   "metadata": {},
   "outputs": [
    {
     "data": {
      "text/plain": [
       "<seaborn.axisgrid.FacetGrid at 0x7fb1e12c7730>"
      ]
     },
     "execution_count": 14,
     "metadata": {},
     "output_type": "execute_result"
    },
    {
     "data": {
      "image/png": "[encoded data removed]",
      "text/plain": [
       "<Figure size 500x500 with 1 Axes>"
      ]
     },
     "metadata": {},
     "output_type": "display_data"
    }
   ],
   "source": [
    "sns.displot(df_sub['minutes_seconds'], bins=25)"
   ]
  },
  {
   "cell_type": "code",
   "execution_count": 39,
   "id": "a6da646e",
   "metadata": {},
   "outputs": [],
   "source": [
    "# Despite the extreme frequency of low-duration plays, I think I \n",
    "# need to leave this unchanged for now and can revisit after the initial regression"
   ]
  },
  {
   "cell_type": "markdown",
   "id": "a57e2efe",
   "metadata": {},
   "source": [
    "## Duplicates Check "
   ]
  },
  {
   "cell_type": "code",
   "execution_count": 40,
   "id": "3b4e6de1",
   "metadata": {},
   "outputs": [],
   "source": [
    "dups = df_sub.duplicated()"
   ]
  },
  {
   "cell_type": "code",
   "execution_count": 41,
   "id": "7532f27b",
   "metadata": {},
   "outputs": [
    {
     "data": {
      "text/plain": [
       "(60511,)"
      ]
     },
     "execution_count": 41,
     "metadata": {},
     "output_type": "execute_result"
    }
   ],
   "source": [
    "dups.shape # No duplicates "
   ]
  },
  {
   "cell_type": "code",
   "execution_count": 42,
   "id": "975b3cea",
   "metadata": {},
   "outputs": [],
   "source": [
    "df_sub[['minutes', 'seconds']] = df_sub['minutes_seconds'].str.split(':', expand=True)\n"
   ]
  },
  {
   "cell_type": "code",
   "execution_count": 43,
   "id": "70005dc4",
   "metadata": {},
   "outputs": [],
   "source": [
    "df_sub['minutes'] = df_sub['minutes'].astype(int)\n",
    "df_sub['seconds'] = df_sub['seconds'].astype(int)"
   ]
  },
  {
   "cell_type": "code",
   "execution_count": 19,
   "id": "430970eb",
   "metadata": {},
   "outputs": [],
   "source": [
    "df_sub['total_seconds'] = df_sub['minutes'] * 60 + df_sub['seconds']\n"
   ]
  },
  {
   "cell_type": "markdown",
   "id": "f676138f",
   "metadata": {},
   "source": [
    "## 03 Data Prep for regression analysis"
   ]
  },
  {
   "cell_type": "code",
   "execution_count": 20,
   "id": "818a45ec",
   "metadata": {},
   "outputs": [],
   "source": [
    "# Create a scatterplot to plot variables against each other "
   ]
  },
  {
   "cell_type": "code",
   "execution_count": 44,
   "id": "36cc3f56",
   "metadata": {},
   "outputs": [
    {
     "data": {
      "image/png": "[encoded data removed]",
      "text/plain": [
       "<Figure size 640x480 with 1 Axes>"
      ]
     },
     "metadata": {},
     "output_type": "display_data"
    }
   ],
   "source": [
    "df_sub.plot(x = 'count_y', y = 'total_seconds', style='o')\n",
    "plt.title('Count of Times Listened vs Total Time Played (Skipped Tracks)')\n",
    "plt.xlabel('Count of Times Listened')\n",
    "plt.ylabel('Time Played')\n",
    "plt.show()"
   ]
  },
  {
   "cell_type": "markdown",
   "id": "d65f5610",
   "metadata": {},
   "source": [
    "# Hypothesis: As the number of times the song is played increases, the total time played before being skipped decreases"
   ]
  },
  {
   "cell_type": "code",
   "execution_count": 47,
   "id": "e17aa5ec",
   "metadata": {},
   "outputs": [],
   "source": [
    "# Reshape variables into Numpy arrays \n",
    "X = df_sub['count_y'].values.reshape(-1,1)\n",
    "y = df_sub['total_seconds'].values.reshape(-1,1)"
   ]
  },
  {
   "cell_type": "code",
   "execution_count": 48,
   "id": "a36280c8",
   "metadata": {},
   "outputs": [
    {
     "data": {
      "text/plain": [
       "array([[ 1.],\n",
       "       [ 5.],\n",
       "       [ 1.],\n",
       "       ...,\n",
       "       [ 6.],\n",
       "       [ 6.],\n",
       "       [83.]])"
      ]
     },
     "execution_count": 48,
     "metadata": {},
     "output_type": "execute_result"
    }
   ],
   "source": [
    "X"
   ]
  },
  {
   "cell_type": "code",
   "execution_count": 49,
   "id": "be397856",
   "metadata": {},
   "outputs": [
    {
     "data": {
      "text/plain": [
       "array([[25],\n",
       "       [ 3],\n",
       "       [ 1],\n",
       "       ...,\n",
       "       [ 0],\n",
       "       [ 1],\n",
       "       [ 1]])"
      ]
     },
     "execution_count": 49,
     "metadata": {},
     "output_type": "execute_result"
    }
   ],
   "source": [
    "y"
   ]
  },
  {
   "cell_type": "code",
   "execution_count": 50,
   "id": "eb6efb5d",
   "metadata": {},
   "outputs": [],
   "source": [
    "# Split data into a training set and a test set \n",
    "\n",
    "X_train, X_test, y_train, y_test = train_test_split(X,y,test_size=0.3, random_state=0)"
   ]
  },
  {
   "cell_type": "markdown",
   "id": "87a5e74e",
   "metadata": {},
   "source": [
    "# 04 Regression Analysis "
   ]
  },
  {
   "cell_type": "code",
   "execution_count": 51,
   "id": "1cfd00fe",
   "metadata": {},
   "outputs": [],
   "source": [
    "# Create a regression object. \n",
    "regression = LinearRegression()"
   ]
  },
  {
   "cell_type": "code",
   "execution_count": 52,
   "id": "b5d31a63",
   "metadata": {},
   "outputs": [
    {
     "data": {
      "text/html": [
       "<style>#sk-container-id-2 {color: black;background-color: white;}#sk-container-id-2 pre{padding: 0;}#sk-container-id-2 div.sk-toggleable {background-color: white;}#sk-container-id-2 label.sk-toggleable__label {cursor: pointer;display: block;width: 100%;margin-bottom: 0;padding: 0.3em;box-sizing: border-box;text-align: center;}#sk-container-id-2 label.sk-toggleable__label-arrow:before {content: \"▸\";float: left;margin-right: 0.25em;color: #696969;}#sk-container-id-2 label.sk-toggleable__label-arrow:hover:before {color: black;}#sk-container-id-2 div.sk-estimator:hover label.sk-toggleable__label-arrow:before {color: black;}#sk-container-id-2 div.sk-toggleable__content {max-height: 0;max-width: 0;overflow: hidden;text-align: left;background-color: #f0f8ff;}#sk-container-id-2 div.sk-toggleable__content pre {margin: 0.2em;color: black;border-radius: 0.25em;background-color: #f0f8ff;}#sk-container-id-2 input.sk-toggleable__control:checked~div.sk-toggleable__content {max-height: 200px;max-width: 100%;overflow: auto;}#sk-container-id-2 input.sk-toggleable__control:checked~label.sk-toggleable__label-arrow:before {content: \"▾\";}#sk-container-id-2 div.sk-estimator input.sk-toggleable__control:checked~label.sk-toggleable__label {background-color: #d4ebff;}#sk-container-id-2 div.sk-label input.sk-toggleable__control:checked~label.sk-toggleable__label {background-color: #d4ebff;}#sk-container-id-2 input.sk-hidden--visually {border: 0;clip: rect(1px 1px 1px 1px);clip: rect(1px, 1px, 1px, 1px);height: 1px;margin: -1px;overflow: hidden;padding: 0;position: absolute;width: 1px;}#sk-container-id-2 div.sk-estimator {font-family: monospace;background-color: #f0f8ff;border: 1px dotted black;border-radius: 0.25em;box-sizing: border-box;margin-bottom: 0.5em;}#sk-container-id-2 div.sk-estimator:hover {background-color: #d4ebff;}#sk-container-id-2 div.sk-parallel-item::after {content: \"\";width: 100%;border-bottom: 1px solid gray;flex-grow: 1;}#sk-container-id-2 div.sk-label:hover label.sk-toggleable__label {background-color: #d4ebff;}#sk-container-id-2 div.sk-serial::before {content: \"\";position: absolute;border-left: 1px solid gray;box-sizing: border-box;top: 0;bottom: 0;left: 50%;z-index: 0;}#sk-container-id-2 div.sk-serial {display: flex;flex-direction: column;align-items: center;background-color: white;padding-right: 0.2em;padding-left: 0.2em;position: relative;}#sk-container-id-2 div.sk-item {position: relative;z-index: 1;}#sk-container-id-2 div.sk-parallel {display: flex;align-items: stretch;justify-content: center;background-color: white;position: relative;}#sk-container-id-2 div.sk-item::before, #sk-container-id-2 div.sk-parallel-item::before {content: \"\";position: absolute;border-left: 1px solid gray;box-sizing: border-box;top: 0;bottom: 0;left: 50%;z-index: -1;}#sk-container-id-2 div.sk-parallel-item {display: flex;flex-direction: column;z-index: 1;position: relative;background-color: white;}#sk-container-id-2 div.sk-parallel-item:first-child::after {align-self: flex-end;width: 50%;}#sk-container-id-2 div.sk-parallel-item:last-child::after {align-self: flex-start;width: 50%;}#sk-container-id-2 div.sk-parallel-item:only-child::after {width: 0;}#sk-container-id-2 div.sk-dashed-wrapped {border: 1px dashed gray;margin: 0 0.4em 0.5em 0.4em;box-sizing: border-box;padding-bottom: 0.4em;background-color: white;}#sk-container-id-2 div.sk-label label {font-family: monospace;font-weight: bold;display: inline-block;line-height: 1.2em;}#sk-container-id-2 div.sk-label-container {text-align: center;}#sk-container-id-2 div.sk-container {/* jupyter's `normalize.less` sets `[hidden] { display: none; }` but bootstrap.min.css set `[hidden] { display: none !important; }` so we also need the `!important` here to be able to override the default hidden behavior on the sphinx rendered scikit-learn.org. See: https://github.com/scikit-learn/scikit-learn/issues/21755 */display: inline-block !important;position: relative;}#sk-container-id-2 div.sk-text-repr-fallback {display: none;}</style><div id=\"sk-container-id-2\" class=\"sk-top-container\"><div class=\"sk-text-repr-fallback\"><pre>LinearRegression()</pre><b>In a Jupyter environment, please rerun this cell to show the HTML representation or trust the notebook. <br />On GitHub, the HTML representation is unable to render, please try loading this page with nbviewer.org.</b></div><div class=\"sk-container\" hidden><div class=\"sk-item\"><div class=\"sk-estimator sk-toggleable\"><input class=\"sk-toggleable__control sk-hidden--visually\" id=\"sk-estimator-id-2\" type=\"checkbox\" checked><label for=\"sk-estimator-id-2\" class=\"sk-toggleable__label sk-toggleable__label-arrow\">LinearRegression</label><div class=\"sk-toggleable__content\"><pre>LinearRegression()</pre></div></div></div></div></div>"
      ],
      "text/plain": [
       "LinearRegression()"
      ]
     },
     "execution_count": 52,
     "metadata": {},
     "output_type": "execute_result"
    }
   ],
   "source": [
    "# Fit the regression object onto the training set \n",
    "regression.fit(X_train, y_train)"
   ]
  },
  {
   "cell_type": "code",
   "execution_count": 53,
   "id": "0b1d4bd1",
   "metadata": {},
   "outputs": [],
   "source": [
    "# Predict the values of y using X.\n",
    "y_predicted = regression.predict(X_test)"
   ]
  },
  {
   "cell_type": "code",
   "execution_count": 57,
   "id": "5b343104",
   "metadata": {},
   "outputs": [
    {
     "data": {
      "image/png": "[encoded data removed]",
      "text/plain": [
       "<Figure size 640x480 with 1 Axes>"
      ]
     },
     "metadata": {},
     "output_type": "display_data"
    }
   ],
   "source": [
    "# Create a plot that shows the regression line from the model \n",
    "\n",
    "plot_test = plt\n",
    "plot_test.scatter(X_test, y_test, color='gray', s=15)\n",
    "plot_test.plot(X_test, y_predicted, color='red', linewidth=3)\n",
    "plot_test.title('Time Played by Hour of Day (Test Set)')\n",
    "plot_test.xlabel('Hour of Day')\n",
    "plot_test.ylabel('Time Played')\n",
    "plot_test.show()"
   ]
  },
  {
   "cell_type": "markdown",
   "id": "c3a7e55e",
   "metadata": {},
   "source": [
    "# The line doesn't appear to fit the set very well because there are so many outliers, and most of the data is concentrated at a low duration of play time.  Because of that low-duration concentration, the line stays very flat and relatively low, not coming into contact with very many data points "
   ]
  },
  {
   "cell_type": "markdown",
   "id": "15e9cdc2",
   "metadata": {},
   "source": [
    "# 05 Test Set Summary Statistics"
   ]
  },
  {
   "cell_type": "code",
   "execution_count": 60,
   "id": "1df769e2",
   "metadata": {},
   "outputs": [],
   "source": [
    "# Create objects that contain the model summary statistics.\n",
    "\n",
    "rmse = mean_squared_error(y_test, y_predicted) # This is the mean squared error\n",
    "r2 = r2_score(y_test, y_predicted) # This is the R2 score. "
   ]
  },
  {
   "cell_type": "code",
   "execution_count": 61,
   "id": "e823e0e6",
   "metadata": {},
   "outputs": [
    {
     "name": "stdout",
     "output_type": "stream",
     "text": [
      "Slope: [[-0.07443248]]\n",
      "Mean squared error: 4171.678894209125\n",
      "R2 score: 0.0028472803863541785\n"
     ]
    }
   ],
   "source": [
    "print('Slope:' ,regression.coef_)\n",
    "print('Mean squared error:', rmse)\n",
    "print('R2 score:' , r2)"
   ]
  },
  {
   "cell_type": "code",
   "execution_count": 62,
   "id": "6297dff3",
   "metadata": {},
   "outputs": [
    {
     "data": {
      "text/plain": [
       "array([[27.01359649],\n",
       "       [21.28229523],\n",
       "       [24.33402707],\n",
       "       ...,\n",
       "       [26.56700159],\n",
       "       [22.32435001],\n",
       "       [25.30164936]])"
      ]
     },
     "execution_count": 62,
     "metadata": {},
     "output_type": "execute_result"
    }
   ],
   "source": [
    "y_predicted"
   ]
  },
  {
   "cell_type": "code",
   "execution_count": 34,
   "id": "697f28de",
   "metadata": {},
   "outputs": [
    {
     "data": {
      "text/html": [
       "<div>\n",
       "<style scoped>\n",
       "    .dataframe tbody tr th:only-of-type {\n",
       "        vertical-align: middle;\n",
       "    }\n",
       "\n",
       "    .dataframe tbody tr th {\n",
       "        vertical-align: top;\n",
       "    }\n",
       "\n",
       "    .dataframe thead th {\n",
       "        text-align: right;\n",
       "    }\n",
       "</style>\n",
       "<table border=\"1\" class=\"dataframe\">\n",
       "  <thead>\n",
       "    <tr style=\"text-align: right;\">\n",
       "      <th></th>\n",
       "      <th>Actual</th>\n",
       "      <th>Predicted</th>\n",
       "    </tr>\n",
       "  </thead>\n",
       "  <tbody>\n",
       "    <tr>\n",
       "      <th>0</th>\n",
       "      <td>2</td>\n",
       "      <td>27.013596</td>\n",
       "    </tr>\n",
       "    <tr>\n",
       "      <th>1</th>\n",
       "      <td>0</td>\n",
       "      <td>21.282295</td>\n",
       "    </tr>\n",
       "    <tr>\n",
       "      <th>2</th>\n",
       "      <td>89</td>\n",
       "      <td>24.334027</td>\n",
       "    </tr>\n",
       "    <tr>\n",
       "      <th>3</th>\n",
       "      <td>141</td>\n",
       "      <td>24.482892</td>\n",
       "    </tr>\n",
       "    <tr>\n",
       "      <th>4</th>\n",
       "      <td>1</td>\n",
       "      <td>24.334027</td>\n",
       "    </tr>\n",
       "    <tr>\n",
       "      <th>5</th>\n",
       "      <td>0</td>\n",
       "      <td>24.557325</td>\n",
       "    </tr>\n",
       "    <tr>\n",
       "      <th>6</th>\n",
       "      <td>2</td>\n",
       "      <td>26.939164</td>\n",
       "    </tr>\n",
       "    <tr>\n",
       "      <th>7</th>\n",
       "      <td>1</td>\n",
       "      <td>25.078352</td>\n",
       "    </tr>\n",
       "    <tr>\n",
       "      <th>8</th>\n",
       "      <td>0</td>\n",
       "      <td>24.482892</td>\n",
       "    </tr>\n",
       "    <tr>\n",
       "      <th>9</th>\n",
       "      <td>81</td>\n",
       "      <td>23.813000</td>\n",
       "    </tr>\n",
       "    <tr>\n",
       "      <th>10</th>\n",
       "      <td>64</td>\n",
       "      <td>24.929487</td>\n",
       "    </tr>\n",
       "    <tr>\n",
       "      <th>11</th>\n",
       "      <td>0</td>\n",
       "      <td>22.324350</td>\n",
       "    </tr>\n",
       "    <tr>\n",
       "      <th>12</th>\n",
       "      <td>0</td>\n",
       "      <td>23.738567</td>\n",
       "    </tr>\n",
       "    <tr>\n",
       "      <th>13</th>\n",
       "      <td>116</td>\n",
       "      <td>27.162461</td>\n",
       "    </tr>\n",
       "    <tr>\n",
       "      <th>14</th>\n",
       "      <td>0</td>\n",
       "      <td>27.013596</td>\n",
       "    </tr>\n",
       "    <tr>\n",
       "      <th>15</th>\n",
       "      <td>1</td>\n",
       "      <td>19.272618</td>\n",
       "    </tr>\n",
       "    <tr>\n",
       "      <th>16</th>\n",
       "      <td>0</td>\n",
       "      <td>24.110730</td>\n",
       "    </tr>\n",
       "    <tr>\n",
       "      <th>17</th>\n",
       "      <td>1</td>\n",
       "      <td>22.770945</td>\n",
       "    </tr>\n",
       "    <tr>\n",
       "      <th>18</th>\n",
       "      <td>8</td>\n",
       "      <td>26.343704</td>\n",
       "    </tr>\n",
       "    <tr>\n",
       "      <th>19</th>\n",
       "      <td>1</td>\n",
       "      <td>27.162461</td>\n",
       "    </tr>\n",
       "    <tr>\n",
       "      <th>20</th>\n",
       "      <td>0</td>\n",
       "      <td>26.790299</td>\n",
       "    </tr>\n",
       "    <tr>\n",
       "      <th>21</th>\n",
       "      <td>150</td>\n",
       "      <td>19.719213</td>\n",
       "    </tr>\n",
       "    <tr>\n",
       "      <th>22</th>\n",
       "      <td>0</td>\n",
       "      <td>26.492569</td>\n",
       "    </tr>\n",
       "    <tr>\n",
       "      <th>23</th>\n",
       "      <td>2</td>\n",
       "      <td>25.599379</td>\n",
       "    </tr>\n",
       "    <tr>\n",
       "      <th>24</th>\n",
       "      <td>1</td>\n",
       "      <td>22.175485</td>\n",
       "    </tr>\n",
       "    <tr>\n",
       "      <th>25</th>\n",
       "      <td>149</td>\n",
       "      <td>21.580025</td>\n",
       "    </tr>\n",
       "    <tr>\n",
       "      <th>26</th>\n",
       "      <td>1</td>\n",
       "      <td>21.803323</td>\n",
       "    </tr>\n",
       "    <tr>\n",
       "      <th>27</th>\n",
       "      <td>0</td>\n",
       "      <td>22.845377</td>\n",
       "    </tr>\n",
       "    <tr>\n",
       "      <th>28</th>\n",
       "      <td>1</td>\n",
       "      <td>20.165808</td>\n",
       "    </tr>\n",
       "    <tr>\n",
       "      <th>29</th>\n",
       "      <td>1</td>\n",
       "      <td>20.910133</td>\n",
       "    </tr>\n",
       "  </tbody>\n",
       "</table>\n",
       "</div>"
      ],
      "text/plain": [
       "    Actual  Predicted\n",
       "0        2  27.013596\n",
       "1        0  21.282295\n",
       "2       89  24.334027\n",
       "3      141  24.482892\n",
       "4        1  24.334027\n",
       "5        0  24.557325\n",
       "6        2  26.939164\n",
       "7        1  25.078352\n",
       "8        0  24.482892\n",
       "9       81  23.813000\n",
       "10      64  24.929487\n",
       "11       0  22.324350\n",
       "12       0  23.738567\n",
       "13     116  27.162461\n",
       "14       0  27.013596\n",
       "15       1  19.272618\n",
       "16       0  24.110730\n",
       "17       1  22.770945\n",
       "18       8  26.343704\n",
       "19       1  27.162461\n",
       "20       0  26.790299\n",
       "21     150  19.719213\n",
       "22       0  26.492569\n",
       "23       2  25.599379\n",
       "24       1  22.175485\n",
       "25     149  21.580025\n",
       "26       1  21.803323\n",
       "27       0  22.845377\n",
       "28       1  20.165808\n",
       "29       1  20.910133"
      ]
     },
     "execution_count": 34,
     "metadata": {},
     "output_type": "execute_result"
    }
   ],
   "source": [
    "data = pd.DataFrame({'Actual': y_test.flatten(), 'Predicted': y_predicted.flatten()})\n",
    "data.head(30)"
   ]
  },
  {
   "cell_type": "markdown",
   "id": "5d769946",
   "metadata": {},
   "source": [
    "## Looking at the dataframe above comparing actual values against predicted values, it's very clear that the model did not perform well.  This is due to the bias towards low-duration plays.  Perhaps removing songs with duration less than 15 seconds would allow us to look at the outlying values more clearly "
   ]
  },
  {
   "cell_type": "code",
   "execution_count": 72,
   "id": "942a36ff",
   "metadata": {},
   "outputs": [],
   "source": [
    "# Clean the extreme values from the \"Price per Unit\" variable observed during the consistency checks.\n",
    "\n",
    "df_test = df_sub[df_sub['total_seconds'] >= 300] "
   ]
  },
  {
   "cell_type": "code",
   "execution_count": 73,
   "id": "7231a63e",
   "metadata": {},
   "outputs": [
    {
     "data": {
      "text/plain": [
       "<seaborn.axisgrid.FacetGrid at 0x7fb1d1d1bb20>"
      ]
     },
     "execution_count": 73,
     "metadata": {},
     "output_type": "execute_result"
    },
    {
     "data": {
      "image/png": "[encoded data removed]",
      "text/plain": [
       "<Figure size 500x500 with 1 Axes>"
      ]
     },
     "metadata": {},
     "output_type": "display_data"
    }
   ],
   "source": [
    "sns.displot(df_test['total_seconds'], bins=25)"
   ]
  },
  {
   "cell_type": "code",
   "execution_count": 74,
   "id": "5deaa3db",
   "metadata": {},
   "outputs": [
    {
     "data": {
      "image/png": "[encoded data removed]",
      "text/plain": [
       "<Figure size 640x480 with 1 Axes>"
      ]
     },
     "metadata": {},
     "output_type": "display_data"
    }
   ],
   "source": [
    "df_test.plot(x = 'count_y', y = 'total_seconds', style='o')\n",
    "plt.title('Count of Times Listened vs Total Time Played (Skipped Tracks)')\n",
    "plt.xlabel('Count of Times Listened')\n",
    "plt.ylabel('Time Played')\n",
    "plt.show()"
   ]
  },
  {
   "cell_type": "code",
   "execution_count": 75,
   "id": "99da2fab",
   "metadata": {},
   "outputs": [],
   "source": [
    "# Reshape again.\n",
    "\n",
    "X_2 = df_test['count_y'].values.reshape(-1,1)\n",
    "y_2 = df_test['total_seconds'].values.reshape(-1,1)"
   ]
  },
  {
   "cell_type": "code",
   "execution_count": 76,
   "id": "6ef98ad4",
   "metadata": {},
   "outputs": [],
   "source": [
    "X_train_2, X_test_2, y_train_2, y_test_2 = train_test_split(X_2, y_2, test_size=0.3, random_state=0)"
   ]
  },
  {
   "cell_type": "code",
   "execution_count": 77,
   "id": "7909482b",
   "metadata": {},
   "outputs": [
    {
     "data": {
      "text/html": [
       "<style>#sk-container-id-3 {color: black;background-color: white;}#sk-container-id-3 pre{padding: 0;}#sk-container-id-3 div.sk-toggleable {background-color: white;}#sk-container-id-3 label.sk-toggleable__label {cursor: pointer;display: block;width: 100%;margin-bottom: 0;padding: 0.3em;box-sizing: border-box;text-align: center;}#sk-container-id-3 label.sk-toggleable__label-arrow:before {content: \"▸\";float: left;margin-right: 0.25em;color: #696969;}#sk-container-id-3 label.sk-toggleable__label-arrow:hover:before {color: black;}#sk-container-id-3 div.sk-estimator:hover label.sk-toggleable__label-arrow:before {color: black;}#sk-container-id-3 div.sk-toggleable__content {max-height: 0;max-width: 0;overflow: hidden;text-align: left;background-color: #f0f8ff;}#sk-container-id-3 div.sk-toggleable__content pre {margin: 0.2em;color: black;border-radius: 0.25em;background-color: #f0f8ff;}#sk-container-id-3 input.sk-toggleable__control:checked~div.sk-toggleable__content {max-height: 200px;max-width: 100%;overflow: auto;}#sk-container-id-3 input.sk-toggleable__control:checked~label.sk-toggleable__label-arrow:before {content: \"▾\";}#sk-container-id-3 div.sk-estimator input.sk-toggleable__control:checked~label.sk-toggleable__label {background-color: #d4ebff;}#sk-container-id-3 div.sk-label input.sk-toggleable__control:checked~label.sk-toggleable__label {background-color: #d4ebff;}#sk-container-id-3 input.sk-hidden--visually {border: 0;clip: rect(1px 1px 1px 1px);clip: rect(1px, 1px, 1px, 1px);height: 1px;margin: -1px;overflow: hidden;padding: 0;position: absolute;width: 1px;}#sk-container-id-3 div.sk-estimator {font-family: monospace;background-color: #f0f8ff;border: 1px dotted black;border-radius: 0.25em;box-sizing: border-box;margin-bottom: 0.5em;}#sk-container-id-3 div.sk-estimator:hover {background-color: #d4ebff;}#sk-container-id-3 div.sk-parallel-item::after {content: \"\";width: 100%;border-bottom: 1px solid gray;flex-grow: 1;}#sk-container-id-3 div.sk-label:hover label.sk-toggleable__label {background-color: #d4ebff;}#sk-container-id-3 div.sk-serial::before {content: \"\";position: absolute;border-left: 1px solid gray;box-sizing: border-box;top: 0;bottom: 0;left: 50%;z-index: 0;}#sk-container-id-3 div.sk-serial {display: flex;flex-direction: column;align-items: center;background-color: white;padding-right: 0.2em;padding-left: 0.2em;position: relative;}#sk-container-id-3 div.sk-item {position: relative;z-index: 1;}#sk-container-id-3 div.sk-parallel {display: flex;align-items: stretch;justify-content: center;background-color: white;position: relative;}#sk-container-id-3 div.sk-item::before, #sk-container-id-3 div.sk-parallel-item::before {content: \"\";position: absolute;border-left: 1px solid gray;box-sizing: border-box;top: 0;bottom: 0;left: 50%;z-index: -1;}#sk-container-id-3 div.sk-parallel-item {display: flex;flex-direction: column;z-index: 1;position: relative;background-color: white;}#sk-container-id-3 div.sk-parallel-item:first-child::after {align-self: flex-end;width: 50%;}#sk-container-id-3 div.sk-parallel-item:last-child::after {align-self: flex-start;width: 50%;}#sk-container-id-3 div.sk-parallel-item:only-child::after {width: 0;}#sk-container-id-3 div.sk-dashed-wrapped {border: 1px dashed gray;margin: 0 0.4em 0.5em 0.4em;box-sizing: border-box;padding-bottom: 0.4em;background-color: white;}#sk-container-id-3 div.sk-label label {font-family: monospace;font-weight: bold;display: inline-block;line-height: 1.2em;}#sk-container-id-3 div.sk-label-container {text-align: center;}#sk-container-id-3 div.sk-container {/* jupyter's `normalize.less` sets `[hidden] { display: none; }` but bootstrap.min.css set `[hidden] { display: none !important; }` so we also need the `!important` here to be able to override the default hidden behavior on the sphinx rendered scikit-learn.org. See: https://github.com/scikit-learn/scikit-learn/issues/21755 */display: inline-block !important;position: relative;}#sk-container-id-3 div.sk-text-repr-fallback {display: none;}</style><div id=\"sk-container-id-3\" class=\"sk-top-container\"><div class=\"sk-text-repr-fallback\"><pre>LinearRegression()</pre><b>In a Jupyter environment, please rerun this cell to show the HTML representation or trust the notebook. <br />On GitHub, the HTML representation is unable to render, please try loading this page with nbviewer.org.</b></div><div class=\"sk-container\" hidden><div class=\"sk-item\"><div class=\"sk-estimator sk-toggleable\"><input class=\"sk-toggleable__control sk-hidden--visually\" id=\"sk-estimator-id-3\" type=\"checkbox\" checked><label for=\"sk-estimator-id-3\" class=\"sk-toggleable__label sk-toggleable__label-arrow\">LinearRegression</label><div class=\"sk-toggleable__content\"><pre>LinearRegression()</pre></div></div></div></div></div>"
      ],
      "text/plain": [
       "LinearRegression()"
      ]
     },
     "execution_count": 77,
     "metadata": {},
     "output_type": "execute_result"
    }
   ],
   "source": [
    "# Run and fit the regression.\n",
    "\n",
    "regression = LinearRegression()  \n",
    "regression.fit(X_train_2, y_train_2)"
   ]
  },
  {
   "cell_type": "code",
   "execution_count": 78,
   "id": "f7ff2d62",
   "metadata": {},
   "outputs": [],
   "source": [
    "# Predict.\n",
    "\n",
    "y_predicted_2 = regression.predict(X_test_2)"
   ]
  },
  {
   "cell_type": "code",
   "execution_count": 79,
   "id": "ff9d98d2",
   "metadata": {},
   "outputs": [],
   "source": [
    "rmse = mean_squared_error(y_test_2, y_predicted_2)\n",
    "r2 = r2_score(y_test_2, y_predicted_2)"
   ]
  },
  {
   "cell_type": "code",
   "execution_count": 80,
   "id": "8ea35d7e",
   "metadata": {},
   "outputs": [
    {
     "name": "stdout",
     "output_type": "stream",
     "text": [
      "Slope: [[-0.09911969]]\n",
      "Mean squared error:  22368.86461024771\n",
      "R2 score:  -0.008927627018554762\n"
     ]
    }
   ],
   "source": [
    "print('Slope:' ,regression.coef_)\n",
    "print('Mean squared error: ', rmse)\n",
    "print('R2 score: ', r2)"
   ]
  },
  {
   "cell_type": "code",
   "execution_count": 81,
   "id": "9d8f3767",
   "metadata": {},
   "outputs": [
    {
     "data": {
      "image/png": "[encoded data removed]",
      "text/plain": [
       "<Figure size 640x480 with 1 Axes>"
      ]
     },
     "metadata": {},
     "output_type": "display_data"
    }
   ],
   "source": [
    "# Visualizing the test set results.\n",
    "plot_test = plt\n",
    "plot_test.scatter(X_test_2, y_test_2, color='gray', s = 15)\n",
    "plot_test.plot(X_test_2, y_predicted_2, color='red', linewidth =3)\n",
    "plot_test.title('Count of Times Listened vs Total Time Played (Skipped Tracks) Test Set > 200 Seconds')\n",
    "plot_test.xlabel('Count of Times Listened')\n",
    "plot_test.ylabel('Total Time Played')\n",
    "plot_test.show()"
   ]
  },
  {
   "cell_type": "markdown",
   "id": "b2c77237",
   "metadata": {},
   "source": [
    "# Removing the bias toward lower listening duration actually made the model worse, with a negative R2 value, meaning that this line fits worse than a horizontal line.  "
   ]
  },
  {
   "cell_type": "code",
   "execution_count": null,
   "id": "daecf68e",
   "metadata": {},
   "outputs": [],
   "source": []
  }
 ],
 "metadata": {
  "kernelspec": {
   "display_name": "Python 3 (ipykernel)",
   "language": "python",
   "name": "python3"
  },
  "language_info": {
   "codemirror_mode": {
    "name": "ipython",
    "version": 3
   },
   "file_extension": ".py",
   "mimetype": "text/x-python",
   "name": "python",
   "nbconvert_exporter": "python",
   "pygments_lexer": "ipython3",
   "version": "3.10.9"
  }
 },
 "nbformat": 4,
 "nbformat_minor": 5
}
